{
 "cells": [
  {
   "cell_type": "code",
   "execution_count": 1,
   "metadata": {
    "collapsed": true
   },
   "outputs": [],
   "source": [
    "%matplotlib inline\n",
    "\n",
    "import warnings; warnings.simplefilter('ignore')"
   ]
  },
  {
   "cell_type": "code",
   "execution_count": 2,
   "metadata": {
    "collapsed": true
   },
   "outputs": [],
   "source": [
    "import pandas as pd\n",
    "import os\n",
    "from functools import reduce\n",
    "import matplotlib.pyplot as plt\n",
    "import numpy as np\n",
    "from scipy.stats.stats import pearsonr\n",
    "from scipy import stats\n",
    "from scipy.stats import ks_2samp\n",
    "from scipy.stats import entropy\n",
    "from scipy.stats import norm\n",
    "from scipy.stats import lognorm\n",
    "from scipy.stats import nbinom\n",
    "from scipy.stats.mstats import gmean\n",
    "\n",
    "import statsmodels.api as sm\n",
    "lowess = sm.nonparametric.lowess\n",
    "import math\n"
   ]
  },
  {
   "cell_type": "code",
   "execution_count": 156,
   "metadata": {
    "collapsed": true
   },
   "outputs": [],
   "source": [
    "# \n",
    "# Input data are in individual tab-delimited files, one for each experiment\n",
    "# Here I load each one into its own Pandas dataframe and create a list of frames\n",
    "#\n",
    "\n",
    "frames = []\n",
    "\n",
    "for file in os.listdir(\"Data\"):\n",
    "    if file.endswith(\".gbgout\"):\n",
    "        filepath = os.path.join(\"Data/\", file)\n",
    "        fs = file.split('_')\n",
    "        name = \"_\".join(fs[0:2])\n",
    "        frames.append(pd.read_csv(filepath, sep=\"\\t\", header = None, names=['Gene',name]))"
   ]
  },
  {
   "cell_type": "code",
   "execution_count": 157,
   "metadata": {
    "collapsed": true
   },
   "outputs": [],
   "source": [
    "#\n",
    "# Combines all of the individual frames into one dataframe, combining on the \"Gene\" column\n",
    "# Column names are the data file\n",
    "#\n",
    "\n",
    "df = reduce(lambda  left,right: pd.merge(left,right,on=['Gene'], how='outer'), frames)"
   ]
  },
  {
   "cell_type": "code",
   "execution_count": 158,
   "metadata": {
    "collapsed": true
   },
   "outputs": [],
   "source": [
    "#\n",
    "# Use only genes starting with \"Y\" which are protein-coding genes\n",
    "# You can come back and revisit this choice later if you want\n",
    "#\n",
    "\n",
    "df = df.loc[df['Gene'].str.startswith('Y')]"
   ]
  },
  {
   "cell_type": "code",
   "execution_count": 159,
   "metadata": {
    "collapsed": true
   },
   "outputs": [],
   "source": [
    "#\n",
    "# Index dataframe on 'Gene'\n",
    "#\n",
    "\n",
    "df = df.set_index('Gene')"
   ]
  },
  {
   "cell_type": "code",
   "execution_count": 160,
   "metadata": {
    "collapsed": true
   },
   "outputs": [],
   "source": [
    "# compute \n",
    "\n",
    "# get all columns\n",
    "\n",
    "colnames = df.columns.get_values()\n",
    "\n",
    "# create an empty matrix to store the correlations in\n",
    "\n",
    "corrdata = np.zeros( (len(colnames),len(colnames)))\n",
    "\n",
    "# loop through the columnames\n",
    "\n",
    "for i1,c1 in enumerate(colnames):\n",
    "    for i2,c2 in enumerate(colnames):\n",
    "        corrdata[i1][i2] = pearsonr(df[c1],df[c2])[0]"
   ]
  },
  {
   "cell_type": "code",
   "execution_count": 9,
   "metadata": {
    "scrolled": false
   },
   "outputs": [
    {
     "data": {
      "image/png": "[encoded data removed]",
      "text/plain": [
       "<matplotlib.figure.Figure at 0x1c1420da58>"
      ]
     },
     "metadata": {},
     "output_type": "display_data"
    }
   ],
   "source": [
    "#\n",
    "# Make a histogram of average correlation values\n",
    "#\n",
    "\n",
    "corrmeans = []\n",
    "for i1,c1 in enumerate(corrdata):\n",
    "    corrmeans.append(np.mean(c1))\n",
    "\n",
    "hist = plt.hist(corrmeans, bins=np.arange(0.5,1.0,.025))"
   ]
  },
  {
   "cell_type": "code",
   "execution_count": 10,
   "metadata": {},
   "outputs": [
    {
     "name": "stdout",
     "output_type": "stream",
     "text": [
      "Removing  Snf2_rep35 0.932471392569\n",
      "Removing  WT_rep28 0.891720439048\n",
      "Removing  Snf2_rep13 0.803427905697\n",
      "Removing  WT_rep25 0.86363576014\n",
      "Removing  WT_rep21 0.764104671143\n",
      "Removing  WT_rep22 0.933839516889\n",
      "Removing  Snf2_rep06 0.691487784223\n"
     ]
    }
   ],
   "source": [
    "colnames_filt = []\n",
    "for c1 in colnames:\n",
    "    d = []\n",
    "    for c2 in colnames:\n",
    "        d.append(pearsonr(df[c1],df[c2])[0])\n",
    "    d = np.array(d)\n",
    "    if np.mean(d) < 0.95:\n",
    "        print (\"Removing \",c1,np.mean(d))\n",
    "    else:\n",
    "        colnames_filt.append(c1)\n",
    "        \n",
    "colnames = colnames_filt"
   ]
  },
  {
   "cell_type": "code",
   "execution_count": 161,
   "metadata": {},
   "outputs": [],
   "source": [
    "# now create lists for WT and Snf2 so we can start comparing them\n",
    "\n",
    "colnames_snf2 = []\n",
    "colnames_WT = []\n",
    "colnames_all = []\n",
    "\n",
    "for c in colnames:\n",
    "    if c.startswith(\"Snf2\"):\n",
    "        colnames_snf2.append(c)\n",
    "        colnames_all.append(c)\n",
    "    elif c.startswith(\"WT\"):\n",
    "        colnames_WT.append(c)\n",
    "        colnames_all.append(c)"
   ]
  },
  {
   "cell_type": "code",
   "execution_count": 15,
   "metadata": {
    "collapsed": true
   },
   "outputs": [],
   "source": [
    "#\n",
    "# time to relook at normalization\n",
    "#"
   ]
  },
  {
   "cell_type": "code",
   "execution_count": 162,
   "metadata": {
    "collapsed": true
   },
   "outputs": [],
   "source": [
    "# create dummy reference = geometric mean across data\n",
    "\n",
    "df['Gmean'] = gmean(df.loc[:,colnames_all],axis=1)\n",
    "\n",
    "colnorm = {}\n",
    "\n",
    "for c in colnames:\n",
    "    colnorm[c] = np.median((df[c]/df['Gmean']).replace([np.inf, -np.inf], np.nan).dropna())\n",
    "    \n",
    "for c in colnames:\n",
    "    df[c] = df[c]/colnorm[c]"
   ]
  },
  {
   "cell_type": "code",
   "execution_count": 163,
   "metadata": {
    "collapsed": true
   },
   "outputs": [],
   "source": [
    "# create new columns that are averages\n",
    "\n",
    "df['WT_ave'] = df[colnames_WT].mean(axis=1)\n",
    "df['WT_var'] = df[colnames_WT].var(axis=1)\n",
    "df['WT_sum'] = df[colnames_WT].sum(axis=1)\n",
    "df['WT_std'] = df[colnames_WT].std(axis=1)\n",
    "\n",
    "df['Snf2_ave'] = df[colnames_snf2].mean(axis=1)\n",
    "df['Snf2_var'] = df[colnames_snf2].var(axis=1)\n",
    "df['Snf2_sum'] = df[colnames_snf2].sum(axis=1)\n",
    "df['Snf2_std'] = df[colnames_snf2].std(axis=1)\n",
    "\n",
    "df['ave'] = df[colnames_all].mean(axis=1)\n",
    "df['var'] = df[colnames_all].var(axis=1)\n",
    "df['sum'] = df[colnames_all].sum(axis=1)\n",
    "df['std'] = df[colnames_all].std(axis=1)"
   ]
  },
  {
   "cell_type": "code",
   "execution_count": 164,
   "metadata": {
    "collapsed": true
   },
   "outputs": [],
   "source": [
    "# now do lowess regression on variance\n",
    "\n",
    "x = np.log(df['ave'])\n",
    "y = np.log(df['var'])\n",
    "df['var_low'] = np.exp(lowess(y,x,return_sorted = False))"
   ]
  },
  {
   "cell_type": "code",
   "execution_count": 165,
   "metadata": {
    "collapsed": true
   },
   "outputs": [],
   "source": [
    "n1 = float(len(colnames_WT))\n",
    "n2 = float(len(colnames_snf2))\n",
    "\n",
    "df['z_score'] = ((df[colnames_WT].mean(axis=1) - df[colnames_snf2].mean(axis=1))/np.sqrt((df['var_low']/n1) + (df['var_low']/n2))).fillna(0)"
   ]
  },
  {
   "cell_type": "code",
   "execution_count": 166,
   "metadata": {},
   "outputs": [],
   "source": [
    "df['p_value'] = norm.cdf(df['z_score'])"
   ]
  },
  {
   "cell_type": "code",
   "execution_count": 167,
   "metadata": {},
   "outputs": [],
   "source": [
    "# let's make our cutoff p = .01 with Bonferroni \n",
    "\n",
    "p_cut = .01 / len(df)\n",
    "\n",
    "conditions = [\n",
    "    (df['p_value'] < p_cut),\n",
    "    (df['p_value'] > 1.0 - p_cut)\n",
    "    ]\n",
    "choices = [-1, 1]\n",
    "df['diffex'] =  np.select(conditions, choices, default=0)\n",
    "\n",
    "# diffex is \n",
    "# -1 if significantly downregulated\n",
    "# 0 if unchanged\n",
    "# 1 if significantly upregulated"
   ]
  },
  {
   "cell_type": "code",
   "execution_count": 168,
   "metadata": {},
   "outputs": [
    {
     "data": {
      "text/plain": [
       " 0    4116\n",
       " 1    1357\n",
       "-1    1212\n",
       "Name: diffex, dtype: int64"
      ]
     },
     "execution_count": 168,
     "metadata": {},
     "output_type": "execute_result"
    }
   ],
   "source": [
    "#\n",
    "# look at counts of up and downregulated genes\n",
    "#\n",
    "\n",
    "df['diffex'].value_counts()"
   ]
  },
  {
   "cell_type": "code",
   "execution_count": 169,
   "metadata": {
    "collapsed": true
   },
   "outputs": [],
   "source": [
    "# now lets repeat this for a subsample\n",
    "\n",
    "k = 3\n",
    "\n",
    "colnames_WT_t = list(np.random.choice(colnames_WT,k))\n",
    "colnames_snf2_t = list(np.random.choice(colnames_snf2,k))\n",
    "\n",
    "df['WT_ave_t'] = df[colnames_WT_t].mean(axis=1)\n",
    "df['WT_var_t'] = df[colnames_WT_t].var(axis=1)\n",
    "df['WT_sum_t'] = df[colnames_WT_t].sum(axis=1)\n",
    "\n",
    "\n",
    "df['Snf2_ave_t'] = df[colnames_snf2_t].mean(axis=1)\n",
    "df['Snf2_var_t'] = df[colnames_snf2_t].var(axis=1)\n",
    "df['Snf2_sum_t'] = df[colnames_snf2_t].sum(axis=1)\n",
    "\n",
    "df['ave_t'] = df[colnames_all].mean(axis=1)\n",
    "df['var_t'] = df[colnames_all].var(axis=1)\n",
    "df['sum_t'] = df[colnames_all].sum(axis=1)\n",
    "\n",
    "\n",
    "x = np.log(df['ave_t'])\n",
    "y = np.log(df['var_t'])\n",
    "df['var_t_low'] = np.exp(lowess(y,x,return_sorted = False))\n",
    "\n",
    "n1 = float(len(colnames_WT_t))\n",
    "n2 = float(len(colnames_snf2_t))\n",
    "\n",
    "df['z_score_t'] = ((df['WT_ave_t'] - df['Snf2_ave_t'])/np.sqrt((df['var_t_low']/n1) + (df['var_t_low']/n2))).fillna(0)\n",
    "df['p_value_t'] = norm.cdf(df['z_score_t'])\n",
    "\n",
    "p_cut = .01 / len(df)\n",
    "\n",
    "conditions = [\n",
    "    (df['p_value_t'] < p_cut),\n",
    "    (df['p_value_t'] > (1.0 - p_cut))\n",
    "    ]\n",
    "choices = [-1, 1]\n",
    "df['diffex_t'] =  np.select(conditions, choices, default=0)"
   ]
  },
  {
   "cell_type": "code",
   "execution_count": 170,
   "metadata": {},
   "outputs": [
    {
     "data": {
      "text/plain": [
       " 0    6434\n",
       " 1     204\n",
       "-1      47\n",
       "Name: diffex_t, dtype: int64"
      ]
     },
     "execution_count": 170,
     "metadata": {},
     "output_type": "execute_result"
    }
   ],
   "source": [
    "#\n",
    "# look at counts of up and downregulated genes\n",
    "#\n",
    "\n",
    "df['diffex_t'].value_counts()"
   ]
  },
  {
   "cell_type": "code",
   "execution_count": 171,
   "metadata": {},
   "outputs": [
    {
     "data": {
      "text/html": [
       "<div>\n",
       "<style scoped>\n",
       "    .dataframe tbody tr th:only-of-type {\n",
       "        vertical-align: middle;\n",
       "    }\n",
       "\n",
       "    .dataframe tbody tr th {\n",
       "        vertical-align: top;\n",
       "    }\n",
       "\n",
       "    .dataframe thead th {\n",
       "        text-align: right;\n",
       "    }\n",
       "</style>\n",
       "<table border=\"1\" class=\"dataframe\">\n",
       "  <thead>\n",
       "    <tr style=\"text-align: right;\">\n",
       "      <th></th>\n",
       "      <th>diffex</th>\n",
       "      <th>diffex_t</th>\n",
       "      <th>count</th>\n",
       "    </tr>\n",
       "  </thead>\n",
       "  <tbody>\n",
       "    <tr>\n",
       "      <th>0</th>\n",
       "      <td>-1</td>\n",
       "      <td>-1</td>\n",
       "      <td>46</td>\n",
       "    </tr>\n",
       "    <tr>\n",
       "      <th>1</th>\n",
       "      <td>-1</td>\n",
       "      <td>0</td>\n",
       "      <td>1166</td>\n",
       "    </tr>\n",
       "    <tr>\n",
       "      <th>2</th>\n",
       "      <td>0</td>\n",
       "      <td>-1</td>\n",
       "      <td>1</td>\n",
       "    </tr>\n",
       "    <tr>\n",
       "      <th>3</th>\n",
       "      <td>0</td>\n",
       "      <td>0</td>\n",
       "      <td>4114</td>\n",
       "    </tr>\n",
       "    <tr>\n",
       "      <th>4</th>\n",
       "      <td>0</td>\n",
       "      <td>1</td>\n",
       "      <td>1</td>\n",
       "    </tr>\n",
       "    <tr>\n",
       "      <th>5</th>\n",
       "      <td>1</td>\n",
       "      <td>0</td>\n",
       "      <td>1154</td>\n",
       "    </tr>\n",
       "    <tr>\n",
       "      <th>6</th>\n",
       "      <td>1</td>\n",
       "      <td>1</td>\n",
       "      <td>203</td>\n",
       "    </tr>\n",
       "  </tbody>\n",
       "</table>\n",
       "</div>"
      ],
      "text/plain": [
       "   diffex  diffex_t  count\n",
       "0      -1        -1     46\n",
       "1      -1         0   1166\n",
       "2       0        -1      1\n",
       "3       0         0   4114\n",
       "4       0         1      1\n",
       "5       1         0   1154\n",
       "6       1         1    203"
      ]
     },
     "execution_count": 171,
     "metadata": {},
     "output_type": "execute_result"
    }
   ],
   "source": [
    "#\n",
    "# compare \n",
    "#\n",
    "\n",
    "df.groupby(['diffex','diffex_t']).size().reset_index().rename(columns={0:'count'})"
   ]
  },
  {
   "cell_type": "code",
   "execution_count": 172,
   "metadata": {},
   "outputs": [],
   "source": [
    "# now lets do an experiment\n",
    "# try a bunch of sample sizes \n",
    "# and do several trials for each size\n",
    "\n",
    "sizes = [2,3,5,10,15,20,30,40]\n",
    "trials = 3\n",
    "results = {}\n",
    "\n",
    "for k in sizes:\n",
    "    results[k] = []\n",
    "    for t in range(0,trials):\n",
    "        \n",
    "        colnames_WT_t = list(np.random.choice(colnames_WT,k))\n",
    "        colnames_snf2_t = list(np.random.choice(colnames_snf2,k))\n",
    "\n",
    "        df['WT_ave_t'] = df[colnames_WT_t].mean(axis=1)\n",
    "        df['WT_var_t'] = df[colnames_WT_t].var(axis=1)\n",
    "        df['WT_sum_t'] = df[colnames_WT_t].sum(axis=1)\n",
    "\n",
    "\n",
    "        df['Snf2_ave_t'] = df[colnames_snf2_t].mean(axis=1)\n",
    "        df['Snf2_var_t'] = df[colnames_snf2_t].var(axis=1)\n",
    "        df['Snf2_sum_t'] = df[colnames_snf2_t].sum(axis=1)\n",
    "\n",
    "        df['ave_t'] = df[colnames_all].mean(axis=1)\n",
    "        df['var_t'] = df[colnames_all].var(axis=1)\n",
    "        df['sum_t'] = df[colnames_all].sum(axis=1)\n",
    "\n",
    "\n",
    "        x = np.log(df['ave_t'])\n",
    "        y = np.log(df['var_t'])\n",
    "        df['var_t_low'] = np.exp(lowess(y,x,return_sorted = False))\n",
    "\n",
    "        n1 = float(len(colnames_WT_t))\n",
    "        n2 = float(len(colnames_snf2_t))\n",
    "\n",
    "        df['z_score_t'] = ((df['WT_ave_t'] - df['Snf2_ave_t'])/np.sqrt((df['var_t_low']/n1) + (df['var_t_low']/n2))).fillna(0)\n",
    "        df['p_value_t'] = norm.cdf(df['z_score_t'])\n",
    "\n",
    "        p_cut = .01 / len(df)\n",
    "\n",
    "        conditions = [\n",
    "            (df['p_value_t'] < p_cut),\n",
    "            (df['p_value_t'] > 1.0 - p_cut)\n",
    "            ]\n",
    "        choices = [-1, 1]\n",
    "        df['diffex_t'] =  np.select(conditions, choices, default=0)\n",
    "        \n",
    "        #\n",
    "        # this creates a new dataframe with results \n",
    "        # diffex is call in all samples\n",
    "        # diffex_t is call in subsample\n",
    "        #\n",
    "        \n",
    "        results[k].append(df.groupby(['diffex','diffex_t']).size().reset_index().rename(columns={0:'count'}))"
   ]
  },
  {
   "cell_type": "code",
   "execution_count": 173,
   "metadata": {},
   "outputs": [],
   "source": [
    "# this gets everything out of the results and puts it into a new dataframe\n",
    "\n",
    "si = {-1:'-',0:'0',1:'+'}\n",
    "\n",
    "rdata = []\n",
    "\n",
    "for k in sizes:\n",
    "    for t in range(0,trials):\n",
    "        tot = {-1:0,0:0,1:0}\n",
    "        dyn = {'--':0,'-0':0,'-+':0,\n",
    "               '0-':0,'00':0,'0+':0,\n",
    "               '+-':0,'+0':0,'++':0}\n",
    "        \n",
    "        for i, r in results[k][t].iterrows():\n",
    "            dyn[si[r['diffex']] + si[r['diffex_t']]] = r['count']\n",
    "            tot[r['diffex_t']] += r['count']\n",
    "            \n",
    "        ldata = []\n",
    "        ldata.append(k)\n",
    "        for tk in [-1,0,1]:\n",
    "            ldata.append(tot[tk])\n",
    "        for dk in ['--','-0','-+','0-','00','0+','+-','+0','++']:\n",
    "            ldata.append(dyn[dk])\n",
    "        rdata.append(ldata)\n",
    "        \n",
    "        \n",
    "#\n",
    "# columsn are\n",
    "# k - subsample size\n",
    "# -,0,+ - counts of down, unchanged and up in subsample\n",
    "# the remaining columns are counts of different behaviors comparing two calls\n",
    "# e.g. ++ means up in both, +0 means up in all data but unchanged in subsample\n",
    "\n",
    "rdf = pd.DataFrame(data=rdata,columns=['k','-','0','+','--','-0','-+','0-','00','0+','+-','+0','++'])"
   ]
  },
  {
   "cell_type": "code",
   "execution_count": 174,
   "metadata": {},
   "outputs": [
    {
     "data": {
      "text/plain": [
       "<matplotlib.legend.Legend at 0x1c13f82320>"
      ]
     },
     "execution_count": 174,
     "metadata": {},
     "output_type": "execute_result"
    },
    {
     "data": {
      "image/png": "[encoded data removed]",
      "text/plain": [
       "<matplotlib.figure.Figure at 0x1c13def358>"
      ]
     },
     "metadata": {},
     "output_type": "display_data"
    }
   ],
   "source": [
    "fig, axes = plt.subplots(4,1,figsize=(6,16))\n",
    "\n",
    "sp = 0\n",
    "axes[sp].scatter(rdf['k'],rdf['+'],c='g',label='up')\n",
    "axes[sp].scatter(rdf['k'],rdf['-'],c='r',label='down')\n",
    "axes[sp].set_xlabel('subsample size')\n",
    "axes[sp].set_ylabel('subsample counts')\n",
    "axes[sp].set_xlim(0,50)\n",
    "axes[sp].set_ylim(0,2000)\n",
    "axes[sp].legend(loc='upper left')\n",
    "\n",
    "sp = 1\n",
    "axes[sp].scatter(rdf['k'],rdf['+0'],c='g',label='false negative - up')\n",
    "axes[sp].scatter(rdf['k'],rdf['-0'],c='r',label='false negative - down')\n",
    "axes[sp].set_xlabel('subsample size')\n",
    "axes[sp].set_ylabel('false negative counts')\n",
    "axes[sp].set_xlim(0,50)\n",
    "axes[sp].set_ylim(0,2000)\n",
    "axes[sp].legend(loc='upper left')\n",
    "\n",
    "sp = 2\n",
    "axes[sp].scatter(rdf['k'],rdf['0+'],c='g',label='false positive - up')\n",
    "axes[sp].scatter(rdf['k'],rdf['0-'],c='r',label='false positive - down')\n",
    "axes[sp].set_xlabel('subsample size')\n",
    "axes[sp].set_ylabel('false positive counts')\n",
    "axes[sp].set_xlim(0,50)\n",
    "axes[sp].set_ylim(0,200)\n",
    "axes[sp].legend(loc='upper left')\n",
    "\n",
    "sp = 3\n",
    "axes[sp].scatter(rdf['k'],rdf['+-'],c='g',label='true up, called down')\n",
    "axes[sp].scatter(rdf['k'],rdf['-+'],c='r',label='true down, called up')\n",
    "axes[sp].set_xlabel('subsample size')\n",
    "axes[sp].set_ylabel('error')\n",
    "axes[sp].set_xlim(0,50)\n",
    "axes[sp].set_ylim(0,10)\n",
    "axes[sp].legend(loc='upper left')"
   ]
  },
  {
   "cell_type": "code",
   "execution_count": null,
   "metadata": {
    "collapsed": true
   },
   "outputs": [],
   "source": []
  }
 ],
 "metadata": {
  "anaconda-cloud": {},
  "kernelspec": {
   "display_name": "Python 3",
   "language": "python",
   "name": "python3"
  },
  "language_info": {
   "codemirror_mode": {
    "name": "ipython",
    "version": 3
   },
   "file_extension": ".py",
   "mimetype": "text/x-python",
   "name": "python",
   "nbconvert_exporter": "python",
   "pygments_lexer": "ipython3",
   "version": "3.6.6"
  }
 },
 "nbformat": 4,
 "nbformat_minor": 1
}
