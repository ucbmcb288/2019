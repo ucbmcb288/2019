{
 "cells": [
  {
   "cell_type": "markdown",
   "metadata": {},
   "source": [
    "# Correlations within genes"
   ]
  },
  {
   "cell_type": "code",
   "execution_count": 6,
   "metadata": {},
   "outputs": [],
   "source": [
    "# we will be using a data handling library called pandas\n",
    "# which is basically a python spreadsheet\n",
    "\n",
    "import pandas as pd\n",
    "\n",
    "# this is here to shut off some annoying warnings from pandas\n",
    "pd.options.mode.chained_assignment = None\n",
    "\n",
    "# matplotlib is one of the main plotting libraries we're going to use\n",
    "import matplotlib \n",
    "import matplotlib.pyplot as plt\n",
    "%matplotlib inline\n",
    "\n",
    "\n",
    "# the other plotting library is seaborn - we'll use both during the class\n",
    "\n",
    "import seaborn as sns\n",
    "\n",
    "# numpy and scipy are for handling numerical and scientific data\n",
    "\n",
    "import numpy as np\n",
    "import scipy as sp\n",
    "\n",
    "import statsmodels.formula.api as smf # basic statistical modeling"
   ]
  },
  {
   "cell_type": "markdown",
   "metadata": {},
   "source": [
    "## From last time"
   ]
  },
  {
   "cell_type": "code",
   "execution_count": 200,
   "metadata": {},
   "outputs": [
    {
     "data": {
      "text/html": [
       "<div>\n",
       "<style scoped>\n",
       "    .dataframe tbody tr th:only-of-type {\n",
       "        vertical-align: middle;\n",
       "    }\n",
       "\n",
       "    .dataframe tbody tr th {\n",
       "        vertical-align: top;\n",
       "    }\n",
       "\n",
       "    .dataframe thead th {\n",
       "        text-align: right;\n",
       "    }\n",
       "</style>\n",
       "<table border=\"1\" class=\"dataframe\">\n",
       "  <thead>\n",
       "    <tr style=\"text-align: right;\">\n",
       "      <th></th>\n",
       "      <th>#Replicon Name</th>\n",
       "      <th>Replicon Accession</th>\n",
       "      <th>Start</th>\n",
       "      <th>Stop</th>\n",
       "      <th>Strand</th>\n",
       "      <th>GeneID</th>\n",
       "      <th>Locus</th>\n",
       "      <th>Locus tag</th>\n",
       "      <th>Protein product</th>\n",
       "      <th>Length</th>\n",
       "      <th>COG(s)</th>\n",
       "      <th>Protein name</th>\n",
       "    </tr>\n",
       "  </thead>\n",
       "  <tbody>\n",
       "    <tr>\n",
       "      <th>0</th>\n",
       "      <td>chr</td>\n",
       "      <td>NC_000913.3</td>\n",
       "      <td>190</td>\n",
       "      <td>255</td>\n",
       "      <td>+</td>\n",
       "      <td>944742</td>\n",
       "      <td>thrL</td>\n",
       "      <td>b0001</td>\n",
       "      <td>NP_414542.1</td>\n",
       "      <td>21</td>\n",
       "      <td>-</td>\n",
       "      <td>thr operon leader peptide</td>\n",
       "    </tr>\n",
       "    <tr>\n",
       "      <th>1</th>\n",
       "      <td>chr</td>\n",
       "      <td>NC_000913.3</td>\n",
       "      <td>337</td>\n",
       "      <td>2799</td>\n",
       "      <td>+</td>\n",
       "      <td>945803</td>\n",
       "      <td>thrA</td>\n",
       "      <td>b0002</td>\n",
       "      <td>NP_414543.1</td>\n",
       "      <td>820</td>\n",
       "      <td>-</td>\n",
       "      <td>fused aspartate kinase/homoserine dehydrogenase 1</td>\n",
       "    </tr>\n",
       "    <tr>\n",
       "      <th>2</th>\n",
       "      <td>chr</td>\n",
       "      <td>NC_000913.3</td>\n",
       "      <td>2801</td>\n",
       "      <td>3733</td>\n",
       "      <td>+</td>\n",
       "      <td>947498</td>\n",
       "      <td>thrB</td>\n",
       "      <td>b0003</td>\n",
       "      <td>NP_414544.1</td>\n",
       "      <td>310</td>\n",
       "      <td>-</td>\n",
       "      <td>homoserine kinase</td>\n",
       "    </tr>\n",
       "    <tr>\n",
       "      <th>3</th>\n",
       "      <td>chr</td>\n",
       "      <td>NC_000913.3</td>\n",
       "      <td>3734</td>\n",
       "      <td>5020</td>\n",
       "      <td>+</td>\n",
       "      <td>945198</td>\n",
       "      <td>thrC</td>\n",
       "      <td>b0004</td>\n",
       "      <td>NP_414545.1</td>\n",
       "      <td>428</td>\n",
       "      <td>-</td>\n",
       "      <td>threonine synthase</td>\n",
       "    </tr>\n",
       "    <tr>\n",
       "      <th>4</th>\n",
       "      <td>chr</td>\n",
       "      <td>NC_000913.3</td>\n",
       "      <td>5234</td>\n",
       "      <td>5530</td>\n",
       "      <td>+</td>\n",
       "      <td>944747</td>\n",
       "      <td>yaaX</td>\n",
       "      <td>b0005</td>\n",
       "      <td>NP_414546.1</td>\n",
       "      <td>98</td>\n",
       "      <td>-</td>\n",
       "      <td>DUF2502 domain-containing protein YaaX</td>\n",
       "    </tr>\n",
       "    <tr>\n",
       "      <th>5</th>\n",
       "      <td>chr</td>\n",
       "      <td>NC_000913.3</td>\n",
       "      <td>5683</td>\n",
       "      <td>6459</td>\n",
       "      <td>-</td>\n",
       "      <td>944749</td>\n",
       "      <td>yaaA</td>\n",
       "      <td>b0006</td>\n",
       "      <td>NP_414547.1</td>\n",
       "      <td>258</td>\n",
       "      <td>-</td>\n",
       "      <td>peroxide stress resistance protein YaaA</td>\n",
       "    </tr>\n",
       "    <tr>\n",
       "      <th>6</th>\n",
       "      <td>chr</td>\n",
       "      <td>NC_000913.3</td>\n",
       "      <td>6529</td>\n",
       "      <td>7959</td>\n",
       "      <td>-</td>\n",
       "      <td>944745</td>\n",
       "      <td>yaaJ</td>\n",
       "      <td>b0007</td>\n",
       "      <td>NP_414548.1</td>\n",
       "      <td>476</td>\n",
       "      <td>-</td>\n",
       "      <td>putative transporter YaaJ</td>\n",
       "    </tr>\n",
       "    <tr>\n",
       "      <th>7</th>\n",
       "      <td>chr</td>\n",
       "      <td>NC_000913.3</td>\n",
       "      <td>8238</td>\n",
       "      <td>9191</td>\n",
       "      <td>+</td>\n",
       "      <td>944748</td>\n",
       "      <td>talB</td>\n",
       "      <td>b0008</td>\n",
       "      <td>NP_414549.1</td>\n",
       "      <td>317</td>\n",
       "      <td>-</td>\n",
       "      <td>transaldolase B</td>\n",
       "    </tr>\n",
       "    <tr>\n",
       "      <th>8</th>\n",
       "      <td>chr</td>\n",
       "      <td>NC_000913.3</td>\n",
       "      <td>9306</td>\n",
       "      <td>9893</td>\n",
       "      <td>+</td>\n",
       "      <td>944760</td>\n",
       "      <td>mog</td>\n",
       "      <td>b0009</td>\n",
       "      <td>NP_414550.1</td>\n",
       "      <td>195</td>\n",
       "      <td>-</td>\n",
       "      <td>molybdopterin adenylyltransferase</td>\n",
       "    </tr>\n",
       "    <tr>\n",
       "      <th>9</th>\n",
       "      <td>chr</td>\n",
       "      <td>NC_000913.3</td>\n",
       "      <td>9928</td>\n",
       "      <td>10494</td>\n",
       "      <td>-</td>\n",
       "      <td>944792</td>\n",
       "      <td>satP</td>\n",
       "      <td>b0010</td>\n",
       "      <td>NP_414551.1</td>\n",
       "      <td>188</td>\n",
       "      <td>-</td>\n",
       "      <td>acetate/succinate:H(+) symporter</td>\n",
       "    </tr>\n",
       "  </tbody>\n",
       "</table>\n",
       "</div>"
      ],
      "text/plain": [
       "  #Replicon Name Replicon Accession  Start   Stop Strand  GeneID Locus  \\\n",
       "0            chr        NC_000913.3    190    255      +  944742  thrL   \n",
       "1            chr        NC_000913.3    337   2799      +  945803  thrA   \n",
       "2            chr        NC_000913.3   2801   3733      +  947498  thrB   \n",
       "3            chr        NC_000913.3   3734   5020      +  945198  thrC   \n",
       "4            chr        NC_000913.3   5234   5530      +  944747  yaaX   \n",
       "5            chr        NC_000913.3   5683   6459      -  944749  yaaA   \n",
       "6            chr        NC_000913.3   6529   7959      -  944745  yaaJ   \n",
       "7            chr        NC_000913.3   8238   9191      +  944748  talB   \n",
       "8            chr        NC_000913.3   9306   9893      +  944760   mog   \n",
       "9            chr        NC_000913.3   9928  10494      -  944792  satP   \n",
       "\n",
       "  Locus tag Protein product  Length COG(s)  \\\n",
       "0     b0001     NP_414542.1      21      -   \n",
       "1     b0002     NP_414543.1     820      -   \n",
       "2     b0003     NP_414544.1     310      -   \n",
       "3     b0004     NP_414545.1     428      -   \n",
       "4     b0005     NP_414546.1      98      -   \n",
       "5     b0006     NP_414547.1     258      -   \n",
       "6     b0007     NP_414548.1     476      -   \n",
       "7     b0008     NP_414549.1     317      -   \n",
       "8     b0009     NP_414550.1     195      -   \n",
       "9     b0010     NP_414551.1     188      -   \n",
       "\n",
       "                                        Protein name  \n",
       "0                          thr operon leader peptide  \n",
       "1  fused aspartate kinase/homoserine dehydrogenase 1  \n",
       "2                                  homoserine kinase  \n",
       "3                                 threonine synthase  \n",
       "4             DUF2502 domain-containing protein YaaX  \n",
       "5            peroxide stress resistance protein YaaA  \n",
       "6                          putative transporter YaaJ  \n",
       "7                                    transaldolase B  \n",
       "8                  molybdopterin adenylyltransferase  \n",
       "9                   acetate/succinate:H(+) symporter  "
      ]
     },
     "execution_count": 200,
     "metadata": {},
     "output_type": "execute_result"
    }
   ],
   "source": [
    "# annotation file from NCBI\n",
    "annot = pd.read_csv(\"~/Downloads/E_coli_K12_ProteinTable167_161521.txt\",sep='\\t')\n",
    "annot.head(10)"
   ]
  },
  {
   "cell_type": "code",
   "execution_count": 12,
   "metadata": {},
   "outputs": [
    {
     "data": {
      "text/html": [
       "<div>\n",
       "<style scoped>\n",
       "    .dataframe tbody tr th:only-of-type {\n",
       "        vertical-align: middle;\n",
       "    }\n",
       "\n",
       "    .dataframe tbody tr th {\n",
       "        vertical-align: top;\n",
       "    }\n",
       "\n",
       "    .dataframe thead th {\n",
       "        text-align: right;\n",
       "    }\n",
       "</style>\n",
       "<table border=\"1\" class=\"dataframe\">\n",
       "  <thead>\n",
       "    <tr style=\"text-align: right;\">\n",
       "      <th></th>\n",
       "      <th>&gt;NC_000913.3 Escherichia coli str. K-12 substr. MG1655</th>\n",
       "      <th>complete genome</th>\n",
       "    </tr>\n",
       "  </thead>\n",
       "  <tbody>\n",
       "    <tr>\n",
       "      <th>0</th>\n",
       "      <td>AGCTTTTCATTCTGACTGCAACGGGCAATATGTCTCTGTGTGGATT...</td>\n",
       "      <td>NaN</td>\n",
       "    </tr>\n",
       "    <tr>\n",
       "      <th>1</th>\n",
       "      <td>TTCTGAACTGGTTACCTGCCGTGAGTAAATTAAAATTTTATTGACT...</td>\n",
       "      <td>NaN</td>\n",
       "    </tr>\n",
       "    <tr>\n",
       "      <th>2</th>\n",
       "      <td>TATAGGCATAGCGCACAGACAGATAAAAATTACAGAGTACACAACA...</td>\n",
       "      <td>NaN</td>\n",
       "    </tr>\n",
       "    <tr>\n",
       "      <th>3</th>\n",
       "      <td>ATTACCACCACCATCACCATTACCACAGGTAACGGTGCGGGCTGAC...</td>\n",
       "      <td>NaN</td>\n",
       "    </tr>\n",
       "    <tr>\n",
       "      <th>4</th>\n",
       "      <td>CCCGCACCTGACAGTGCGGGCTTTTTTTTTCGACCAAAGGTAACGA...</td>\n",
       "      <td>NaN</td>\n",
       "    </tr>\n",
       "  </tbody>\n",
       "</table>\n",
       "</div>"
      ],
      "text/plain": [
       "  >NC_000913.3 Escherichia coli str. K-12 substr. MG1655   complete genome\n",
       "0  AGCTTTTCATTCTGACTGCAACGGGCAATATGTCTCTGTGTGGATT...                   NaN\n",
       "1  TTCTGAACTGGTTACCTGCCGTGAGTAAATTAAAATTTTATTGACT...                   NaN\n",
       "2  TATAGGCATAGCGCACAGACAGATAAAAATTACAGAGTACACAACA...                   NaN\n",
       "3  ATTACCACCACCATCACCATTACCACAGGTAACGGTGCGGGCTGAC...                   NaN\n",
       "4  CCCGCACCTGACAGTGCGGGCTTTTTTTTTCGACCAAAGGTAACGA...                   NaN"
      ]
     },
     "execution_count": 12,
     "metadata": {},
     "output_type": "execute_result"
    }
   ],
   "source": [
    "# genome file from NCBI\n",
    "genome_by_line = pd.read_csv(\"~/Downloads/E_coli_K12-sequence.fasta.txt\")\n",
    "genome_by_line.head()"
   ]
  },
  {
   "cell_type": "code",
   "execution_count": 13,
   "metadata": {},
   "outputs": [
    {
     "data": {
      "text/plain": [
       "'AGCTTTTCATTCTGACTGCAACGGGCAATATGTCTCTGTGTGGATTAAAAAAAGAGTGTCTGATAGCAGCTTCTGAACTGGTTACCTGCCGTGAGTAAAT'"
      ]
     },
     "execution_count": 13,
     "metadata": {},
     "output_type": "execute_result"
    }
   ],
   "source": [
    "# convert genome_by_line table into a single genome string\n",
    "genome = \"\"\n",
    "for index, row in genome_by_line.iterrows():\n",
    "    genome = genome + row[0] \n",
    "genome[0:100]"
   ]
  },
  {
   "cell_type": "code",
   "execution_count": 8,
   "metadata": {},
   "outputs": [],
   "source": [
    "# Make a python dictionary of the standard genetic code\n",
    "gencode = {\n",
    "    'ATA':'I', 'ATC':'I', 'ATT':'I', 'ATG':'M',\n",
    "    'ACA':'T', 'ACC':'T', 'ACG':'T', 'ACT':'T',\n",
    "    'AAC':'N', 'AAT':'N', 'AAA':'K', 'AAG':'K',\n",
    "    'AGC':'S', 'AGT':'S', 'AGA':'R', 'AGG':'R',\n",
    "    'CTA':'L', 'CTC':'L', 'CTG':'L', 'CTT':'L',\n",
    "    'CCA':'P', 'CCC':'P', 'CCG':'P', 'CCT':'P',\n",
    "    'CAC':'H', 'CAT':'H', 'CAA':'Q', 'CAG':'Q',\n",
    "    'CGA':'R', 'CGC':'R', 'CGG':'R', 'CGT':'R',\n",
    "    'GTA':'V', 'GTC':'V', 'GTG':'V', 'GTT':'V',\n",
    "    'GCA':'A', 'GCC':'A', 'GCG':'A', 'GCT':'A',\n",
    "    'GAC':'D', 'GAT':'D', 'GAA':'E', 'GAG':'E',\n",
    "    'GGA':'G', 'GGC':'G', 'GGG':'G', 'GGT':'G',\n",
    "    'TCA':'S', 'TCC':'S', 'TCG':'S', 'TCT':'S',\n",
    "    'TTC':'F', 'TTT':'F', 'TTA':'L', 'TTG':'L',\n",
    "    'TAC':'Y', 'TAT':'Y', 'TAA':'_', 'TAG':'_',\n",
    "    'TGC':'C', 'TGT':'C', 'TGA':'_', 'TGG':'W'}"
   ]
  },
  {
   "cell_type": "code",
   "execution_count": 14,
   "metadata": {},
   "outputs": [
    {
     "data": {
      "text/plain": [
       "'I'"
      ]
     },
     "execution_count": 14,
     "metadata": {},
     "output_type": "execute_result"
    }
   ],
   "source": [
    "# this works like a vector, except instead of providing a \n",
    "# numerical index in brackets, use he \"key\" to retrieve the\n",
    "# \"value\"\n",
    "gencode[\"ATA\"]"
   ]
  },
  {
   "cell_type": "code",
   "execution_count": 16,
   "metadata": {},
   "outputs": [
    {
     "data": {
      "text/html": [
       "<div>\n",
       "<style scoped>\n",
       "    .dataframe tbody tr th:only-of-type {\n",
       "        vertical-align: middle;\n",
       "    }\n",
       "\n",
       "    .dataframe tbody tr th {\n",
       "        vertical-align: top;\n",
       "    }\n",
       "\n",
       "    .dataframe thead th {\n",
       "        text-align: right;\n",
       "    }\n",
       "</style>\n",
       "<table border=\"1\" class=\"dataframe\">\n",
       "  <thead>\n",
       "    <tr style=\"text-align: right;\">\n",
       "      <th></th>\n",
       "      <th>#Replicon Name</th>\n",
       "      <th>Replicon Accession</th>\n",
       "      <th>Start</th>\n",
       "      <th>Stop</th>\n",
       "      <th>Strand</th>\n",
       "      <th>GeneID</th>\n",
       "      <th>Locus</th>\n",
       "      <th>Locus tag</th>\n",
       "      <th>Protein product</th>\n",
       "      <th>Length</th>\n",
       "      <th>COG(s)</th>\n",
       "      <th>Protein name</th>\n",
       "    </tr>\n",
       "  </thead>\n",
       "  <tbody>\n",
       "    <tr>\n",
       "      <th>0</th>\n",
       "      <td>chr</td>\n",
       "      <td>NC_000913.3</td>\n",
       "      <td>190</td>\n",
       "      <td>255</td>\n",
       "      <td>+</td>\n",
       "      <td>944742</td>\n",
       "      <td>thrL</td>\n",
       "      <td>b0001</td>\n",
       "      <td>NP_414542.1</td>\n",
       "      <td>21</td>\n",
       "      <td>-</td>\n",
       "      <td>thr operon leader peptide</td>\n",
       "    </tr>\n",
       "  </tbody>\n",
       "</table>\n",
       "</div>"
      ],
      "text/plain": [
       "  #Replicon Name Replicon Accession  Start  Stop Strand  GeneID Locus  \\\n",
       "0            chr        NC_000913.3    190   255      +  944742  thrL   \n",
       "\n",
       "  Locus tag Protein product  Length COG(s)               Protein name  \n",
       "0     b0001     NP_414542.1      21      -  thr operon leader peptide  "
      ]
     },
     "execution_count": 16,
     "metadata": {},
     "output_type": "execute_result"
    }
   ],
   "source": [
    "# retrieve a coding sequence of a gene based on its start and stop\n",
    "# remember the \"off-by-one\"\n",
    "# also remember that by sloppy convention, start/stop refers to \n",
    "# coding sequence, and omits UTR\n",
    "annot.head(1)"
   ]
  },
  {
   "cell_type": "code",
   "execution_count": 17,
   "metadata": {},
   "outputs": [
    {
     "data": {
      "text/plain": [
       "'TGAAACGCATTAGCACCACCATTACCACCACCATCACCATTACCACAGGTAACGGTGCGGGCTGA'"
      ]
     },
     "execution_count": 17,
     "metadata": {},
     "output_type": "execute_result"
    }
   ],
   "source": [
    "# so using \"Start\" puts you one nucleotide into the coding sequence\n",
    "genome[190:255]"
   ]
  },
  {
   "cell_type": "code",
   "execution_count": 20,
   "metadata": {},
   "outputs": [
    {
     "data": {
      "text/plain": [
       "'ATGAAACGCATTAGCACCACCATTACCACCACCATCACCATTACCACAGGTAACGGTGCGGGCTGA'"
      ]
     },
     "execution_count": 20,
     "metadata": {},
     "output_type": "execute_result"
    }
   ],
   "source": [
    "# so we need to subtract one\n",
    "genome[189:255]"
   ]
  },
  {
   "cell_type": "code",
   "execution_count": 206,
   "metadata": {},
   "outputs": [
    {
     "name": "stdout",
     "output_type": "stream",
     "text": [
      "ATGAAACGCATTAGCACCACCATTACCACCACCATCACCATTACCACAGGTAACGGTGCGGGCTGA\n"
     ]
    }
   ],
   "source": [
    "# generalize for gene i\n",
    "i = 0\n",
    "CDS = genome[annot.iloc[i]['Start']-1 : annot.iloc[i]['Stop']]\n",
    "print(CDS)"
   ]
  },
  {
   "cell_type": "code",
   "execution_count": 207,
   "metadata": {},
   "outputs": [
    {
     "name": "stdout",
     "output_type": "stream",
     "text": [
      "66\n"
     ]
    }
   ],
   "source": [
    "# for convenience, lets store the length of the gene\n",
    "CDS_len = annot.iloc[0]['Stop'] - annot.iloc[i]['Start'] + 1\n",
    "print(CDS_len)"
   ]
  },
  {
   "cell_type": "code",
   "execution_count": 208,
   "metadata": {},
   "outputs": [
    {
     "name": "stdout",
     "output_type": "stream",
     "text": [
      "ATG\n",
      "AAA\n",
      "CGC\n",
      "ATT\n",
      "AGC\n",
      "ACC\n",
      "ACC\n",
      "ATT\n",
      "ACC\n",
      "ACC\n",
      "ACC\n",
      "ATC\n",
      "ACC\n",
      "ATT\n",
      "ACC\n",
      "ACA\n",
      "GGT\n",
      "AAC\n",
      "GGT\n",
      "GCG\n",
      "GGC\n",
      "TGA\n"
     ]
    }
   ],
   "source": [
    "# check that we can correctly extract the codons \n",
    "for j in range(0,CDS_len,3):\n",
    "    codon = CDS[j:j+3]\n",
    "    print(codon)"
   ]
  },
  {
   "cell_type": "code",
   "execution_count": 33,
   "metadata": {},
   "outputs": [
    {
     "name": "stdout",
     "output_type": "stream",
     "text": [
      "MKRISTTITTTITITTGNGAG_\n"
     ]
    }
   ],
   "source": [
    "# now combine this to with the genetic code table to \n",
    "# infer the peptide sequence\n",
    "peptide = ''\n",
    "for j in range(0,gene_len,3):\n",
    "    codon = CDS[j:j+3]\n",
    "    peptide = peptide + gencode[codon]\n",
    "print(peptide)"
   ]
  },
  {
   "cell_type": "code",
   "execution_count": 69,
   "metadata": {},
   "outputs": [],
   "source": [
    "# so we can elevate this to a function\n",
    "def translate(CDS):\n",
    "    peptide = ''\n",
    "    for j in range(0,len(CDS),3):\n",
    "        codon = CDS[j:j+3]\n",
    "        peptide = peptide + gencode[codon]\n",
    "    return peptide"
   ]
  },
  {
   "cell_type": "code",
   "execution_count": 70,
   "metadata": {},
   "outputs": [
    {
     "data": {
      "text/plain": [
       "'MKRISTTITTTITITTGNGAG_'"
      ]
     },
     "execution_count": 70,
     "metadata": {},
     "output_type": "execute_result"
    }
   ],
   "source": [
    "translate(CDS)"
   ]
  },
  {
   "cell_type": "markdown",
   "metadata": {},
   "source": [
    "## three and six frame translation"
   ]
  },
  {
   "cell_type": "code",
   "execution_count": 210,
   "metadata": {},
   "outputs": [
    {
     "name": "stdout",
     "output_type": "stream",
     "text": [
      "_NFIDLGH_IL_PI_A_RTDR_KLQSTQHP_NALAPPLPPPSPLPQVTVRADAYRKHRKKPAPDSAGFFFRPKVTR_QPCEC_SSAVHQWQMQNVFCVLPIFWKAMPGRGRWPPSSLPPPKSPTTWWR_LKKPLAARMLYPISAMPNVFLPNF_RDSPPPSRGSRWRN_KLSSIRNLPK_NMSCMALVCWGSARIASTLR_FAVARKCRSPLWPAY_KRAVTTLLLSIRSKNCWQWGITSNLPSILLSPPAVLRQAAFRLITWC_WQVSPPVMKKANWWCLDATVPTTLLRCWLPVYAPI\n"
     ]
    }
   ],
   "source": [
    "# given a sequence that on the correct strand,\n",
    "# but is not necessarily \"in frame\" \n",
    "# lets try to find the frame\n",
    "# we have code to translate\n",
    "test = genome[100:1000]\n",
    "print(translate(test))"
   ]
  },
  {
   "cell_type": "code",
   "execution_count": 108,
   "metadata": {},
   "outputs": [
    {
     "ename": "KeyError",
     "evalue": "'TT'",
     "output_type": "error",
     "traceback": [
      "\u001b[0;31m---------------------------------------------------------------------------\u001b[0m",
      "\u001b[0;31mKeyError\u001b[0m                                  Traceback (most recent call last)",
      "\u001b[0;32m<ipython-input-108-2f6995d4c77a>\u001b[0m in \u001b[0;36m<module>\u001b[0;34m()\u001b[0m\n\u001b[1;32m      1\u001b[0m \u001b[0;31m# now look at the next frame\u001b[0m\u001b[0;34m\u001b[0m\u001b[0;34m\u001b[0m\u001b[0m\n\u001b[1;32m      2\u001b[0m \u001b[0mtest1\u001b[0m \u001b[0;34m=\u001b[0m \u001b[0mtest\u001b[0m\u001b[0;34m[\u001b[0m\u001b[0;36m1\u001b[0m\u001b[0;34m:\u001b[0m\u001b[0;34m]\u001b[0m\u001b[0;34m\u001b[0m\u001b[0m\n\u001b[0;32m----> 3\u001b[0;31m \u001b[0mprint\u001b[0m\u001b[0;34m(\u001b[0m\u001b[0mtranslate\u001b[0m\u001b[0;34m(\u001b[0m\u001b[0mtest1\u001b[0m\u001b[0;34m)\u001b[0m\u001b[0;34m)\u001b[0m\u001b[0;34m\u001b[0m\u001b[0m\n\u001b[0m",
      "\u001b[0;32m<ipython-input-69-022909f42165>\u001b[0m in \u001b[0;36mtranslate\u001b[0;34m(CDS)\u001b[0m\n\u001b[1;32m      4\u001b[0m     \u001b[0;32mfor\u001b[0m \u001b[0mj\u001b[0m \u001b[0;32min\u001b[0m \u001b[0mrange\u001b[0m\u001b[0;34m(\u001b[0m\u001b[0;36m0\u001b[0m\u001b[0;34m,\u001b[0m\u001b[0mlen\u001b[0m\u001b[0;34m(\u001b[0m\u001b[0mCDS\u001b[0m\u001b[0;34m)\u001b[0m\u001b[0;34m,\u001b[0m\u001b[0;36m3\u001b[0m\u001b[0;34m)\u001b[0m\u001b[0;34m:\u001b[0m\u001b[0;34m\u001b[0m\u001b[0m\n\u001b[1;32m      5\u001b[0m         \u001b[0mcodon\u001b[0m \u001b[0;34m=\u001b[0m \u001b[0mCDS\u001b[0m\u001b[0;34m[\u001b[0m\u001b[0mj\u001b[0m\u001b[0;34m:\u001b[0m\u001b[0mj\u001b[0m\u001b[0;34m+\u001b[0m\u001b[0;36m3\u001b[0m\u001b[0;34m]\u001b[0m\u001b[0;34m\u001b[0m\u001b[0m\n\u001b[0;32m----> 6\u001b[0;31m         \u001b[0mpeptide\u001b[0m \u001b[0;34m=\u001b[0m \u001b[0mpeptide\u001b[0m \u001b[0;34m+\u001b[0m \u001b[0mgencode\u001b[0m\u001b[0;34m[\u001b[0m\u001b[0mcodon\u001b[0m\u001b[0;34m]\u001b[0m\u001b[0;34m\u001b[0m\u001b[0m\n\u001b[0m\u001b[1;32m      7\u001b[0m     \u001b[0;32mreturn\u001b[0m \u001b[0mpeptide\u001b[0m\u001b[0;34m\u001b[0m\u001b[0m\n",
      "\u001b[0;31mKeyError\u001b[0m: 'TT'"
     ]
    }
   ],
   "source": [
    "# now look at the next frame\n",
    "test1 = test[1:]\n",
    "print(translate(test1))"
   ]
  },
  {
   "cell_type": "code",
   "execution_count": 109,
   "metadata": {},
   "outputs": [
    {
     "name": "stdout",
     "output_type": "stream",
     "text": [
      "KILLT_VTKYFNQYRHSAQTDKNYRVHNIHETH_HHHYHHHHHYHR_RCGLTRTGNTEKSPHLTVRAFFFDQR_RGNNHASVEVRRYISGKCRTFSACCRYSGKQCQAGAGGHRPLCPRQNHQPPGGDD_KNH_RPGCFTQYQRCRTYFCRTFDGTRRRPAGVPAGAIENFRRSGICPNKTCPAWH_FVGAVPG_HQRCADLPWRENVDRHYGRRIRSARSQRYCYRSGRKTAGSGALPRIYRRYC_VHPPYCGKPHSG_SHGADGRFHRR__KRRTGGAWTQRFRLLCCGAGCLFTRR\n"
     ]
    }
   ],
   "source": [
    "# problem: by shifting by 1 the string test2 is no longer a multiple of 3\n",
    "# solution: chew off 2 basepairs at the end (using convenient string tools)\n",
    "test1 = test[1:-2]\n",
    "print(translate(test1))"
   ]
  },
  {
   "cell_type": "code",
   "execution_count": 110,
   "metadata": {},
   "outputs": [
    {
     "name": "stdout",
     "output_type": "stream",
     "text": [
      "KFY_LRSLNTLTNIGIAHRQIKITEYTTSMKRISTTITTTITITTGNGAG_RVQETQKKART_QCGLFFSTKGNEVTTMRVLKFGGTSVANAERFLRVADILESNARQGQVATVLSAPAKITNHLVAMIEKTISGQDALPNISDAERIFAELLTGLAAAQPGFPLAQLKTFVDQEFAQIKHVLHGISLLGQCPDSINAALICRGEKMSIAIMAGVLEARGHNVTVIDPVEKLLAVGHYLESTVDIAESTRRIAASRIPADHMVLMAGFTAGNEKGELVVLGRNGSDYSAAVLAACLRAD\n"
     ]
    }
   ],
   "source": [
    "# and the third frame ...\n",
    "test2 = test[2:-1]\n",
    "print(translate(test2))"
   ]
  },
  {
   "cell_type": "code",
   "execution_count": 211,
   "metadata": {},
   "outputs": [
    {
     "name": "stdout",
     "output_type": "stream",
     "text": [
      "frame 0: 16 ;  frame 1: 12 ;  frame 2: 3\n"
     ]
    }
   ],
   "source": [
    "print(\"frame 0:\", translate(test).count(\"_\"),\n",
    "      \";  frame 1:\",translate(test1).count(\"_\"),\n",
    "      \";  frame 2:\", translate(test2).count(\"_\"))"
   ]
  },
  {
   "cell_type": "markdown",
   "metadata": {},
   "source": [
    "### what about the other strand?"
   ]
  },
  {
   "cell_type": "code",
   "execution_count": null,
   "metadata": {},
   "outputs": [],
   "source": [
    "# complementation with strings\n",
    "old_chars = \"ACGT\"\n",
    "replace_chars = \"TGCA\"\n",
    "tab = str.maketrans(old_chars,replace_chars)\n",
    "print(sequence.translate(tab))"
   ]
  },
  {
   "cell_type": "code",
   "execution_count": 191,
   "metadata": {},
   "outputs": [
    {
     "name": "stdout",
     "output_type": "stream",
     "text": [
      "ACTGAAA\n",
      "TTTCAGT\n"
     ]
    }
   ],
   "source": [
    "# reverse complementation\n",
    "def revcomp(sequence):\n",
    "    #reverse\n",
    "    last = len(sequence)+1\n",
    "    rev = sequence[last::-1]\n",
    "    old_chars = \"ACGT\"\n",
    "    replace_chars = \"TGCA\"\n",
    "    tab = str.maketrans(old_chars,replace_chars)\n",
    "    return rev.translate(tab)\n",
    "\n",
    "sequence = \"ACTGAAA\"\n",
    "print(sequence)\n",
    "print(revcomp(sequence))"
   ]
  },
  {
   "cell_type": "code",
   "execution_count": 212,
   "metadata": {},
   "outputs": [
    {
     "name": "stdout",
     "output_type": "stream",
     "text": [
      "reverse, frame 0: 16 ;  reverse frame 1: 6 ;  reverse frame 2 7\n"
     ]
    }
   ],
   "source": [
    "# now try to translate the opposite strand\n",
    "print(\"reverse, frame 0:\", translate(revcomp(test)).count(\"_\"),\n",
    "      \";  reverse frame 1:\",translate(revcomp(test1)).count(\"_\"),\n",
    "      \";  reverse frame 2\", translate(revcomp(test2)).count(\"_\"))"
   ]
  },
  {
   "cell_type": "code",
   "execution_count": 122,
   "metadata": {},
   "outputs": [
    {
     "name": "stdout",
     "output_type": "stream",
     "text": [
      "KFY_LRSLNTLTNIGIAHRQIKITEYTTSMKRISTTITTTITITTGNGAG_RVQETQKKART_QCGLFFSTKGNEVTTMRVLKFGGTSVANAERFLRVADILESNARQGQVATVLSAPAKITNHLVAMIEKTISGQDALPNISDAERIFAELLTGLAAAQPGFPLAQLKTFVDQEFAQIKHVLHGISLLGQCPDSINAALICRGEKMSIAIMAGVLEARGHNVTVIDPVEKLLAVGHYLESTVDIAESTRRIAASRIPADHMVLMAGFTAGNEKGELVVLGRNGSDYSAAVLAACLRAD \n",
      "\n",
      "['KFY', 'LRSLNTLTNIGIAHRQIKITEYTTSMKRISTTITTTITITTGNGAG', 'RVQETQKKART', 'QCGLFFSTKGNEVTTMRVLKFGGTSVANAERFLRVADILESNARQGQVATVLSAPAKITNHLVAMIEKTISGQDALPNISDAERIFAELLTGLAAAQPGFPLAQLKTFVDQEFAQIKHVLHGISLLGQCPDSINAALICRGEKMSIAIMAGVLEARGHNVTVIDPVEKLLAVGHYLESTVDIAESTRRIAASRIPADHMVLMAGFTAGNEKGELVVLGRNGSDYSAAVLAACLRAD']\n"
     ]
    }
   ],
   "source": [
    "# so for this stretch of genome, frame2 has only two stop codons.  \n",
    "# what are the longest stretches between STOP?\n",
    "print(translate(test2),\"\\n\")\n",
    "print(translate(test2).split('_'))"
   ]
  },
  {
   "cell_type": "code",
   "execution_count": 124,
   "metadata": {},
   "outputs": [
    {
     "name": "stdout",
     "output_type": "stream",
     "text": [
      "Random String with specific letters  CCCCC\n",
      "Random String with specific letters  AACCTCACTTTCGCATGAGCTTAGGGGCCCTATCGCAAGTTCGCGGAGTCGCGTTGTTCTCCCAACAAAGTCCTGGGCAGCCCTGCTACAGCGTACCACGTAAAGAGGTGTGACAAGTTTGGGGCGACTACCTTCAGTTTGATCGAAAATGAAACCGAGTCTGTGGCGCTTCACCGGACAATGTCGGATAGTTCGCTGGCTGTGTACGATCTACGCTTCGTGGCGGAGGAGGCCCATCCCCTGGACCATAAGAAATGACACCGTTACGTGCTAATTGACAGCGCCCCGGAGGATACTCTGTTCAATGGACACGGCAGACCCCTCGCGATCCGTACCCTCAGTCATCTAATACAAACAGAGACACGCGGGTAAAACCGCGCTATGAACACGTTCATGTCTGGAAGTATATCGTGGAAAAAGGCTTAACCAAAGATTGAAATCCGGCCTCGCATGTCCCGGAATAGGTACAGACGGCCCTTCAAGCAGGCCGGCTAACGATAACGTATAGAAGCAAGTTAGTACGTGGCTCGGCCCAGTATGACCACTCTAAACTCACTGACCAGGGGCGGAGTTGGCACTGGTGTCAGCCCGAGGCAAGATACACCTACAGCCGCTTGGCACAATGGTTCCTCGGCATTATTACTTAGAATTGCTGCTGCTGGAAAACAGAGACCTGGCTACTACTACAGCACAAGTAGCCGGGTCTAAAGTTAGGACGTAGTGAAGAGTACACGAGGTATCGGTGGCGATCGCTCATGCATTAAAACCTGAACCCTCTCGCTATCAATCAGTCGTGTGTCTCGATGCACGCCCACAAAGCGTTACCCATATTTCCTGAATCTGGCCATAACTGAAGTCTGTTATCTGAGCTCTTCTATCAGGCCACGCTAATGATCGCGACGCATCACACGGTTGACGGGTATAACACACCAACGACCTATGCATTTAGGCTAGTATGGCAACAGCCGAATCGAGGCCGATCCGACGAACTAGGATATTT\n"
     ]
    }
   ],
   "source": [
    "# from random sequence, how long are the stretches between stops?\n",
    "## Generate a random string of specific characters \n",
    "import random\n",
    "def randString(length=5):\n",
    "    #put your letters in the following string\n",
    "    your_letters='ACTG'\n",
    "    return ''.join((random.choice(your_letters) for i in range(length)))\n",
    "print (\"Random String with specific letters \", randString() )\n",
    "print (\"Random String with specific letters \", randString(1000) )"
   ]
  },
  {
   "cell_type": "code",
   "execution_count": 130,
   "metadata": {},
   "outputs": [],
   "source": [
    "# translate, split\n",
    "list_of_peptides = translate(randString(999999)).split('_')"
   ]
  },
  {
   "cell_type": "code",
   "execution_count": 131,
   "metadata": {},
   "outputs": [
    {
     "data": {
      "text/plain": [
       "15556"
      ]
     },
     "execution_count": 131,
     "metadata": {},
     "output_type": "execute_result"
    }
   ],
   "source": [
    "len(list_of_peptides)"
   ]
  },
  {
   "cell_type": "code",
   "execution_count": 138,
   "metadata": {},
   "outputs": [
    {
     "data": {
      "text/html": [
       "<div>\n",
       "<style scoped>\n",
       "    .dataframe tbody tr th:only-of-type {\n",
       "        vertical-align: middle;\n",
       "    }\n",
       "\n",
       "    .dataframe tbody tr th {\n",
       "        vertical-align: top;\n",
       "    }\n",
       "\n",
       "    .dataframe thead th {\n",
       "        text-align: right;\n",
       "    }\n",
       "</style>\n",
       "<table border=\"1\" class=\"dataframe\">\n",
       "  <thead>\n",
       "    <tr style=\"text-align: right;\">\n",
       "      <th></th>\n",
       "      <th>0</th>\n",
       "    </tr>\n",
       "  </thead>\n",
       "  <tbody>\n",
       "    <tr>\n",
       "      <th>0</th>\n",
       "      <td>LNLIPKLIFHEAQGKVASVYARLAEIPGSTSQWLLHRASPERALNR...</td>\n",
       "    </tr>\n",
       "    <tr>\n",
       "      <th>1</th>\n",
       "      <td>SISLIPPISRNKDSRRVVASKRTTMKTHYIAYAFQCYSSRKT</td>\n",
       "    </tr>\n",
       "    <tr>\n",
       "      <th>2</th>\n",
       "      <td>Q</td>\n",
       "    </tr>\n",
       "    <tr>\n",
       "      <th>3</th>\n",
       "      <td>VVPFQESV</td>\n",
       "    </tr>\n",
       "    <tr>\n",
       "      <th>4</th>\n",
       "      <td>RTTYLEITINM</td>\n",
       "    </tr>\n",
       "  </tbody>\n",
       "</table>\n",
       "</div>"
      ],
      "text/plain": [
       "                                                   0\n",
       "0  LNLIPKLIFHEAQGKVASVYARLAEIPGSTSQWLLHRASPERALNR...\n",
       "1         SISLIPPISRNKDSRRVVASKRTTMKTHYIAYAFQCYSSRKT\n",
       "2                                                  Q\n",
       "3                                           VVPFQESV\n",
       "4                                        RTTYLEITINM"
      ]
     },
     "execution_count": 138,
     "metadata": {},
     "output_type": "execute_result"
    }
   ],
   "source": [
    "df_peps = pd.DataFrame(list_of_peptides)\n",
    "df_peps.head()\n",
    "\n",
    "    "
   ]
  },
  {
   "cell_type": "code",
   "execution_count": 139,
   "metadata": {},
   "outputs": [
    {
     "data": {
      "text/plain": [
       "15556"
      ]
     },
     "execution_count": 139,
     "metadata": {},
     "output_type": "execute_result"
    }
   ],
   "source": [
    "lengths = []\n",
    "for pep in list_of_peptides:\n",
    "    lengths.append(len(pep))\n",
    "len(lengths)"
   ]
  },
  {
   "cell_type": "code",
   "execution_count": 140,
   "metadata": {},
   "outputs": [
    {
     "data": {
      "text/html": [
       "<div>\n",
       "<style scoped>\n",
       "    .dataframe tbody tr th:only-of-type {\n",
       "        vertical-align: middle;\n",
       "    }\n",
       "\n",
       "    .dataframe tbody tr th {\n",
       "        vertical-align: top;\n",
       "    }\n",
       "\n",
       "    .dataframe thead th {\n",
       "        text-align: right;\n",
       "    }\n",
       "</style>\n",
       "<table border=\"1\" class=\"dataframe\">\n",
       "  <thead>\n",
       "    <tr style=\"text-align: right;\">\n",
       "      <th></th>\n",
       "      <th>0</th>\n",
       "      <th>Length</th>\n",
       "    </tr>\n",
       "  </thead>\n",
       "  <tbody>\n",
       "    <tr>\n",
       "      <th>0</th>\n",
       "      <td>LNLIPKLIFHEAQGKVASVYARLAEIPGSTSQWLLHRASPERALNR...</td>\n",
       "      <td>96</td>\n",
       "    </tr>\n",
       "    <tr>\n",
       "      <th>1</th>\n",
       "      <td>SISLIPPISRNKDSRRVVASKRTTMKTHYIAYAFQCYSSRKT</td>\n",
       "      <td>42</td>\n",
       "    </tr>\n",
       "    <tr>\n",
       "      <th>2</th>\n",
       "      <td>Q</td>\n",
       "      <td>1</td>\n",
       "    </tr>\n",
       "    <tr>\n",
       "      <th>3</th>\n",
       "      <td>VVPFQESV</td>\n",
       "      <td>8</td>\n",
       "    </tr>\n",
       "    <tr>\n",
       "      <th>4</th>\n",
       "      <td>RTTYLEITINM</td>\n",
       "      <td>11</td>\n",
       "    </tr>\n",
       "  </tbody>\n",
       "</table>\n",
       "</div>"
      ],
      "text/plain": [
       "                                                   0  Length\n",
       "0  LNLIPKLIFHEAQGKVASVYARLAEIPGSTSQWLLHRASPERALNR...      96\n",
       "1         SISLIPPISRNKDSRRVVASKRTTMKTHYIAYAFQCYSSRKT      42\n",
       "2                                                  Q       1\n",
       "3                                           VVPFQESV       8\n",
       "4                                        RTTYLEITINM      11"
      ]
     },
     "execution_count": 140,
     "metadata": {},
     "output_type": "execute_result"
    }
   ],
   "source": [
    "df_peps[\"Length\"] = lengths\n",
    "df_peps.head()"
   ]
  },
  {
   "cell_type": "code",
   "execution_count": 145,
   "metadata": {},
   "outputs": [
    {
     "data": {
      "text/plain": [
       "<matplotlib.axes._subplots.AxesSubplot at 0x1a11ce1550>"
      ]
     },
     "execution_count": 145,
     "metadata": {},
     "output_type": "execute_result"
    },
    {
     "data": {
      "image/png": "[encoded data removed]",
      "text/plain": [
       "<Figure size 432x288 with 1 Axes>"
      ]
     },
     "metadata": {},
     "output_type": "display_data"
    }
   ],
   "source": [
    "df_peps[\"Length\"].hist(bins=20)"
   ]
  },
  {
   "cell_type": "code",
   "execution_count": 146,
   "metadata": {},
   "outputs": [
    {
     "data": {
      "text/plain": [
       "count    15556.000000\n",
       "mean        20.428002\n",
       "std         20.849506\n",
       "min          0.000000\n",
       "25%          6.000000\n",
       "50%         14.000000\n",
       "75%         29.000000\n",
       "max        186.000000\n",
       "Name: Length, dtype: float64"
      ]
     },
     "execution_count": 146,
     "metadata": {},
     "output_type": "execute_result"
    }
   ],
   "source": [
    "# so (not surprisingly) the typical length of a translated peptide from a random sequence is ~20 \n",
    "# (since 3/64 ~ 1/20th of all translated codons are stop codons.\n",
    "df_peps[\"Length\"].describe()\n"
   ]
  },
  {
   "cell_type": "markdown",
   "metadata": {},
   "source": [
    "# assignment (due next Thursday):\n",
    "## think of a way (or look up) a way to produce a random sequence that has a higher GC content than the equal 25-25-25-25 that we have just analysed.\n",
    "## hint: try googling stack-overflow.  also, what happens if \"your_letters\" has more than one copy of each DNA letter?\n",
    "## specific question: \"describe\" the random translation of a string of 999999 letters with GC content of 0.667 = 2/3."
   ]
  },
  {
   "cell_type": "markdown",
   "metadata": {},
   "source": [
    "# return to our annotations, and now add the CDS and peptide to the table"
   ]
  },
  {
   "cell_type": "code",
   "execution_count": 214,
   "metadata": {},
   "outputs": [
    {
     "data": {
      "text/html": [
       "<div>\n",
       "<style scoped>\n",
       "    .dataframe tbody tr th:only-of-type {\n",
       "        vertical-align: middle;\n",
       "    }\n",
       "\n",
       "    .dataframe tbody tr th {\n",
       "        vertical-align: top;\n",
       "    }\n",
       "\n",
       "    .dataframe thead th {\n",
       "        text-align: right;\n",
       "    }\n",
       "</style>\n",
       "<table border=\"1\" class=\"dataframe\">\n",
       "  <thead>\n",
       "    <tr style=\"text-align: right;\">\n",
       "      <th></th>\n",
       "      <th>#Replicon Name</th>\n",
       "      <th>Replicon Accession</th>\n",
       "      <th>Start</th>\n",
       "      <th>Stop</th>\n",
       "      <th>Strand</th>\n",
       "      <th>GeneID</th>\n",
       "      <th>Locus</th>\n",
       "      <th>Locus tag</th>\n",
       "      <th>Protein product</th>\n",
       "      <th>Length</th>\n",
       "      <th>COG(s)</th>\n",
       "      <th>Protein name</th>\n",
       "    </tr>\n",
       "  </thead>\n",
       "  <tbody>\n",
       "    <tr>\n",
       "      <th>0</th>\n",
       "      <td>chr</td>\n",
       "      <td>NC_000913.3</td>\n",
       "      <td>190</td>\n",
       "      <td>255</td>\n",
       "      <td>+</td>\n",
       "      <td>944742</td>\n",
       "      <td>thrL</td>\n",
       "      <td>b0001</td>\n",
       "      <td>NP_414542.1</td>\n",
       "      <td>21</td>\n",
       "      <td>-</td>\n",
       "      <td>thr operon leader peptide</td>\n",
       "    </tr>\n",
       "    <tr>\n",
       "      <th>1</th>\n",
       "      <td>chr</td>\n",
       "      <td>NC_000913.3</td>\n",
       "      <td>337</td>\n",
       "      <td>2799</td>\n",
       "      <td>+</td>\n",
       "      <td>945803</td>\n",
       "      <td>thrA</td>\n",
       "      <td>b0002</td>\n",
       "      <td>NP_414543.1</td>\n",
       "      <td>820</td>\n",
       "      <td>-</td>\n",
       "      <td>fused aspartate kinase/homoserine dehydrogenase 1</td>\n",
       "    </tr>\n",
       "    <tr>\n",
       "      <th>2</th>\n",
       "      <td>chr</td>\n",
       "      <td>NC_000913.3</td>\n",
       "      <td>2801</td>\n",
       "      <td>3733</td>\n",
       "      <td>+</td>\n",
       "      <td>947498</td>\n",
       "      <td>thrB</td>\n",
       "      <td>b0003</td>\n",
       "      <td>NP_414544.1</td>\n",
       "      <td>310</td>\n",
       "      <td>-</td>\n",
       "      <td>homoserine kinase</td>\n",
       "    </tr>\n",
       "    <tr>\n",
       "      <th>3</th>\n",
       "      <td>chr</td>\n",
       "      <td>NC_000913.3</td>\n",
       "      <td>3734</td>\n",
       "      <td>5020</td>\n",
       "      <td>+</td>\n",
       "      <td>945198</td>\n",
       "      <td>thrC</td>\n",
       "      <td>b0004</td>\n",
       "      <td>NP_414545.1</td>\n",
       "      <td>428</td>\n",
       "      <td>-</td>\n",
       "      <td>threonine synthase</td>\n",
       "    </tr>\n",
       "    <tr>\n",
       "      <th>4</th>\n",
       "      <td>chr</td>\n",
       "      <td>NC_000913.3</td>\n",
       "      <td>5234</td>\n",
       "      <td>5530</td>\n",
       "      <td>+</td>\n",
       "      <td>944747</td>\n",
       "      <td>yaaX</td>\n",
       "      <td>b0005</td>\n",
       "      <td>NP_414546.1</td>\n",
       "      <td>98</td>\n",
       "      <td>-</td>\n",
       "      <td>DUF2502 domain-containing protein YaaX</td>\n",
       "    </tr>\n",
       "    <tr>\n",
       "      <th>5</th>\n",
       "      <td>chr</td>\n",
       "      <td>NC_000913.3</td>\n",
       "      <td>5683</td>\n",
       "      <td>6459</td>\n",
       "      <td>-</td>\n",
       "      <td>944749</td>\n",
       "      <td>yaaA</td>\n",
       "      <td>b0006</td>\n",
       "      <td>NP_414547.1</td>\n",
       "      <td>258</td>\n",
       "      <td>-</td>\n",
       "      <td>peroxide stress resistance protein YaaA</td>\n",
       "    </tr>\n",
       "    <tr>\n",
       "      <th>6</th>\n",
       "      <td>chr</td>\n",
       "      <td>NC_000913.3</td>\n",
       "      <td>6529</td>\n",
       "      <td>7959</td>\n",
       "      <td>-</td>\n",
       "      <td>944745</td>\n",
       "      <td>yaaJ</td>\n",
       "      <td>b0007</td>\n",
       "      <td>NP_414548.1</td>\n",
       "      <td>476</td>\n",
       "      <td>-</td>\n",
       "      <td>putative transporter YaaJ</td>\n",
       "    </tr>\n",
       "    <tr>\n",
       "      <th>7</th>\n",
       "      <td>chr</td>\n",
       "      <td>NC_000913.3</td>\n",
       "      <td>8238</td>\n",
       "      <td>9191</td>\n",
       "      <td>+</td>\n",
       "      <td>944748</td>\n",
       "      <td>talB</td>\n",
       "      <td>b0008</td>\n",
       "      <td>NP_414549.1</td>\n",
       "      <td>317</td>\n",
       "      <td>-</td>\n",
       "      <td>transaldolase B</td>\n",
       "    </tr>\n",
       "    <tr>\n",
       "      <th>8</th>\n",
       "      <td>chr</td>\n",
       "      <td>NC_000913.3</td>\n",
       "      <td>9306</td>\n",
       "      <td>9893</td>\n",
       "      <td>+</td>\n",
       "      <td>944760</td>\n",
       "      <td>mog</td>\n",
       "      <td>b0009</td>\n",
       "      <td>NP_414550.1</td>\n",
       "      <td>195</td>\n",
       "      <td>-</td>\n",
       "      <td>molybdopterin adenylyltransferase</td>\n",
       "    </tr>\n",
       "    <tr>\n",
       "      <th>9</th>\n",
       "      <td>chr</td>\n",
       "      <td>NC_000913.3</td>\n",
       "      <td>9928</td>\n",
       "      <td>10494</td>\n",
       "      <td>-</td>\n",
       "      <td>944792</td>\n",
       "      <td>satP</td>\n",
       "      <td>b0010</td>\n",
       "      <td>NP_414551.1</td>\n",
       "      <td>188</td>\n",
       "      <td>-</td>\n",
       "      <td>acetate/succinate:H(+) symporter</td>\n",
       "    </tr>\n",
       "  </tbody>\n",
       "</table>\n",
       "</div>"
      ],
      "text/plain": [
       "  #Replicon Name Replicon Accession  Start   Stop Strand  GeneID Locus  \\\n",
       "0            chr        NC_000913.3    190    255      +  944742  thrL   \n",
       "1            chr        NC_000913.3    337   2799      +  945803  thrA   \n",
       "2            chr        NC_000913.3   2801   3733      +  947498  thrB   \n",
       "3            chr        NC_000913.3   3734   5020      +  945198  thrC   \n",
       "4            chr        NC_000913.3   5234   5530      +  944747  yaaX   \n",
       "5            chr        NC_000913.3   5683   6459      -  944749  yaaA   \n",
       "6            chr        NC_000913.3   6529   7959      -  944745  yaaJ   \n",
       "7            chr        NC_000913.3   8238   9191      +  944748  talB   \n",
       "8            chr        NC_000913.3   9306   9893      +  944760   mog   \n",
       "9            chr        NC_000913.3   9928  10494      -  944792  satP   \n",
       "\n",
       "  Locus tag Protein product  Length COG(s)  \\\n",
       "0     b0001     NP_414542.1      21      -   \n",
       "1     b0002     NP_414543.1     820      -   \n",
       "2     b0003     NP_414544.1     310      -   \n",
       "3     b0004     NP_414545.1     428      -   \n",
       "4     b0005     NP_414546.1      98      -   \n",
       "5     b0006     NP_414547.1     258      -   \n",
       "6     b0007     NP_414548.1     476      -   \n",
       "7     b0008     NP_414549.1     317      -   \n",
       "8     b0009     NP_414550.1     195      -   \n",
       "9     b0010     NP_414551.1     188      -   \n",
       "\n",
       "                                        Protein name  \n",
       "0                          thr operon leader peptide  \n",
       "1  fused aspartate kinase/homoserine dehydrogenase 1  \n",
       "2                                  homoserine kinase  \n",
       "3                                 threonine synthase  \n",
       "4             DUF2502 domain-containing protein YaaX  \n",
       "5            peroxide stress resistance protein YaaA  \n",
       "6                          putative transporter YaaJ  \n",
       "7                                    transaldolase B  \n",
       "8                  molybdopterin adenylyltransferase  \n",
       "9                   acetate/succinate:H(+) symporter  "
      ]
     },
     "execution_count": 214,
     "metadata": {},
     "output_type": "execute_result"
    }
   ],
   "source": [
    "annot.head(10)"
   ]
  },
  {
   "cell_type": "code",
   "execution_count": 213,
   "metadata": {},
   "outputs": [
    {
     "ename": "KeyError",
     "evalue": "'GA'",
     "output_type": "error",
     "traceback": [
      "\u001b[0;31m---------------------------------------------------------------------------\u001b[0m",
      "\u001b[0;31mKeyError\u001b[0m                                  Traceback (most recent call last)",
      "\u001b[0;32m<ipython-input-213-0860af8fb6ac>\u001b[0m in \u001b[0;36m<module>\u001b[0;34m()\u001b[0m\n\u001b[1;32m      7\u001b[0m         \u001b[0mCDS_row\u001b[0m \u001b[0;34m=\u001b[0m \u001b[0mrevcomp\u001b[0m\u001b[0;34m(\u001b[0m \u001b[0mgenome\u001b[0m\u001b[0;34m[\u001b[0m\u001b[0mrow\u001b[0m\u001b[0;34m[\u001b[0m\u001b[0;34m\"Start\"\u001b[0m\u001b[0;34m]\u001b[0m\u001b[0;34m-\u001b[0m\u001b[0;36m1\u001b[0m \u001b[0;34m:\u001b[0m \u001b[0mrow\u001b[0m\u001b[0;34m[\u001b[0m\u001b[0;34m\"Stop\"\u001b[0m\u001b[0;34m]\u001b[0m\u001b[0;34m]\u001b[0m \u001b[0;34m)\u001b[0m\u001b[0;34m\u001b[0m\u001b[0m\n\u001b[1;32m      8\u001b[0m     \u001b[0mCDS\u001b[0m\u001b[0;34m.\u001b[0m\u001b[0mappend\u001b[0m\u001b[0;34m(\u001b[0m \u001b[0mCDS_row\u001b[0m \u001b[0;34m)\u001b[0m\u001b[0;34m\u001b[0m\u001b[0m\n\u001b[0;32m----> 9\u001b[0;31m     \u001b[0mpeptide\u001b[0m\u001b[0;34m.\u001b[0m\u001b[0mappend\u001b[0m\u001b[0;34m(\u001b[0m \u001b[0mtranslate\u001b[0m\u001b[0;34m(\u001b[0m\u001b[0mCDS_row\u001b[0m\u001b[0;34m)\u001b[0m \u001b[0;34m)\u001b[0m\u001b[0;34m\u001b[0m\u001b[0m\n\u001b[0m\u001b[1;32m     10\u001b[0m \u001b[0mannot\u001b[0m\u001b[0;34m[\u001b[0m\u001b[0;34m\"CDS\"\u001b[0m\u001b[0;34m]\u001b[0m \u001b[0;34m=\u001b[0m \u001b[0mCDS\u001b[0m\u001b[0;34m\u001b[0m\u001b[0m\n\u001b[1;32m     11\u001b[0m \u001b[0mannot\u001b[0m\u001b[0;34m[\u001b[0m\u001b[0;34m\"peptide\"\u001b[0m\u001b[0;34m]\u001b[0m \u001b[0;34m=\u001b[0m \u001b[0mpeptide\u001b[0m\u001b[0;34m\u001b[0m\u001b[0m\n",
      "\u001b[0;32m<ipython-input-69-022909f42165>\u001b[0m in \u001b[0;36mtranslate\u001b[0;34m(CDS)\u001b[0m\n\u001b[1;32m      4\u001b[0m     \u001b[0;32mfor\u001b[0m \u001b[0mj\u001b[0m \u001b[0;32min\u001b[0m \u001b[0mrange\u001b[0m\u001b[0;34m(\u001b[0m\u001b[0;36m0\u001b[0m\u001b[0;34m,\u001b[0m\u001b[0mlen\u001b[0m\u001b[0;34m(\u001b[0m\u001b[0mCDS\u001b[0m\u001b[0;34m)\u001b[0m\u001b[0;34m,\u001b[0m\u001b[0;36m3\u001b[0m\u001b[0;34m)\u001b[0m\u001b[0;34m:\u001b[0m\u001b[0;34m\u001b[0m\u001b[0m\n\u001b[1;32m      5\u001b[0m         \u001b[0mcodon\u001b[0m \u001b[0;34m=\u001b[0m \u001b[0mCDS\u001b[0m\u001b[0;34m[\u001b[0m\u001b[0mj\u001b[0m\u001b[0;34m:\u001b[0m\u001b[0mj\u001b[0m\u001b[0;34m+\u001b[0m\u001b[0;36m3\u001b[0m\u001b[0;34m]\u001b[0m\u001b[0;34m\u001b[0m\u001b[0m\n\u001b[0;32m----> 6\u001b[0;31m         \u001b[0mpeptide\u001b[0m \u001b[0;34m=\u001b[0m \u001b[0mpeptide\u001b[0m \u001b[0;34m+\u001b[0m \u001b[0mgencode\u001b[0m\u001b[0;34m[\u001b[0m\u001b[0mcodon\u001b[0m\u001b[0;34m]\u001b[0m\u001b[0;34m\u001b[0m\u001b[0m\n\u001b[0m\u001b[1;32m      7\u001b[0m     \u001b[0;32mreturn\u001b[0m \u001b[0mpeptide\u001b[0m\u001b[0;34m\u001b[0m\u001b[0m\n",
      "\u001b[0;31mKeyError\u001b[0m: 'GA'"
     ]
    }
   ],
   "source": [
    "CDS = []\n",
    "peptide = []\n",
    "for index, row in annot.iterrows():\n",
    "    if ( row[\"Strand\"] == \"+\" ):\n",
    "        CDS_row = genome[row[\"Start\"]-1 : row[\"Stop\"]]\n",
    "    if ( row[\"Strand\"] == \"-\" ):\n",
    "        CDS_row = revcomp( genome[row[\"Start\"]-1 : row[\"Stop\"]] ) \n",
    "    CDS.append( CDS_row )\n",
    "    peptide.append( translate(CDS_row) )\n",
    "annot[\"CDS\"] = CDS\n",
    "annot[\"peptide\"] = peptide\n",
    "annot.head(10)"
   ]
  },
  {
   "cell_type": "code",
   "execution_count": null,
   "metadata": {},
   "outputs": [],
   "source": [
    "# we screwed up, presumably on the opposite strand\n",
    "# add debugging"
   ]
  },
  {
   "cell_type": "code",
   "execution_count": 185,
   "metadata": {},
   "outputs": [
    {
     "name": "stdout",
     "output_type": "stream",
     "text": [
      "0 + 66\n",
      "1 + 2463\n",
      "2 + 933\n",
      "3 + 1287\n",
      "4 + 297\n",
      "5 - 0\n",
      "6 - 0\n",
      "7 + 954\n",
      "8 + 588\n",
      "9 - 0\n",
      "10 - 0\n",
      "11 + 486\n",
      "12 - 0\n",
      "13 + 1917\n",
      "14 + 1131\n",
      "15 + 1113\n",
      "16 - 0\n",
      "17 - 0\n",
      "18 + 1167\n",
      "19 + 906\n",
      "20 - 0\n",
      "21 - 0\n",
      "22 - 0\n",
      "23 + 219\n",
      "24 + 942\n",
      "25 + 2817\n",
      "26 + 495\n",
      "27 + 450\n",
      "28 + 951\n",
      "29 + 915\n",
      "30 + 822\n",
      "31 + 1149\n",
      "32 + 3222\n",
      "33 + 396\n",
      "34 - 0\n",
      "35 - 0\n",
      "36 - 0\n",
      "37 - 0\n",
      "38 - 0\n",
      "39 - 0\n",
      "40 + 771\n",
      "41 + 942\n",
      "42 + 1287\n",
      "43 + 288\n",
      "44 + 1332\n",
      "45 + 531\n",
      "46 + 1863\n",
      "47 + 480\n",
      "48 - 0\n",
      "49 - 0\n",
      "50 - 0\n",
      "51 - 0\n",
      "52 - 0\n",
      "53 - 0\n",
      "54 + 816\n",
      "55 + 651\n",
      "56 + 159\n",
      "57 - 0\n",
      "58 - 0\n",
      "59 - 0\n",
      "60 - 0\n",
      "61 - 0\n",
      "62 - 0\n",
      "63 + 879\n",
      "64 + 765\n",
      "65 - 0\n",
      "66 - 0\n",
      "67 - 0\n",
      "68 - 0\n",
      "69 + 132\n",
      "70 + 1179\n",
      "71 - 0\n",
      "72 - 0\n",
      "73 - 0\n",
      "74 - 0\n",
      "75 - 0\n",
      "76 + 945\n",
      "77 - 0\n",
      "78 + 1725\n",
      "79 + 492\n",
      "80 + 1005\n",
      "81 + 459\n",
      "82 + 942\n",
      "83 + 366\n",
      "84 + 1767\n",
      "85 + 1488\n",
      "86 + 1359\n",
      "87 + 1083\n",
      "88 + 1317\n",
      "89 + 1245\n",
      "90 + 1068\n",
      "91 + 1476\n",
      "92 + 921\n",
      "93 + 831\n",
      "94 + 1263\n",
      "95 + 1152\n",
      "96 + 918\n",
      "97 + 513\n",
      "98 + 2706\n",
      "99 + 390\n",
      "100 - 0\n",
      "101 - 0\n",
      "102 - 0\n",
      "103 + 45\n",
      "104 + 1044\n",
      "105 - 0\n",
      "106 - 0\n",
      "107 - 0\n",
      "108 - 0\n",
      "109 + 552\n",
      "110 + 855\n",
      "111 - 0\n",
      "112 + 765\n",
      "113 + 2664\n",
      "114 + 1893\n",
      "115 + 1425\n",
      "116 - 0\n",
      "117 + 2598\n",
      "118 + 363\n",
      "119 - 0\n",
      "120 - 0\n",
      "121 - 0\n",
      "122 + 1551\n",
      "123 - 0\n",
      "124 + 537\n",
      "125 - 0\n",
      "126 + 927\n",
      "127 + 771\n",
      "128 + 441\n",
      "129 + 1230\n",
      "130 - 0\n",
      "131 + 903\n",
      "132 - 0\n",
      "133 - 0\n",
      "134 - 0\n",
      "135 - 0\n",
      "136 - 0\n",
      "137 - 0\n",
      "138 - 0\n",
      "139 - 0\n",
      "140 - 0\n",
      "141 - 0\n",
      "142 - 0\n",
      "143 - 0\n",
      "144 - 0\n",
      "145 - 0\n",
      "146 - 0\n",
      "147 + 2430\n",
      "148 + 2535\n",
      "149 + 2244\n",
      "150 + 798\n",
      "151 + 891\n",
      "152 + 1983\n",
      "153 - 0\n",
      "154 + 1422\n",
      "155 + 66\n",
      "156 + 345\n",
      "157 - 0\n",
      "158 - 0\n",
      "159 - 0\n",
      "160 + 1518\n",
      "161 + 1425\n",
      "162 + 1158\n",
      "163 - 0\n",
      "164 - 0\n",
      "165 - 0\n",
      "166 - 0\n",
      "167 - 0\n",
      "168 + 726\n",
      "169 + 852\n",
      "170 + 726\n",
      "171 + 558\n",
      "172 + 1197\n",
      "173 + 762\n",
      "174 + 858\n",
      "175 + 1353\n",
      "176 + 2433\n",
      "177 + 486\n",
      "178 + 1026\n",
      "179 + 456\n",
      "180 + 789\n",
      "181 + 1149\n",
      "182 + 597\n",
      "183 + 3483\n",
      "184 + 960\n",
      "185 + 2142\n",
      "186 + 390\n",
      "187 + 1299\n",
      "188 - 0\n",
      "189 - 0\n",
      "190 + 546\n",
      "191 + 423\n",
      "192 + 711\n",
      "193 - 0\n",
      "194 - 0\n",
      "195 - 0\n",
      "196 - 0\n",
      "197 - 0\n",
      "198 - 0\n",
      "199 - 0\n",
      "200 + 576\n",
      "201 + 804\n",
      "202 - 0\n",
      "203 + 801\n",
      "204 + 624\n",
      "205 - 0\n",
      "206 - 0\n",
      "207 + 723\n",
      "208 - 0\n",
      "209 + 732\n",
      "210 + 786\n",
      "211 - 0\n",
      "212 - 0\n",
      "213 + 474\n",
      "214 - 0\n",
      "215 + 579\n",
      "216 + 768\n",
      "217 - 0\n",
      "218 - 0\n",
      "219 - 0\n",
      "220 + 750\n",
      "221 + 498\n",
      "222 + 1056\n",
      "223 + 294\n",
      "224 + 399\n",
      "225 + 453\n",
      "226 - 0\n",
      "227 + 459\n",
      "228 + 1245\n",
      "229 - 0\n",
      "230 - 0\n",
      "231 - 0\n",
      "232 + 1104\n",
      "233 + 1254\n",
      "234 - 0\n",
      "235 - 0\n",
      "236 - 0\n",
      "237 - 0\n",
      "238 - 0\n",
      "239 - 0\n",
      "240 - 0\n",
      "241 - 0\n",
      "242 - 0\n",
      "243 - 0\n",
      "244 - 0\n",
      "245 + 1152\n",
      "246 + 1146\n",
      "247 - 0\n",
      "248 + 1404\n",
      "249 + 933\n",
      "250 - 0\n",
      "251 - 0\n",
      "252 - 0\n",
      "253 - 0\n",
      "254 - 0\n",
      "255 + 909\n",
      "256 + 1968\n",
      "257 + 1383\n",
      "258 + 1611\n",
      "259 - 0\n",
      "260 - 0\n",
      "261 + 129\n",
      "262 - 0\n",
      "263 - 0\n",
      "264 + 732\n",
      "265 - 0\n",
      "266 - 0\n",
      "267 - 0\n",
      "268 - 0\n",
      "269 - 0\n",
      "270 - 0\n",
      "271 - 0\n",
      "272 - 0\n",
      "273 - 0\n",
      "274 - 0\n",
      "275 - 0\n",
      "276 + 615\n",
      "277 - 0\n",
      "278 - 0\n",
      "279 - 0\n",
      "280 - 0\n",
      "281 - 0\n",
      "282 - 0\n",
      "283 - 0\n",
      "284 + 228\n",
      "285 - 0\n",
      "286 - 0\n",
      "287 - 0\n",
      "288 + 300\n",
      "289 + 867\n",
      "290 - 0\n",
      "291 - 0\n",
      "292 - 0\n",
      "293 + 855\n",
      "294 + 720\n",
      "295 + 1428\n",
      "296 + 696\n",
      "297 - 0\n",
      "298 - 0\n",
      "299 - 0\n",
      "300 - 0\n",
      "301 + 2034\n",
      "302 + 75\n",
      "303 + 1089\n",
      "304 - 0\n",
      "305 - 0\n",
      "306 + 606\n",
      "307 + 864\n",
      "308 + 1548\n",
      "309 + 1419\n",
      "310 + 297\n",
      "311 + 951\n",
      "312 + 1383\n",
      "313 + 1050\n",
      "314 + 816\n",
      "315 + 246\n",
      "316 - 0\n",
      "317 + 276\n",
      "318 - 0\n",
      "319 + 891\n",
      "320 + 1170\n",
      "321 + 1452\n",
      "322 + 1887\n",
      "323 + 1260\n",
      "324 + 1284\n",
      "325 - 0\n",
      "326 + 660\n",
      "327 + 471\n",
      "328 + 1155\n",
      "329 - 0\n",
      "330 - 0\n",
      "331 - 0\n",
      "332 - 0\n",
      "333 - 0\n",
      "334 + 1665\n",
      "335 + 945\n",
      "336 + 867\n",
      "337 + 810\n",
      "338 + 951\n",
      "339 + 1014\n",
      "340 + 1212\n",
      "341 + 540\n",
      "342 - 0\n",
      "343 - 0\n",
      "344 - 0\n",
      "345 - 0\n",
      "346 + 366\n",
      "347 + 906\n",
      "348 - 0\n",
      "349 + 120\n",
      "350 - 0\n",
      "351 + 963\n",
      "352 + 768\n",
      "353 + 828\n",
      "354 + 852\n",
      "355 - 0\n",
      "356 - 0\n",
      "357 - 0\n",
      "358 + 624\n",
      "359 - 0\n",
      "360 + 1221\n",
      "361 + 1095\n",
      "362 - 0\n",
      "363 + 213\n",
      "364 - 0\n",
      "365 + 261\n",
      "366 + 1416\n",
      "367 + 321\n",
      "368 + 1116\n",
      "369 - 0\n",
      "370 + 459\n",
      "371 + 525\n",
      "372 + 192\n",
      "373 + 678\n",
      "374 + 285\n",
      "375 + 84\n",
      "376 - 0\n",
      "377 + 909\n",
      "378 - 0\n",
      "379 - 0\n",
      "380 - 0\n",
      "381 + 690\n",
      "382 + 1296\n",
      "383 + 1320\n",
      "384 + 1374\n",
      "385 + 1815\n",
      "386 - 0\n",
      "387 + 1071\n",
      "388 + 1128\n",
      "389 + 333\n",
      "390 + 1848\n",
      "391 + 972\n",
      "392 + 348\n",
      "393 - 0\n",
      "394 - 0\n",
      "395 + 450\n",
      "396 + 1104\n",
      "397 + 471\n",
      "398 + 420\n",
      "399 + 978\n",
      "400 + 519\n",
      "401 - 0\n",
      "402 - 0\n",
      "403 - 0\n",
      "404 - 0\n",
      "405 + 1449\n",
      "406 - 0\n",
      "407 - 0\n",
      "408 + 492\n",
      "409 - 0\n",
      "410 - 0\n",
      "411 - 0\n",
      "412 - 0\n",
      "413 - 0\n",
      "414 - 0\n",
      "415 - 0\n",
      "416 - 0\n",
      "417 + 318\n",
      "418 + 1299\n",
      "419 + 624\n",
      "420 + 1275\n",
      "421 + 2355\n",
      "422 + 273\n",
      "423 + 1872\n",
      "424 + 372\n",
      "425 + 399\n",
      "426 - 0\n",
      "427 - 0\n",
      "428 + 819\n",
      "429 + 459\n",
      "430 + 1773\n",
      "431 + 1782\n",
      "432 + 339\n",
      "433 + 1287\n",
      "434 - 0\n",
      "435 + 573\n",
      "436 - 0\n",
      "437 + 354\n",
      "438 - 0\n",
      "439 - 0\n",
      "440 - 0\n",
      "441 - 0\n",
      "442 - 0\n",
      "443 - 0\n",
      "444 - 0\n",
      "445 + 648\n",
      "446 + 3363\n",
      "447 - 0\n",
      "448 - 0\n",
      "449 + 378\n",
      "450 + 552\n",
      "451 + 1932\n",
      "452 + 1295\n"
     ]
    },
    {
     "ename": "KeyError",
     "evalue": "'GA'",
     "output_type": "error",
     "traceback": [
      "\u001b[0;31m---------------------------------------------------------------------------\u001b[0m",
      "\u001b[0;31mKeyError\u001b[0m                                  Traceback (most recent call last)",
      "\u001b[0;32m<ipython-input-185-c49f0a423fec>\u001b[0m in \u001b[0;36m<module>\u001b[0;34m()\u001b[0m\n\u001b[1;32m      8\u001b[0m     \u001b[0mprint\u001b[0m\u001b[0;34m(\u001b[0m\u001b[0mindex\u001b[0m\u001b[0;34m,\u001b[0m \u001b[0mrow\u001b[0m\u001b[0;34m[\u001b[0m\u001b[0;34m\"Strand\"\u001b[0m\u001b[0;34m]\u001b[0m\u001b[0;34m,\u001b[0m \u001b[0mlen\u001b[0m\u001b[0;34m(\u001b[0m\u001b[0mCDS_row\u001b[0m\u001b[0;34m)\u001b[0m\u001b[0;34m)\u001b[0m\u001b[0;34m\u001b[0m\u001b[0m\n\u001b[1;32m      9\u001b[0m     \u001b[0mCDS\u001b[0m\u001b[0;34m.\u001b[0m\u001b[0mappend\u001b[0m\u001b[0;34m(\u001b[0m \u001b[0mCDS_row\u001b[0m \u001b[0;34m)\u001b[0m\u001b[0;34m\u001b[0m\u001b[0m\n\u001b[0;32m---> 10\u001b[0;31m     \u001b[0mpeptide\u001b[0m\u001b[0;34m.\u001b[0m\u001b[0mappend\u001b[0m\u001b[0;34m(\u001b[0m \u001b[0mtranslate\u001b[0m\u001b[0;34m(\u001b[0m\u001b[0mCDS_row\u001b[0m\u001b[0;34m)\u001b[0m \u001b[0;34m)\u001b[0m\u001b[0;34m\u001b[0m\u001b[0m\n\u001b[0m\u001b[1;32m     11\u001b[0m \u001b[0mannot\u001b[0m\u001b[0;34m[\u001b[0m\u001b[0;34m\"CDS\"\u001b[0m\u001b[0;34m]\u001b[0m \u001b[0;34m=\u001b[0m \u001b[0mCDS\u001b[0m\u001b[0;34m\u001b[0m\u001b[0m\n\u001b[1;32m     12\u001b[0m \u001b[0mannot\u001b[0m\u001b[0;34m[\u001b[0m\u001b[0;34m\"peptide\"\u001b[0m\u001b[0;34m]\u001b[0m \u001b[0;34m=\u001b[0m \u001b[0mpeptide\u001b[0m\u001b[0;34m\u001b[0m\u001b[0m\n",
      "\u001b[0;32m<ipython-input-69-022909f42165>\u001b[0m in \u001b[0;36mtranslate\u001b[0;34m(CDS)\u001b[0m\n\u001b[1;32m      4\u001b[0m     \u001b[0;32mfor\u001b[0m \u001b[0mj\u001b[0m \u001b[0;32min\u001b[0m \u001b[0mrange\u001b[0m\u001b[0;34m(\u001b[0m\u001b[0;36m0\u001b[0m\u001b[0;34m,\u001b[0m\u001b[0mlen\u001b[0m\u001b[0;34m(\u001b[0m\u001b[0mCDS\u001b[0m\u001b[0;34m)\u001b[0m\u001b[0;34m,\u001b[0m\u001b[0;36m3\u001b[0m\u001b[0;34m)\u001b[0m\u001b[0;34m:\u001b[0m\u001b[0;34m\u001b[0m\u001b[0m\n\u001b[1;32m      5\u001b[0m         \u001b[0mcodon\u001b[0m \u001b[0;34m=\u001b[0m \u001b[0mCDS\u001b[0m\u001b[0;34m[\u001b[0m\u001b[0mj\u001b[0m\u001b[0;34m:\u001b[0m\u001b[0mj\u001b[0m\u001b[0;34m+\u001b[0m\u001b[0;36m3\u001b[0m\u001b[0;34m]\u001b[0m\u001b[0;34m\u001b[0m\u001b[0m\n\u001b[0;32m----> 6\u001b[0;31m         \u001b[0mpeptide\u001b[0m \u001b[0;34m=\u001b[0m \u001b[0mpeptide\u001b[0m \u001b[0;34m+\u001b[0m \u001b[0mgencode\u001b[0m\u001b[0;34m[\u001b[0m\u001b[0mcodon\u001b[0m\u001b[0;34m]\u001b[0m\u001b[0;34m\u001b[0m\u001b[0m\n\u001b[0m\u001b[1;32m      7\u001b[0m     \u001b[0;32mreturn\u001b[0m \u001b[0mpeptide\u001b[0m\u001b[0;34m\u001b[0m\u001b[0m\n",
      "\u001b[0;31mKeyError\u001b[0m: 'GA'"
     ]
    }
   ],
   "source": [
    "CDS = []\n",
    "peptide = []\n",
    "for index, row in annot.iterrows():\n",
    "    if ( row[\"Strand\"] == \"+\" ):\n",
    "        CDS_row = genome[row[\"Start\"]-1 : row[\"Stop\"]]\n",
    "    if ( row[\"Strand\"] == \"-\" ):\n",
    "        CDS_row = genome[row[\"Stop\"]-1 : row[\"Start\"]] \n",
    "    print(index, row[\"Strand\"], len(CDS_row))\n",
    "    CDS.append( CDS_row )\n",
    "    peptide.append( translate(CDS_row) )\n",
    "annot[\"CDS\"] = CDS\n",
    "annot[\"peptide\"] = peptide\n",
    "annot.head(10)"
   ]
  },
  {
   "cell_type": "code",
   "execution_count": 154,
   "metadata": {},
   "outputs": [
    {
     "data": {
      "text/plain": [
       "#Replicon Name                                     chr\n",
       "Replicon Accession                         NC_000913.3\n",
       "Start                                           492092\n",
       "Stop                                            493386\n",
       "Strand                                               +\n",
       "GeneID                                          945105\n",
       "Locus                                             dnaX\n",
       "Locus tag                                        b0470\n",
       "Protein product                         YP_009518751.1\n",
       "Length                                             431\n",
       "COG(s)                                               -\n",
       "Protein name          DNA polymerase III subunit gamma\n",
       "Name: 452, dtype: object"
      ]
     },
     "execution_count": 154,
     "metadata": {},
     "output_type": "execute_result"
    }
   ],
   "source": [
    "annot.iloc[452]"
   ]
  },
  {
   "cell_type": "code",
   "execution_count": 155,
   "metadata": {},
   "outputs": [
    {
     "data": {
      "text/plain": [
       "1295"
      ]
     },
     "execution_count": 155,
     "metadata": {},
     "output_type": "execute_result"
    }
   ],
   "source": [
    "# a plus strand!\n",
    "493386-492092+1"
   ]
  },
  {
   "cell_type": "code",
   "execution_count": 240,
   "metadata": {},
   "outputs": [
    {
     "name": "stdout",
     "output_type": "stream",
     "text": [
      "452 + 1295 dnaX\n",
      "467 - 212 copA\n",
      "2800 - 1099 prfB\n"
     ]
    },
    {
     "data": {
      "text/html": [
       "<div>\n",
       "<style scoped>\n",
       "    .dataframe tbody tr th:only-of-type {\n",
       "        vertical-align: middle;\n",
       "    }\n",
       "\n",
       "    .dataframe tbody tr th {\n",
       "        vertical-align: top;\n",
       "    }\n",
       "\n",
       "    .dataframe thead th {\n",
       "        text-align: right;\n",
       "    }\n",
       "</style>\n",
       "<table border=\"1\" class=\"dataframe\">\n",
       "  <thead>\n",
       "    <tr style=\"text-align: right;\">\n",
       "      <th></th>\n",
       "      <th>#Replicon Name</th>\n",
       "      <th>Replicon Accession</th>\n",
       "      <th>Start</th>\n",
       "      <th>Stop</th>\n",
       "      <th>Strand</th>\n",
       "      <th>GeneID</th>\n",
       "      <th>Locus</th>\n",
       "      <th>Locus tag</th>\n",
       "      <th>Protein product</th>\n",
       "      <th>Length</th>\n",
       "      <th>COG(s)</th>\n",
       "      <th>Protein name</th>\n",
       "      <th>CDS</th>\n",
       "      <th>peptide</th>\n",
       "    </tr>\n",
       "  </thead>\n",
       "  <tbody>\n",
       "    <tr>\n",
       "      <th>0</th>\n",
       "      <td>chr</td>\n",
       "      <td>NC_000913.3</td>\n",
       "      <td>190</td>\n",
       "      <td>255</td>\n",
       "      <td>+</td>\n",
       "      <td>944742</td>\n",
       "      <td>thrL</td>\n",
       "      <td>b0001</td>\n",
       "      <td>NP_414542.1</td>\n",
       "      <td>21</td>\n",
       "      <td>-</td>\n",
       "      <td>thr operon leader peptide</td>\n",
       "      <td>ATGAAACGCATTAGCACCACCATTACCACCACCATCACCATTACCA...</td>\n",
       "      <td>MKRISTTITTTITITTGNGAG_</td>\n",
       "    </tr>\n",
       "    <tr>\n",
       "      <th>1</th>\n",
       "      <td>chr</td>\n",
       "      <td>NC_000913.3</td>\n",
       "      <td>337</td>\n",
       "      <td>2799</td>\n",
       "      <td>+</td>\n",
       "      <td>945803</td>\n",
       "      <td>thrA</td>\n",
       "      <td>b0002</td>\n",
       "      <td>NP_414543.1</td>\n",
       "      <td>820</td>\n",
       "      <td>-</td>\n",
       "      <td>fused aspartate kinase/homoserine dehydrogenase 1</td>\n",
       "      <td>ATGCGAGTGTTGAAGTTCGGCGGTACATCAGTGGCAAATGCAGAAC...</td>\n",
       "      <td>MRVLKFGGTSVANAERFLRVADILESNARQGQVATVLSAPAKITNH...</td>\n",
       "    </tr>\n",
       "    <tr>\n",
       "      <th>2</th>\n",
       "      <td>chr</td>\n",
       "      <td>NC_000913.3</td>\n",
       "      <td>2801</td>\n",
       "      <td>3733</td>\n",
       "      <td>+</td>\n",
       "      <td>947498</td>\n",
       "      <td>thrB</td>\n",
       "      <td>b0003</td>\n",
       "      <td>NP_414544.1</td>\n",
       "      <td>310</td>\n",
       "      <td>-</td>\n",
       "      <td>homoserine kinase</td>\n",
       "      <td>ATGGTTAAAGTTTATGCCCCGGCTTCCAGTGCCAATATGAGCGTCG...</td>\n",
       "      <td>MVKVYAPASSANMSVGFDVLGAAVTPVDGALLGDVVTVEAAETFSL...</td>\n",
       "    </tr>\n",
       "    <tr>\n",
       "      <th>3</th>\n",
       "      <td>chr</td>\n",
       "      <td>NC_000913.3</td>\n",
       "      <td>3734</td>\n",
       "      <td>5020</td>\n",
       "      <td>+</td>\n",
       "      <td>945198</td>\n",
       "      <td>thrC</td>\n",
       "      <td>b0004</td>\n",
       "      <td>NP_414545.1</td>\n",
       "      <td>428</td>\n",
       "      <td>-</td>\n",
       "      <td>threonine synthase</td>\n",
       "      <td>ATGAAACTCTACAATCTGAAAGATCACAACGAGCAGGTCAGCTTTG...</td>\n",
       "      <td>MKLYNLKDHNEQVSFAQAVTQGLGKNQGLFFPHDLPEFSLTEIDEM...</td>\n",
       "    </tr>\n",
       "    <tr>\n",
       "      <th>4</th>\n",
       "      <td>chr</td>\n",
       "      <td>NC_000913.3</td>\n",
       "      <td>5234</td>\n",
       "      <td>5530</td>\n",
       "      <td>+</td>\n",
       "      <td>944747</td>\n",
       "      <td>yaaX</td>\n",
       "      <td>b0005</td>\n",
       "      <td>NP_414546.1</td>\n",
       "      <td>98</td>\n",
       "      <td>-</td>\n",
       "      <td>DUF2502 domain-containing protein YaaX</td>\n",
       "      <td>GTGAAAAAGATGCAATCTATCGTACTCGCACTTTCCCTGGTTCTGG...</td>\n",
       "      <td>VKKMQSIVLALSLVLVAPMAAQAAEITLVPSVKLQIGDRDNRGYYW...</td>\n",
       "    </tr>\n",
       "    <tr>\n",
       "      <th>5</th>\n",
       "      <td>chr</td>\n",
       "      <td>NC_000913.3</td>\n",
       "      <td>5683</td>\n",
       "      <td>6459</td>\n",
       "      <td>-</td>\n",
       "      <td>944749</td>\n",
       "      <td>yaaA</td>\n",
       "      <td>b0006</td>\n",
       "      <td>NP_414547.1</td>\n",
       "      <td>258</td>\n",
       "      <td>-</td>\n",
       "      <td>peroxide stress resistance protein YaaA</td>\n",
       "      <td>ATGCTGATTCTTATTTCACCTGCGAAAACGCTTGATTACCAAAGCC...</td>\n",
       "      <td>MLILISPAKTLDYQSPLTTTRYTLPELLDNSQQLIHEARKLTPPQI...</td>\n",
       "    </tr>\n",
       "    <tr>\n",
       "      <th>6</th>\n",
       "      <td>chr</td>\n",
       "      <td>NC_000913.3</td>\n",
       "      <td>6529</td>\n",
       "      <td>7959</td>\n",
       "      <td>-</td>\n",
       "      <td>944745</td>\n",
       "      <td>yaaJ</td>\n",
       "      <td>b0007</td>\n",
       "      <td>NP_414548.1</td>\n",
       "      <td>476</td>\n",
       "      <td>-</td>\n",
       "      <td>putative transporter YaaJ</td>\n",
       "      <td>ATGCCAGATTTTTTCTCCTTCATTAACAGCGTCCTTTGGGGATCGG...</td>\n",
       "      <td>MPDFFSFINSVLWGSVMIYLLFGAGCWFTFRTGFVQFRYIRQFGKS...</td>\n",
       "    </tr>\n",
       "    <tr>\n",
       "      <th>7</th>\n",
       "      <td>chr</td>\n",
       "      <td>NC_000913.3</td>\n",
       "      <td>8238</td>\n",
       "      <td>9191</td>\n",
       "      <td>+</td>\n",
       "      <td>944748</td>\n",
       "      <td>talB</td>\n",
       "      <td>b0008</td>\n",
       "      <td>NP_414549.1</td>\n",
       "      <td>317</td>\n",
       "      <td>-</td>\n",
       "      <td>transaldolase B</td>\n",
       "      <td>ATGACGGACAAATTGACCTCCCTTCGTCAGTACACCACCGTAGTGG...</td>\n",
       "      <td>MTDKLTSLRQYTTVVADTGDIAAMKLYQPQDATTNPSLILNAAQIP...</td>\n",
       "    </tr>\n",
       "    <tr>\n",
       "      <th>8</th>\n",
       "      <td>chr</td>\n",
       "      <td>NC_000913.3</td>\n",
       "      <td>9306</td>\n",
       "      <td>9893</td>\n",
       "      <td>+</td>\n",
       "      <td>944760</td>\n",
       "      <td>mog</td>\n",
       "      <td>b0009</td>\n",
       "      <td>NP_414550.1</td>\n",
       "      <td>195</td>\n",
       "      <td>-</td>\n",
       "      <td>molybdopterin adenylyltransferase</td>\n",
       "      <td>ATGAATACTTTACGTATTGGCTTAGTTTCCATCTCTGATCGCGCAT...</td>\n",
       "      <td>MNTLRIGLVSISDRASSGVYQDKGIPALEEWLTSALTTPFELETRL...</td>\n",
       "    </tr>\n",
       "    <tr>\n",
       "      <th>9</th>\n",
       "      <td>chr</td>\n",
       "      <td>NC_000913.3</td>\n",
       "      <td>9928</td>\n",
       "      <td>10494</td>\n",
       "      <td>-</td>\n",
       "      <td>944792</td>\n",
       "      <td>satP</td>\n",
       "      <td>b0010</td>\n",
       "      <td>NP_414551.1</td>\n",
       "      <td>188</td>\n",
       "      <td>-</td>\n",
       "      <td>acetate/succinate:H(+) symporter</td>\n",
       "      <td>ATGGGCAACACTAAGTTGGCTAATCCGGCACCGCTGGGCCTGATGG...</td>\n",
       "      <td>MGNTKLANPAPLGLMGFGMTTILLNLHNVGYFALDGIILAMGIFYG...</td>\n",
       "    </tr>\n",
       "  </tbody>\n",
       "</table>\n",
       "</div>"
      ],
      "text/plain": [
       "  #Replicon Name Replicon Accession  Start   Stop Strand  GeneID Locus  \\\n",
       "0            chr        NC_000913.3    190    255      +  944742  thrL   \n",
       "1            chr        NC_000913.3    337   2799      +  945803  thrA   \n",
       "2            chr        NC_000913.3   2801   3733      +  947498  thrB   \n",
       "3            chr        NC_000913.3   3734   5020      +  945198  thrC   \n",
       "4            chr        NC_000913.3   5234   5530      +  944747  yaaX   \n",
       "5            chr        NC_000913.3   5683   6459      -  944749  yaaA   \n",
       "6            chr        NC_000913.3   6529   7959      -  944745  yaaJ   \n",
       "7            chr        NC_000913.3   8238   9191      +  944748  talB   \n",
       "8            chr        NC_000913.3   9306   9893      +  944760   mog   \n",
       "9            chr        NC_000913.3   9928  10494      -  944792  satP   \n",
       "\n",
       "  Locus tag Protein product  Length COG(s)  \\\n",
       "0     b0001     NP_414542.1      21      -   \n",
       "1     b0002     NP_414543.1     820      -   \n",
       "2     b0003     NP_414544.1     310      -   \n",
       "3     b0004     NP_414545.1     428      -   \n",
       "4     b0005     NP_414546.1      98      -   \n",
       "5     b0006     NP_414547.1     258      -   \n",
       "6     b0007     NP_414548.1     476      -   \n",
       "7     b0008     NP_414549.1     317      -   \n",
       "8     b0009     NP_414550.1     195      -   \n",
       "9     b0010     NP_414551.1     188      -   \n",
       "\n",
       "                                        Protein name  \\\n",
       "0                          thr operon leader peptide   \n",
       "1  fused aspartate kinase/homoserine dehydrogenase 1   \n",
       "2                                  homoserine kinase   \n",
       "3                                 threonine synthase   \n",
       "4             DUF2502 domain-containing protein YaaX   \n",
       "5            peroxide stress resistance protein YaaA   \n",
       "6                          putative transporter YaaJ   \n",
       "7                                    transaldolase B   \n",
       "8                  molybdopterin adenylyltransferase   \n",
       "9                   acetate/succinate:H(+) symporter   \n",
       "\n",
       "                                                 CDS  \\\n",
       "0  ATGAAACGCATTAGCACCACCATTACCACCACCATCACCATTACCA...   \n",
       "1  ATGCGAGTGTTGAAGTTCGGCGGTACATCAGTGGCAAATGCAGAAC...   \n",
       "2  ATGGTTAAAGTTTATGCCCCGGCTTCCAGTGCCAATATGAGCGTCG...   \n",
       "3  ATGAAACTCTACAATCTGAAAGATCACAACGAGCAGGTCAGCTTTG...   \n",
       "4  GTGAAAAAGATGCAATCTATCGTACTCGCACTTTCCCTGGTTCTGG...   \n",
       "5  ATGCTGATTCTTATTTCACCTGCGAAAACGCTTGATTACCAAAGCC...   \n",
       "6  ATGCCAGATTTTTTCTCCTTCATTAACAGCGTCCTTTGGGGATCGG...   \n",
       "7  ATGACGGACAAATTGACCTCCCTTCGTCAGTACACCACCGTAGTGG...   \n",
       "8  ATGAATACTTTACGTATTGGCTTAGTTTCCATCTCTGATCGCGCAT...   \n",
       "9  ATGGGCAACACTAAGTTGGCTAATCCGGCACCGCTGGGCCTGATGG...   \n",
       "\n",
       "                                             peptide  \n",
       "0                             MKRISTTITTTITITTGNGAG_  \n",
       "1  MRVLKFGGTSVANAERFLRVADILESNARQGQVATVLSAPAKITNH...  \n",
       "2  MVKVYAPASSANMSVGFDVLGAAVTPVDGALLGDVVTVEAAETFSL...  \n",
       "3  MKLYNLKDHNEQVSFAQAVTQGLGKNQGLFFPHDLPEFSLTEIDEM...  \n",
       "4  VKKMQSIVLALSLVLVAPMAAQAAEITLVPSVKLQIGDRDNRGYYW...  \n",
       "5  MLILISPAKTLDYQSPLTTTRYTLPELLDNSQQLIHEARKLTPPQI...  \n",
       "6  MPDFFSFINSVLWGSVMIYLLFGAGCWFTFRTGFVQFRYIRQFGKS...  \n",
       "7  MTDKLTSLRQYTTVVADTGDIAAMKLYQPQDATTNPSLILNAAQIP...  \n",
       "8  MNTLRIGLVSISDRASSGVYQDKGIPALEEWLTSALTTPFELETRL...  \n",
       "9  MGNTKLANPAPLGLMGFGMTTILLNLHNVGYFALDGIILAMGIFYG...  "
      ]
     },
     "execution_count": 240,
     "metadata": {},
     "output_type": "execute_result"
    }
   ],
   "source": [
    "# this is not a multiple of three!  ERROR in the input file.\n",
    "# we can look at this mroe carefully, but for now lets flag such problems\n",
    "CDS = []\n",
    "peptide = []\n",
    "for index, row in annot.iterrows():\n",
    "    if ( row[\"Strand\"] == \"+\" ):\n",
    "        CDS_row = genome[row[\"Start\"]-1 : row[\"Stop\"]]\n",
    "    if ( row[\"Strand\"] == \"-\" ):\n",
    "        CDS_row_rev = genome[row[\"Start\"]-1 : row[\"Stop\"] : 1] \n",
    "        CDS_row =  revcomp( CDS_row_rev )\n",
    "#   check for multiple of three. if not, make a dummy entry\n",
    "    if ( len(CDS_row)%3 != 0):\n",
    "        print(index, row[\"Strand\"], len(CDS_row), row[\"Locus\"])\n",
    "        CDS_row = ''\n",
    "    CDS.append( CDS_row )\n",
    "    peptide.append( translate(CDS_row) )\n",
    "annot[\"CDS\"] = CDS\n",
    "annot[\"peptide\"] = peptide\n",
    "annot.head(10)"
   ]
  },
  {
   "cell_type": "markdown",
   "metadata": {},
   "source": [
    "# codon usage and correlations (Feb 12)"
   ]
  },
  {
   "cell_type": "code",
   "execution_count": 316,
   "metadata": {
    "scrolled": true
   },
   "outputs": [
    {
     "name": "stdout",
     "output_type": "stream",
     "text": [
      "dict_keys(['ATA', 'ATC', 'ATT', 'ATG', 'ACA', 'ACC', 'ACG', 'ACT', 'AAC', 'AAT', 'AAA', 'AAG', 'AGC', 'AGT', 'AGA', 'AGG', 'CTA', 'CTC', 'CTG', 'CTT', 'CCA', 'CCC', 'CCG', 'CCT', 'CAC', 'CAT', 'CAA', 'CAG', 'CGA', 'CGC', 'CGG', 'CGT', 'GTA', 'GTC', 'GTG', 'GTT', 'GCA', 'GCC', 'GCG', 'GCT', 'GAC', 'GAT', 'GAA', 'GAG', 'GGA', 'GGC', 'GGG', 'GGT', 'TCA', 'TCC', 'TCG', 'TCT', 'TTC', 'TTT', 'TTA', 'TTG', 'TAC', 'TAT', 'TAA', 'TAG', 'TGC', 'TGT', 'TGA', 'TGG'])\n"
     ]
    }
   ],
   "source": [
    "keys = gencode.keys()\n",
    "print(keys)"
   ]
  },
  {
   "cell_type": "code",
   "execution_count": 318,
   "metadata": {},
   "outputs": [
    {
     "name": "stdout",
     "output_type": "stream",
     "text": [
      "['I', 'I', 'I', 'M', 'T', 'T', 'T', 'T', 'N', 'N', 'K', 'K', 'S', 'S', 'R', 'R', 'L', 'L', 'L', 'L', 'P', 'P', 'P', 'P', 'H', 'H', 'Q', 'Q', 'R', 'R', 'R', 'R', 'V', 'V', 'V', 'V', 'A', 'A', 'A', 'A', 'D', 'D', 'E', 'E', 'G', 'G', 'G', 'G', 'S', 'S', 'S', 'S', 'F', 'F', 'L', 'L', 'Y', 'Y', '_', '_', 'C', 'C', '_', 'W']\n"
     ]
    }
   ],
   "source": [
    "values = list(gencode.values())\n",
    "print(values)"
   ]
  },
  {
   "cell_type": "code",
   "execution_count": 323,
   "metadata": {},
   "outputs": [
    {
     "name": "stdout",
     "output_type": "stream",
     "text": [
      "['A', 'C', 'D', 'E', 'F', 'G', 'H', 'I', 'K', 'L', 'M', 'N', 'P', 'Q', 'R', 'S', 'T', 'V', 'W', 'Y', '_']\n"
     ]
    }
   ],
   "source": [
    "# remove redundancy (note how \"set' works)\n",
    "# sort alphanumerically\n",
    "amino_acids = sorted(list(set(values)))\n",
    "print(amino_acids)"
   ]
  },
  {
   "cell_type": "code",
   "execution_count": 236,
   "metadata": {},
   "outputs": [],
   "source": [
    "# function: given a cds, count occurrences of each codon\n",
    "def codon_counts(CDS):\n",
    "    keys = gencode.keys()\n",
    "    count_dict = {}\n",
    "    for key in keys:\n",
    "        count_dict[key] = 0\n",
    "    for j in range(0,len(CDS),3):\n",
    "        codon = CDS[j:j+3]\n",
    "        count_dict[codon] += 1\n",
    "    return count_dict"
   ]
  },
  {
   "cell_type": "code",
   "execution_count": 314,
   "metadata": {},
   "outputs": [
    {
     "name": "stdout",
     "output_type": "stream",
     "text": [
      "dict_keys(['ATA', 'ATC', 'ATT', 'ATG', 'ACA', 'ACC', 'ACG', 'ACT', 'AAC', 'AAT', 'AAA', 'AAG', 'AGC', 'AGT', 'AGA', 'AGG', 'CTA', 'CTC', 'CTG', 'CTT', 'CCA', 'CCC', 'CCG', 'CCT', 'CAC', 'CAT', 'CAA', 'CAG', 'CGA', 'CGC', 'CGG', 'CGT', 'GTA', 'GTC', 'GTG', 'GTT', 'GCA', 'GCC', 'GCG', 'GCT', 'GAC', 'GAT', 'GAA', 'GAG', 'GGA', 'GGC', 'GGG', 'GGT', 'TCA', 'TCC', 'TCG', 'TCT', 'TTC', 'TTT', 'TTA', 'TTG', 'TAC', 'TAT', 'TAA', 'TAG', 'TGC', 'TGT', 'TGA', 'TGG'])\n"
     ]
    }
   ],
   "source": [
    "print(keys)"
   ]
  },
  {
   "cell_type": "code",
   "execution_count": 231,
   "metadata": {},
   "outputs": [
    {
     "data": {
      "text/plain": [
       "'ATGAAACTCTACAATCTGAAAGATCACAACGAGCAGGTCAGCTTTGCGCAAGCCGTAACCCAGGGGTTGGGCAAAAATCAGGGGCTGTTTTTTCCGCACGACCTGCCGGAATTCAGCCTGACTGAAATTGATGAGATGCTGAAGCTGGATTTTGTCACCCGCAGTGCGAAGATCCTCTCGGCGTTTATTGGTGATGAAATCCCACAGGAAATCCTGGAAGAGCGCGTGCGCGCGGCGTTTGCCTTCCCGGCTCCGGTCGCCAATGTTGAAAGCGATGTCGGTTGTCTGGAATTGTTCCACGGGCCAACGCTGGCATTTAAAGATTTCGGCGGTCGCTTTATGGCACAAATGCTGACCCATATTGCGGGTGATAAGCCAGTGACCATTCTGACCGCGACCTCCGGTGATACCGGAGCGGCAGTGGCTCATGCTTTCTACGGTTTACCGAATGTGAAAGTGGTTATCCTCTATCCACGAGGCAAAATCAGTCCACTGCAAGAAAAACTGTTCTGTACATTGGGCGGCAATATCGAAACTGTTGCCATCGACGGCGATTTCGATGCCTGTCAGGCGCTGGTGAAGCAGGCGTTTGATGATGAAGAACTGAAAGTGGCGCTAGGGTTAAACTCGGCTAACTCGATTAACATCAGCCGTTTGCTGGCGCAGATTTGCTACTACTTTGAAGCTGTTGCGCAGCTGCCGCAGGAGACGCGCAACCAGCTGGTTGTCTCGGTGCCAAGCGGAAACTTCGGCGATTTGACGGCGGGTCTGCTGGCGAAGTCACTCGGTCTGCCGGTGAAACGTTTTATTGCTGCGACCAACGTGAACGATACCGTGCCACGTTTCCTGCACGACGGTCAGTGGTCACCCAAAGCGACTCAGGCGACGTTATCCAACGCGATGGACGTGAGTCAGCCGAACAACTGGCCGCGTGTGGAAGAGTTGTTCCGCCGCAAAATCTGGCAACTGAAAGAGCTGGGTTATGCAGCCGTGGATGATGAAACCACGCAACAGACAATGCGTGAGTTAAAAGAACTGGGCTACACTTCGGAGCCGCACGCTGCCGTAGCTTATCGTGCGCTGCGTGATCAGTTGAATCCAGGCGAATATGGCTTGTTCCTCGGCACCGCGCATCCGGCGAAATTTAAAGAGAGCGTGGAAGCGATTCTCGGTGAAACGTTGGATCTGCCAAAAGAGCTGGCAGAACGTGCTGATTTACCCTTGCTTTCACATAATCTGCCCGCCGATTTTGCTGCGTTGCGTAAATTGATGATGAATCATCAGTAA'"
      ]
     },
     "execution_count": 231,
     "metadata": {},
     "output_type": "execute_result"
    }
   ],
   "source": [
    "CDS[3]"
   ]
  },
  {
   "cell_type": "code",
   "execution_count": 237,
   "metadata": {},
   "outputs": [
    {
     "data": {
      "text/plain": [
       "{'AAA': 17,\n",
       " 'AAC': 11,\n",
       " 'AAG': 5,\n",
       " 'AAT': 8,\n",
       " 'ACA': 2,\n",
       " 'ACC': 11,\n",
       " 'ACG': 6,\n",
       " 'ACT': 4,\n",
       " 'AGA': 0,\n",
       " 'AGC': 6,\n",
       " 'AGG': 0,\n",
       " 'AGT': 3,\n",
       " 'ATA': 0,\n",
       " 'ATC': 9,\n",
       " 'ATG': 8,\n",
       " 'ATT': 8,\n",
       " 'CAA': 5,\n",
       " 'CAC': 5,\n",
       " 'CAG': 16,\n",
       " 'CAT': 5,\n",
       " 'CCA': 9,\n",
       " 'CCC': 3,\n",
       " 'CCG': 11,\n",
       " 'CCT': 0,\n",
       " 'CGA': 1,\n",
       " 'CGC': 7,\n",
       " 'CGG': 0,\n",
       " 'CGT': 9,\n",
       " 'CTA': 1,\n",
       " 'CTC': 6,\n",
       " 'CTG': 29,\n",
       " 'CTT': 1,\n",
       " 'GAA': 19,\n",
       " 'GAC': 4,\n",
       " 'GAG': 10,\n",
       " 'GAT': 20,\n",
       " 'GCA': 5,\n",
       " 'GCC': 8,\n",
       " 'GCG': 24,\n",
       " 'GCT': 10,\n",
       " 'GGA': 2,\n",
       " 'GGC': 11,\n",
       " 'GGG': 4,\n",
       " 'GGT': 11,\n",
       " 'GTA': 2,\n",
       " 'GTC': 5,\n",
       " 'GTG': 15,\n",
       " 'GTT': 5,\n",
       " 'TAA': 1,\n",
       " 'TAC': 5,\n",
       " 'TAG': 0,\n",
       " 'TAT': 4,\n",
       " 'TCA': 3,\n",
       " 'TCC': 2,\n",
       " 'TCG': 5,\n",
       " 'TCT': 0,\n",
       " 'TGA': 0,\n",
       " 'TGC': 1,\n",
       " 'TGG': 3,\n",
       " 'TGT': 3,\n",
       " 'TTA': 5,\n",
       " 'TTC': 11,\n",
       " 'TTG': 12,\n",
       " 'TTT': 13}"
      ]
     },
     "execution_count": 237,
     "metadata": {},
     "output_type": "execute_result"
    }
   ],
   "source": [
    "codon_counts(CDS[3])"
   ]
  },
  {
   "cell_type": "code",
   "execution_count": 239,
   "metadata": {},
   "outputs": [
    {
     "data": {
      "text/html": [
       "<div>\n",
       "<style scoped>\n",
       "    .dataframe tbody tr th:only-of-type {\n",
       "        vertical-align: middle;\n",
       "    }\n",
       "\n",
       "    .dataframe tbody tr th {\n",
       "        vertical-align: top;\n",
       "    }\n",
       "\n",
       "    .dataframe thead th {\n",
       "        text-align: right;\n",
       "    }\n",
       "</style>\n",
       "<table border=\"1\" class=\"dataframe\">\n",
       "  <thead>\n",
       "    <tr style=\"text-align: right;\">\n",
       "      <th></th>\n",
       "      <th>#Replicon Name</th>\n",
       "      <th>Replicon Accession</th>\n",
       "      <th>Start</th>\n",
       "      <th>Stop</th>\n",
       "      <th>Strand</th>\n",
       "      <th>GeneID</th>\n",
       "      <th>Locus</th>\n",
       "      <th>Locus tag</th>\n",
       "      <th>Protein product</th>\n",
       "      <th>Length</th>\n",
       "      <th>COG(s)</th>\n",
       "      <th>Protein name</th>\n",
       "    </tr>\n",
       "  </thead>\n",
       "  <tbody>\n",
       "    <tr>\n",
       "      <th>0</th>\n",
       "      <td>chr</td>\n",
       "      <td>NC_000913.3</td>\n",
       "      <td>190</td>\n",
       "      <td>255</td>\n",
       "      <td>+</td>\n",
       "      <td>944742</td>\n",
       "      <td>thrL</td>\n",
       "      <td>b0001</td>\n",
       "      <td>NP_414542.1</td>\n",
       "      <td>21</td>\n",
       "      <td>-</td>\n",
       "      <td>thr operon leader peptide</td>\n",
       "    </tr>\n",
       "    <tr>\n",
       "      <th>1</th>\n",
       "      <td>chr</td>\n",
       "      <td>NC_000913.3</td>\n",
       "      <td>337</td>\n",
       "      <td>2799</td>\n",
       "      <td>+</td>\n",
       "      <td>945803</td>\n",
       "      <td>thrA</td>\n",
       "      <td>b0002</td>\n",
       "      <td>NP_414543.1</td>\n",
       "      <td>820</td>\n",
       "      <td>-</td>\n",
       "      <td>fused aspartate kinase/homoserine dehydrogenase 1</td>\n",
       "    </tr>\n",
       "    <tr>\n",
       "      <th>2</th>\n",
       "      <td>chr</td>\n",
       "      <td>NC_000913.3</td>\n",
       "      <td>2801</td>\n",
       "      <td>3733</td>\n",
       "      <td>+</td>\n",
       "      <td>947498</td>\n",
       "      <td>thrB</td>\n",
       "      <td>b0003</td>\n",
       "      <td>NP_414544.1</td>\n",
       "      <td>310</td>\n",
       "      <td>-</td>\n",
       "      <td>homoserine kinase</td>\n",
       "    </tr>\n",
       "    <tr>\n",
       "      <th>3</th>\n",
       "      <td>chr</td>\n",
       "      <td>NC_000913.3</td>\n",
       "      <td>3734</td>\n",
       "      <td>5020</td>\n",
       "      <td>+</td>\n",
       "      <td>945198</td>\n",
       "      <td>thrC</td>\n",
       "      <td>b0004</td>\n",
       "      <td>NP_414545.1</td>\n",
       "      <td>428</td>\n",
       "      <td>-</td>\n",
       "      <td>threonine synthase</td>\n",
       "    </tr>\n",
       "    <tr>\n",
       "      <th>4</th>\n",
       "      <td>chr</td>\n",
       "      <td>NC_000913.3</td>\n",
       "      <td>5234</td>\n",
       "      <td>5530</td>\n",
       "      <td>+</td>\n",
       "      <td>944747</td>\n",
       "      <td>yaaX</td>\n",
       "      <td>b0005</td>\n",
       "      <td>NP_414546.1</td>\n",
       "      <td>98</td>\n",
       "      <td>-</td>\n",
       "      <td>DUF2502 domain-containing protein YaaX</td>\n",
       "    </tr>\n",
       "  </tbody>\n",
       "</table>\n",
       "</div>"
      ],
      "text/plain": [
       "  #Replicon Name Replicon Accession  Start  Stop Strand  GeneID Locus  \\\n",
       "0            chr        NC_000913.3    190   255      +  944742  thrL   \n",
       "1            chr        NC_000913.3    337  2799      +  945803  thrA   \n",
       "2            chr        NC_000913.3   2801  3733      +  947498  thrB   \n",
       "3            chr        NC_000913.3   3734  5020      +  945198  thrC   \n",
       "4            chr        NC_000913.3   5234  5530      +  944747  yaaX   \n",
       "\n",
       "  Locus tag Protein product  Length COG(s)  \\\n",
       "0     b0001     NP_414542.1      21      -   \n",
       "1     b0002     NP_414543.1     820      -   \n",
       "2     b0003     NP_414544.1     310      -   \n",
       "3     b0004     NP_414545.1     428      -   \n",
       "4     b0005     NP_414546.1      98      -   \n",
       "\n",
       "                                        Protein name  \n",
       "0                          thr operon leader peptide  \n",
       "1  fused aspartate kinase/homoserine dehydrogenase 1  \n",
       "2                                  homoserine kinase  \n",
       "3                                 threonine synthase  \n",
       "4             DUF2502 domain-containing protein YaaX  "
      ]
     },
     "execution_count": 239,
     "metadata": {},
     "output_type": "execute_result"
    }
   ],
   "source": [
    "annot.head()"
   ]
  },
  {
   "cell_type": "code",
   "execution_count": null,
   "metadata": {},
   "outputs": [],
   "source": [
    "# codon usage"
   ]
  },
  {
   "cell_type": "code",
   "execution_count": 244,
   "metadata": {},
   "outputs": [],
   "source": [
    "keys = gencode.keys()\n",
    "total_count_dict = {}\n",
    "for key in keys:\n",
    "    total_count_dict[key] = [gencode[key],0]\n",
    "    \n",
    "for index, row in annot.iterrows():\n",
    "    CDS = row[\"CDS\"]\n",
    "    for j in range(0,len(CDS),3):\n",
    "        codon = CDS[j:j+3]\n",
    "        total_count_dict[codon][1] += 1"
   ]
  },
  {
   "cell_type": "code",
   "execution_count": 245,
   "metadata": {},
   "outputs": [
    {
     "data": {
      "text/plain": [
       "{'AAA': ['K', 44675],\n",
       " 'AAC': ['N', 28572],\n",
       " 'AAG': ['K', 13555],\n",
       " 'AAT': ['N', 23070],\n",
       " 'ACA': ['T', 9127],\n",
       " 'ACC': ['T', 31194],\n",
       " 'ACG': ['T', 19118],\n",
       " 'ACT': ['T', 11708],\n",
       " 'AGA': ['R', 2576],\n",
       " 'AGC': ['S', 21319],\n",
       " 'AGG': ['R', 1420],\n",
       " 'AGT': ['S', 11492],\n",
       " 'ATA': ['I', 5485],\n",
       " 'ATC': ['I', 33575],\n",
       " 'ATG': ['M', 37054],\n",
       " 'ATT': ['I', 40539],\n",
       " 'CAA': ['Q', 20413],\n",
       " 'CAC': ['H', 12918],\n",
       " 'CAG': ['Q', 38436],\n",
       " 'CAT': ['H', 17114],\n",
       " 'CCA': ['P', 11181],\n",
       " 'CCC': ['P', 7241],\n",
       " 'CCG': ['P', 31141],\n",
       " 'CCT': ['P', 9233],\n",
       " 'CGA': ['R', 4616],\n",
       " 'CGC': ['R', 29471],\n",
       " 'CGG': ['R', 7082],\n",
       " 'CGT': ['R', 28020],\n",
       " 'CTA': ['L', 5150],\n",
       " 'CTC': ['L', 14824],\n",
       " 'CTG': ['L', 70801],\n",
       " 'CTT': ['L', 14582],\n",
       " 'GAA': ['E', 52731],\n",
       " 'GAC': ['D', 25376],\n",
       " 'GAG': ['E', 23687],\n",
       " 'GAT': ['D', 42508],\n",
       " 'GCA': ['A', 26771],\n",
       " 'GCC': ['A', 34161],\n",
       " 'GCG': ['A', 45156],\n",
       " 'GCT': ['A', 20216],\n",
       " 'GGA': ['G', 10357],\n",
       " 'GGC': ['G', 39611],\n",
       " 'GGG': ['G', 14593],\n",
       " 'GGT': ['G', 32865],\n",
       " 'GTA': ['V', 14445],\n",
       " 'GTC': ['V', 20381],\n",
       " 'GTG': ['V', 35034],\n",
       " 'GTT': ['V', 24238],\n",
       " 'TAA': ['_', 2728],\n",
       " 'TAC': ['Y', 16218],\n",
       " 'TAG': ['_', 294],\n",
       " 'TAT': ['Y', 21270],\n",
       " 'TCA': ['S', 9309],\n",
       " 'TCC': ['S', 11411],\n",
       " 'TCG': ['S', 11848],\n",
       " 'TCT': ['S', 11126],\n",
       " 'TGA': ['_', 1220],\n",
       " 'TGC': ['C', 8595],\n",
       " 'TGG': ['W', 20257],\n",
       " 'TGT': ['C', 6814],\n",
       " 'TTA': ['L', 18327],\n",
       " 'TTC': ['F', 22029],\n",
       " 'TTG': ['L', 18165],\n",
       " 'TTT': ['F', 29615]}"
      ]
     },
     "execution_count": 245,
     "metadata": {},
     "output_type": "execute_result"
    }
   ],
   "source": [
    "total_count_dict"
   ]
  },
  {
   "cell_type": "code",
   "execution_count": 243,
   "metadata": {},
   "outputs": [
    {
     "data": {
      "text/plain": [
       "{'AAA': 'K',\n",
       " 'AAC': 'N',\n",
       " 'AAG': 'K',\n",
       " 'AAT': 'N',\n",
       " 'ACA': 'T',\n",
       " 'ACC': 'T',\n",
       " 'ACG': 'T',\n",
       " 'ACT': 'T',\n",
       " 'AGA': 'R',\n",
       " 'AGC': 'S',\n",
       " 'AGG': 'R',\n",
       " 'AGT': 'S',\n",
       " 'ATA': 'I',\n",
       " 'ATC': 'I',\n",
       " 'ATG': 'M',\n",
       " 'ATT': 'I',\n",
       " 'CAA': 'Q',\n",
       " 'CAC': 'H',\n",
       " 'CAG': 'Q',\n",
       " 'CAT': 'H',\n",
       " 'CCA': 'P',\n",
       " 'CCC': 'P',\n",
       " 'CCG': 'P',\n",
       " 'CCT': 'P',\n",
       " 'CGA': 'R',\n",
       " 'CGC': 'R',\n",
       " 'CGG': 'R',\n",
       " 'CGT': 'R',\n",
       " 'CTA': 'L',\n",
       " 'CTC': 'L',\n",
       " 'CTG': 'L',\n",
       " 'CTT': 'L',\n",
       " 'GAA': 'E',\n",
       " 'GAC': 'D',\n",
       " 'GAG': 'E',\n",
       " 'GAT': 'D',\n",
       " 'GCA': 'A',\n",
       " 'GCC': 'A',\n",
       " 'GCG': 'A',\n",
       " 'GCT': 'A',\n",
       " 'GGA': 'G',\n",
       " 'GGC': 'G',\n",
       " 'GGG': 'G',\n",
       " 'GGT': 'G',\n",
       " 'GTA': 'V',\n",
       " 'GTC': 'V',\n",
       " 'GTG': 'V',\n",
       " 'GTT': 'V',\n",
       " 'TAA': '_',\n",
       " 'TAC': 'Y',\n",
       " 'TAG': '_',\n",
       " 'TAT': 'Y',\n",
       " 'TCA': 'S',\n",
       " 'TCC': 'S',\n",
       " 'TCG': 'S',\n",
       " 'TCT': 'S',\n",
       " 'TGA': '_',\n",
       " 'TGC': 'C',\n",
       " 'TGG': 'W',\n",
       " 'TGT': 'C',\n",
       " 'TTA': 'L',\n",
       " 'TTC': 'F',\n",
       " 'TTG': 'L',\n",
       " 'TTT': 'F'}"
      ]
     },
     "execution_count": 243,
     "metadata": {},
     "output_type": "execute_result"
    }
   ],
   "source": [
    "# give some image here"
   ]
  },
  {
   "cell_type": "code",
   "execution_count": null,
   "metadata": {},
   "outputs": [],
   "source": []
  },
  {
   "cell_type": "markdown",
   "metadata": {},
   "source": [
    "# dendrogram with heat map\n",
    "# https://python-graph-gallery.com/404-dendrogram-with-heat-map/"
   ]
  },
  {
   "cell_type": "code",
   "execution_count": 324,
   "metadata": {},
   "outputs": [],
   "source": [
    "# Libraries\n",
    "import seaborn as sns\n",
    "import pandas as pd\n",
    "from matplotlib import pyplot as plt\n"
   ]
  },
  {
   "cell_type": "code",
   "execution_count": 325,
   "metadata": {},
   "outputs": [
    {
     "data": {
      "text/plain": [
       "<seaborn.matrix.ClusterGrid at 0x1a123b4978>"
      ]
     },
     "execution_count": 325,
     "metadata": {},
     "output_type": "execute_result"
    },
    {
     "data": {
      "image/png": "[encoded data removed]",
      "text/plain": [
       "<Figure size 720x720 with 4 Axes>"
      ]
     },
     "metadata": {},
     "output_type": "display_data"
    }
   ],
   "source": [
    "# Data set\n",
    "url = 'https://python-graph-gallery.com/wp-content/uploads/mtcars.csv'\n",
    "df = pd.read_csv(url)\n",
    "df = df.set_index('model')\n",
    "del df.index.name\n",
    "df\n",
    " \n",
    "# Default plot\n",
    "sns.clustermap(df)\n"
   ]
  },
  {
   "cell_type": "code",
   "execution_count": 328,
   "metadata": {},
   "outputs": [
    {
     "data": {
      "text/plain": [
       "Index(['Mazda RX4', 'Mazda RX4 Wag', 'Datsun 710', 'Hornet 4 Drive',\n",
       "       'Hornet Sportabout', 'Valiant', 'Duster 360', 'Merc 240D', 'Merc 230',\n",
       "       'Merc 280', 'Merc 280C', 'Merc 450SE', 'Merc 450SL', 'Merc 450SLC',\n",
       "       'Cadillac Fleetwood', 'Lincoln Continental', 'Chrysler Imperial',\n",
       "       'Fiat 128', 'Honda Civic', 'Toyota Corolla', 'Toyota Corona',\n",
       "       'Dodge Challenger', 'AMC Javelin', 'Camaro Z28', 'Pontiac Firebird',\n",
       "       'Fiat X1-9', 'Porsche 914-2', 'Lotus Europa', 'Ford Pantera L',\n",
       "       'Ferrari Dino', 'Maserati Bora', 'Volvo 142E'],\n",
       "      dtype='object')"
      ]
     },
     "execution_count": 328,
     "metadata": {},
     "output_type": "execute_result"
    }
   ],
   "source": [
    "df.index"
   ]
  },
  {
   "cell_type": "code",
   "execution_count": 330,
   "metadata": {},
   "outputs": [
    {
     "data": {
      "text/html": [
       "<div>\n",
       "<style scoped>\n",
       "    .dataframe tbody tr th:only-of-type {\n",
       "        vertical-align: middle;\n",
       "    }\n",
       "\n",
       "    .dataframe tbody tr th {\n",
       "        vertical-align: top;\n",
       "    }\n",
       "\n",
       "    .dataframe thead th {\n",
       "        text-align: right;\n",
       "    }\n",
       "</style>\n",
       "<table border=\"1\" class=\"dataframe\">\n",
       "  <thead>\n",
       "    <tr style=\"text-align: right;\">\n",
       "      <th></th>\n",
       "      <th>mpg</th>\n",
       "      <th>cyl</th>\n",
       "      <th>disp</th>\n",
       "      <th>hp</th>\n",
       "      <th>drat</th>\n",
       "      <th>wt</th>\n",
       "      <th>qsec</th>\n",
       "      <th>vs</th>\n",
       "      <th>am</th>\n",
       "      <th>gear</th>\n",
       "      <th>carb</th>\n",
       "    </tr>\n",
       "  </thead>\n",
       "  <tbody>\n",
       "    <tr>\n",
       "      <th>Mazda RX4</th>\n",
       "      <td>21.0</td>\n",
       "      <td>6</td>\n",
       "      <td>160.0</td>\n",
       "      <td>110</td>\n",
       "      <td>3.90</td>\n",
       "      <td>2.620</td>\n",
       "      <td>16.46</td>\n",
       "      <td>0</td>\n",
       "      <td>1</td>\n",
       "      <td>4</td>\n",
       "      <td>4</td>\n",
       "    </tr>\n",
       "    <tr>\n",
       "      <th>Mazda RX4 Wag</th>\n",
       "      <td>21.0</td>\n",
       "      <td>6</td>\n",
       "      <td>160.0</td>\n",
       "      <td>110</td>\n",
       "      <td>3.90</td>\n",
       "      <td>2.875</td>\n",
       "      <td>17.02</td>\n",
       "      <td>0</td>\n",
       "      <td>1</td>\n",
       "      <td>4</td>\n",
       "      <td>4</td>\n",
       "    </tr>\n",
       "    <tr>\n",
       "      <th>Datsun 710</th>\n",
       "      <td>22.8</td>\n",
       "      <td>4</td>\n",
       "      <td>108.0</td>\n",
       "      <td>93</td>\n",
       "      <td>3.85</td>\n",
       "      <td>2.320</td>\n",
       "      <td>18.61</td>\n",
       "      <td>1</td>\n",
       "      <td>1</td>\n",
       "      <td>4</td>\n",
       "      <td>1</td>\n",
       "    </tr>\n",
       "    <tr>\n",
       "      <th>Hornet 4 Drive</th>\n",
       "      <td>21.4</td>\n",
       "      <td>6</td>\n",
       "      <td>258.0</td>\n",
       "      <td>110</td>\n",
       "      <td>3.08</td>\n",
       "      <td>3.215</td>\n",
       "      <td>19.44</td>\n",
       "      <td>1</td>\n",
       "      <td>0</td>\n",
       "      <td>3</td>\n",
       "      <td>1</td>\n",
       "    </tr>\n",
       "    <tr>\n",
       "      <th>Hornet Sportabout</th>\n",
       "      <td>18.7</td>\n",
       "      <td>8</td>\n",
       "      <td>360.0</td>\n",
       "      <td>175</td>\n",
       "      <td>3.15</td>\n",
       "      <td>3.440</td>\n",
       "      <td>17.02</td>\n",
       "      <td>0</td>\n",
       "      <td>0</td>\n",
       "      <td>3</td>\n",
       "      <td>2</td>\n",
       "    </tr>\n",
       "  </tbody>\n",
       "</table>\n",
       "</div>"
      ],
      "text/plain": [
       "                    mpg  cyl   disp   hp  drat     wt   qsec  vs  am  gear  \\\n",
       "Mazda RX4          21.0    6  160.0  110  3.90  2.620  16.46   0   1     4   \n",
       "Mazda RX4 Wag      21.0    6  160.0  110  3.90  2.875  17.02   0   1     4   \n",
       "Datsun 710         22.8    4  108.0   93  3.85  2.320  18.61   1   1     4   \n",
       "Hornet 4 Drive     21.4    6  258.0  110  3.08  3.215  19.44   1   0     3   \n",
       "Hornet Sportabout  18.7    8  360.0  175  3.15  3.440  17.02   0   0     3   \n",
       "\n",
       "                   carb  \n",
       "Mazda RX4             4  \n",
       "Mazda RX4 Wag         4  \n",
       "Datsun 710            1  \n",
       "Hornet 4 Drive        1  \n",
       "Hornet Sportabout     2  "
      ]
     },
     "execution_count": 330,
     "metadata": {},
     "output_type": "execute_result"
    }
   ],
   "source": [
    "df.head()"
   ]
  },
  {
   "cell_type": "code",
   "execution_count": 331,
   "metadata": {},
   "outputs": [],
   "source": [
    "# correlation of consecutive amino acids\n",
    "import numpy\n",
    "adjacency = numpy.zeros([21,21])"
   ]
  },
  {
   "cell_type": "code",
   "execution_count": 332,
   "metadata": {},
   "outputs": [
    {
     "name": "stdout",
     "output_type": "stream",
     "text": [
      "[[0. 0. 0. 0. 0. 0. 0. 0. 0. 0. 0. 0. 0. 0. 0. 0. 0. 0. 0. 0. 0.]\n",
      " [0. 0. 0. 0. 0. 0. 0. 0. 0. 0. 0. 0. 0. 0. 0. 0. 0. 0. 0. 0. 0.]\n",
      " [0. 0. 0. 0. 0. 0. 0. 0. 0. 0. 0. 0. 0. 0. 0. 0. 0. 0. 0. 0. 0.]\n",
      " [0. 0. 0. 0. 0. 0. 0. 0. 0. 0. 0. 0. 0. 0. 0. 0. 0. 0. 0. 0. 0.]\n",
      " [0. 0. 0. 0. 0. 0. 0. 0. 0. 0. 0. 0. 0. 0. 0. 0. 0. 0. 0. 0. 0.]\n",
      " [0. 0. 0. 0. 0. 0. 0. 0. 0. 0. 0. 0. 0. 0. 0. 0. 0. 0. 0. 0. 0.]\n",
      " [0. 0. 0. 0. 0. 0. 0. 0. 0. 0. 0. 0. 0. 0. 0. 0. 0. 0. 0. 0. 0.]\n",
      " [0. 0. 0. 0. 0. 0. 0. 0. 0. 0. 0. 0. 0. 0. 0. 0. 0. 0. 0. 0. 0.]\n",
      " [0. 0. 0. 0. 0. 0. 0. 0. 0. 0. 0. 0. 0. 0. 0. 0. 0. 0. 0. 0. 0.]\n",
      " [0. 0. 0. 0. 0. 0. 0. 0. 0. 0. 0. 0. 0. 0. 0. 0. 0. 0. 0. 0. 0.]\n",
      " [0. 0. 0. 0. 0. 0. 0. 0. 0. 0. 0. 0. 0. 0. 0. 0. 0. 0. 0. 0. 0.]\n",
      " [0. 0. 0. 0. 0. 0. 0. 0. 0. 0. 0. 0. 0. 0. 0. 0. 0. 0. 0. 0. 0.]\n",
      " [0. 0. 0. 0. 0. 0. 0. 0. 0. 0. 0. 0. 0. 0. 0. 0. 0. 0. 0. 0. 0.]\n",
      " [0. 0. 0. 0. 0. 0. 0. 0. 0. 0. 0. 0. 0. 0. 0. 0. 0. 0. 0. 0. 0.]\n",
      " [0. 0. 0. 0. 0. 0. 0. 0. 0. 0. 0. 0. 0. 0. 0. 0. 0. 0. 0. 0. 0.]\n",
      " [0. 0. 0. 0. 0. 0. 0. 0. 0. 0. 0. 0. 0. 0. 0. 0. 0. 0. 0. 0. 0.]\n",
      " [0. 0. 0. 0. 0. 0. 0. 0. 0. 0. 0. 0. 0. 0. 0. 0. 0. 0. 0. 0. 0.]\n",
      " [0. 0. 0. 0. 0. 0. 0. 0. 0. 0. 0. 0. 0. 0. 0. 0. 0. 0. 0. 0. 0.]\n",
      " [0. 0. 0. 0. 0. 0. 0. 0. 0. 0. 0. 0. 0. 0. 0. 0. 0. 0. 0. 0. 0.]\n",
      " [0. 0. 0. 0. 0. 0. 0. 0. 0. 0. 0. 0. 0. 0. 0. 0. 0. 0. 0. 0. 0.]\n",
      " [0. 0. 0. 0. 0. 0. 0. 0. 0. 0. 0. 0. 0. 0. 0. 0. 0. 0. 0. 0. 0.]]\n"
     ]
    }
   ],
   "source": [
    "print(adjacency)"
   ]
  },
  {
   "cell_type": "code",
   "execution_count": 334,
   "metadata": {},
   "outputs": [
    {
     "data": {
      "text/html": [
       "<div>\n",
       "<style scoped>\n",
       "    .dataframe tbody tr th:only-of-type {\n",
       "        vertical-align: middle;\n",
       "    }\n",
       "\n",
       "    .dataframe tbody tr th {\n",
       "        vertical-align: top;\n",
       "    }\n",
       "\n",
       "    .dataframe thead th {\n",
       "        text-align: right;\n",
       "    }\n",
       "</style>\n",
       "<table border=\"1\" class=\"dataframe\">\n",
       "  <thead>\n",
       "    <tr style=\"text-align: right;\">\n",
       "      <th></th>\n",
       "      <th>#Replicon Name</th>\n",
       "      <th>Replicon Accession</th>\n",
       "      <th>Start</th>\n",
       "      <th>Stop</th>\n",
       "      <th>Strand</th>\n",
       "      <th>GeneID</th>\n",
       "      <th>Locus</th>\n",
       "      <th>Locus tag</th>\n",
       "      <th>Protein product</th>\n",
       "      <th>Length</th>\n",
       "      <th>COG(s)</th>\n",
       "      <th>Protein name</th>\n",
       "      <th>CDS</th>\n",
       "      <th>peptide</th>\n",
       "    </tr>\n",
       "  </thead>\n",
       "  <tbody>\n",
       "    <tr>\n",
       "      <th>0</th>\n",
       "      <td>chr</td>\n",
       "      <td>NC_000913.3</td>\n",
       "      <td>190</td>\n",
       "      <td>255</td>\n",
       "      <td>+</td>\n",
       "      <td>944742</td>\n",
       "      <td>thrL</td>\n",
       "      <td>b0001</td>\n",
       "      <td>NP_414542.1</td>\n",
       "      <td>21</td>\n",
       "      <td>-</td>\n",
       "      <td>thr operon leader peptide</td>\n",
       "      <td>ATGAAACGCATTAGCACCACCATTACCACCACCATCACCATTACCA...</td>\n",
       "      <td>MKRISTTITTTITITTGNGAG_</td>\n",
       "    </tr>\n",
       "    <tr>\n",
       "      <th>1</th>\n",
       "      <td>chr</td>\n",
       "      <td>NC_000913.3</td>\n",
       "      <td>337</td>\n",
       "      <td>2799</td>\n",
       "      <td>+</td>\n",
       "      <td>945803</td>\n",
       "      <td>thrA</td>\n",
       "      <td>b0002</td>\n",
       "      <td>NP_414543.1</td>\n",
       "      <td>820</td>\n",
       "      <td>-</td>\n",
       "      <td>fused aspartate kinase/homoserine dehydrogenase 1</td>\n",
       "      <td>ATGCGAGTGTTGAAGTTCGGCGGTACATCAGTGGCAAATGCAGAAC...</td>\n",
       "      <td>MRVLKFGGTSVANAERFLRVADILESNARQGQVATVLSAPAKITNH...</td>\n",
       "    </tr>\n",
       "    <tr>\n",
       "      <th>2</th>\n",
       "      <td>chr</td>\n",
       "      <td>NC_000913.3</td>\n",
       "      <td>2801</td>\n",
       "      <td>3733</td>\n",
       "      <td>+</td>\n",
       "      <td>947498</td>\n",
       "      <td>thrB</td>\n",
       "      <td>b0003</td>\n",
       "      <td>NP_414544.1</td>\n",
       "      <td>310</td>\n",
       "      <td>-</td>\n",
       "      <td>homoserine kinase</td>\n",
       "      <td>ATGGTTAAAGTTTATGCCCCGGCTTCCAGTGCCAATATGAGCGTCG...</td>\n",
       "      <td>MVKVYAPASSANMSVGFDVLGAAVTPVDGALLGDVVTVEAAETFSL...</td>\n",
       "    </tr>\n",
       "    <tr>\n",
       "      <th>3</th>\n",
       "      <td>chr</td>\n",
       "      <td>NC_000913.3</td>\n",
       "      <td>3734</td>\n",
       "      <td>5020</td>\n",
       "      <td>+</td>\n",
       "      <td>945198</td>\n",
       "      <td>thrC</td>\n",
       "      <td>b0004</td>\n",
       "      <td>NP_414545.1</td>\n",
       "      <td>428</td>\n",
       "      <td>-</td>\n",
       "      <td>threonine synthase</td>\n",
       "      <td>ATGAAACTCTACAATCTGAAAGATCACAACGAGCAGGTCAGCTTTG...</td>\n",
       "      <td>MKLYNLKDHNEQVSFAQAVTQGLGKNQGLFFPHDLPEFSLTEIDEM...</td>\n",
       "    </tr>\n",
       "    <tr>\n",
       "      <th>4</th>\n",
       "      <td>chr</td>\n",
       "      <td>NC_000913.3</td>\n",
       "      <td>5234</td>\n",
       "      <td>5530</td>\n",
       "      <td>+</td>\n",
       "      <td>944747</td>\n",
       "      <td>yaaX</td>\n",
       "      <td>b0005</td>\n",
       "      <td>NP_414546.1</td>\n",
       "      <td>98</td>\n",
       "      <td>-</td>\n",
       "      <td>DUF2502 domain-containing protein YaaX</td>\n",
       "      <td>GTGAAAAAGATGCAATCTATCGTACTCGCACTTTCCCTGGTTCTGG...</td>\n",
       "      <td>VKKMQSIVLALSLVLVAPMAAQAAEITLVPSVKLQIGDRDNRGYYW...</td>\n",
       "    </tr>\n",
       "  </tbody>\n",
       "</table>\n",
       "</div>"
      ],
      "text/plain": [
       "  #Replicon Name Replicon Accession  Start  Stop Strand  GeneID Locus  \\\n",
       "0            chr        NC_000913.3    190   255      +  944742  thrL   \n",
       "1            chr        NC_000913.3    337  2799      +  945803  thrA   \n",
       "2            chr        NC_000913.3   2801  3733      +  947498  thrB   \n",
       "3            chr        NC_000913.3   3734  5020      +  945198  thrC   \n",
       "4            chr        NC_000913.3   5234  5530      +  944747  yaaX   \n",
       "\n",
       "  Locus tag Protein product  Length COG(s)  \\\n",
       "0     b0001     NP_414542.1      21      -   \n",
       "1     b0002     NP_414543.1     820      -   \n",
       "2     b0003     NP_414544.1     310      -   \n",
       "3     b0004     NP_414545.1     428      -   \n",
       "4     b0005     NP_414546.1      98      -   \n",
       "\n",
       "                                        Protein name  \\\n",
       "0                          thr operon leader peptide   \n",
       "1  fused aspartate kinase/homoserine dehydrogenase 1   \n",
       "2                                  homoserine kinase   \n",
       "3                                 threonine synthase   \n",
       "4             DUF2502 domain-containing protein YaaX   \n",
       "\n",
       "                                                 CDS  \\\n",
       "0  ATGAAACGCATTAGCACCACCATTACCACCACCATCACCATTACCA...   \n",
       "1  ATGCGAGTGTTGAAGTTCGGCGGTACATCAGTGGCAAATGCAGAAC...   \n",
       "2  ATGGTTAAAGTTTATGCCCCGGCTTCCAGTGCCAATATGAGCGTCG...   \n",
       "3  ATGAAACTCTACAATCTGAAAGATCACAACGAGCAGGTCAGCTTTG...   \n",
       "4  GTGAAAAAGATGCAATCTATCGTACTCGCACTTTCCCTGGTTCTGG...   \n",
       "\n",
       "                                             peptide  \n",
       "0                             MKRISTTITTTITITTGNGAG_  \n",
       "1  MRVLKFGGTSVANAERFLRVADILESNARQGQVATVLSAPAKITNH...  \n",
       "2  MVKVYAPASSANMSVGFDVLGAAVTPVDGALLGDVVTVEAAETFSL...  \n",
       "3  MKLYNLKDHNEQVSFAQAVTQGLGKNQGLFFPHDLPEFSLTEIDEM...  \n",
       "4  VKKMQSIVLALSLVLVAPMAAQAAEITLVPSVKLQIGDRDNRGYYW...  "
      ]
     },
     "execution_count": 334,
     "metadata": {},
     "output_type": "execute_result"
    }
   ],
   "source": [
    "annot.head()"
   ]
  },
  {
   "cell_type": "code",
   "execution_count": 338,
   "metadata": {},
   "outputs": [
    {
     "data": {
      "text/plain": [
       "['A',\n",
       " 'C',\n",
       " 'D',\n",
       " 'E',\n",
       " 'F',\n",
       " 'G',\n",
       " 'H',\n",
       " 'I',\n",
       " 'K',\n",
       " 'L',\n",
       " 'M',\n",
       " 'N',\n",
       " 'P',\n",
       " 'Q',\n",
       " 'R',\n",
       " 'S',\n",
       " 'T',\n",
       " 'V',\n",
       " 'W',\n",
       " 'Y',\n",
       " '_']"
      ]
     },
     "execution_count": 338,
     "metadata": {},
     "output_type": "execute_result"
    }
   ],
   "source": [
    "amino_acids"
   ]
  },
  {
   "cell_type": "markdown",
   "metadata": {},
   "source": [
    "# count amino acid occurrences"
   ]
  },
  {
   "cell_type": "code",
   "execution_count": 426,
   "metadata": {},
   "outputs": [],
   "source": [
    "# use aa's as a key\n",
    "aa_count = dict()\n",
    "for index, row in annot.iterrows():\n",
    "    pep = row[\"peptide\"]\n",
    "    for j in range(0,len(pep)):\n",
    "        aa = pep[j]\n",
    "        if aa in aa_count.keys():\n",
    "            aa_count[aa] += 1\n",
    "        else:\n",
    "            aa_count[aa] = 1"
   ]
  },
  {
   "cell_type": "code",
   "execution_count": 430,
   "metadata": {},
   "outputs": [
    {
     "data": {
      "text/html": [
       "<div>\n",
       "<style scoped>\n",
       "    .dataframe tbody tr th:only-of-type {\n",
       "        vertical-align: middle;\n",
       "    }\n",
       "\n",
       "    .dataframe tbody tr th {\n",
       "        vertical-align: top;\n",
       "    }\n",
       "\n",
       "    .dataframe thead th {\n",
       "        text-align: right;\n",
       "    }\n",
       "</style>\n",
       "<table border=\"1\" class=\"dataframe\">\n",
       "  <thead>\n",
       "    <tr style=\"text-align: right;\">\n",
       "      <th></th>\n",
       "      <th>count</th>\n",
       "    </tr>\n",
       "  </thead>\n",
       "  <tbody>\n",
       "    <tr>\n",
       "      <th>M</th>\n",
       "      <td>37054</td>\n",
       "    </tr>\n",
       "    <tr>\n",
       "      <th>K</th>\n",
       "      <td>58230</td>\n",
       "    </tr>\n",
       "    <tr>\n",
       "      <th>R</th>\n",
       "      <td>73185</td>\n",
       "    </tr>\n",
       "    <tr>\n",
       "      <th>I</th>\n",
       "      <td>79599</td>\n",
       "    </tr>\n",
       "    <tr>\n",
       "      <th>S</th>\n",
       "      <td>76505</td>\n",
       "    </tr>\n",
       "    <tr>\n",
       "      <th>T</th>\n",
       "      <td>71147</td>\n",
       "    </tr>\n",
       "    <tr>\n",
       "      <th>G</th>\n",
       "      <td>97426</td>\n",
       "    </tr>\n",
       "    <tr>\n",
       "      <th>N</th>\n",
       "      <td>51642</td>\n",
       "    </tr>\n",
       "    <tr>\n",
       "      <th>A</th>\n",
       "      <td>126304</td>\n",
       "    </tr>\n",
       "    <tr>\n",
       "      <th>_</th>\n",
       "      <td>4242</td>\n",
       "    </tr>\n",
       "    <tr>\n",
       "      <th>V</th>\n",
       "      <td>94098</td>\n",
       "    </tr>\n",
       "    <tr>\n",
       "      <th>L</th>\n",
       "      <td>141849</td>\n",
       "    </tr>\n",
       "    <tr>\n",
       "      <th>F</th>\n",
       "      <td>51644</td>\n",
       "    </tr>\n",
       "    <tr>\n",
       "      <th>E</th>\n",
       "      <td>76418</td>\n",
       "    </tr>\n",
       "    <tr>\n",
       "      <th>D</th>\n",
       "      <td>67884</td>\n",
       "    </tr>\n",
       "    <tr>\n",
       "      <th>Q</th>\n",
       "      <td>58849</td>\n",
       "    </tr>\n",
       "    <tr>\n",
       "      <th>P</th>\n",
       "      <td>58796</td>\n",
       "    </tr>\n",
       "    <tr>\n",
       "      <th>H</th>\n",
       "      <td>30032</td>\n",
       "    </tr>\n",
       "    <tr>\n",
       "      <th>C</th>\n",
       "      <td>15409</td>\n",
       "    </tr>\n",
       "    <tr>\n",
       "      <th>Y</th>\n",
       "      <td>37488</td>\n",
       "    </tr>\n",
       "    <tr>\n",
       "      <th>W</th>\n",
       "      <td>20257</td>\n",
       "    </tr>\n",
       "  </tbody>\n",
       "</table>\n",
       "</div>"
      ],
      "text/plain": [
       "    count\n",
       "M   37054\n",
       "K   58230\n",
       "R   73185\n",
       "I   79599\n",
       "S   76505\n",
       "T   71147\n",
       "G   97426\n",
       "N   51642\n",
       "A  126304\n",
       "_    4242\n",
       "V   94098\n",
       "L  141849\n",
       "F   51644\n",
       "E   76418\n",
       "D   67884\n",
       "Q   58849\n",
       "P   58796\n",
       "H   30032\n",
       "C   15409\n",
       "Y   37488\n",
       "W   20257"
      ]
     },
     "execution_count": 430,
     "metadata": {},
     "output_type": "execute_result"
    }
   ],
   "source": [
    "aa_counts_df = pd.DataFrame.from_dict(aa_count, orient=\"index\")\n",
    "aa_counts_df = aa_counts_df.rename(columns = {0:\"count\"})\n",
    "aa_counts_df"
   ]
  },
  {
   "cell_type": "code",
   "execution_count": 434,
   "metadata": {
    "scrolled": true
   },
   "outputs": [
    {
     "data": {
      "text/plain": [
       "<matplotlib.axes._subplots.AxesSubplot at 0x110642438>"
      ]
     },
     "execution_count": 434,
     "metadata": {},
     "output_type": "execute_result"
    },
    {
     "data": {
      "image/png": "[encoded data removed]",
      "text/plain": [
       "<Figure size 432x288 with 1 Axes>"
      ]
     },
     "metadata": {},
     "output_type": "display_data"
    }
   ],
   "source": [
    "aa_counts_df.sort_values(\"count\").plot(kind=\"bar\")"
   ]
  },
  {
   "cell_type": "code",
   "execution_count": 443,
   "metadata": {},
   "outputs": [
    {
     "name": "stdout",
     "output_type": "stream",
     "text": [
      "count    1328058\n",
      "dtype: int64\n"
     ]
    }
   ],
   "source": [
    "tot = aa_counts_df.sum()\n",
    "print(tot)"
   ]
  },
  {
   "cell_type": "code",
   "execution_count": 445,
   "metadata": {},
   "outputs": [
    {
     "data": {
      "text/html": [
       "<div>\n",
       "<style scoped>\n",
       "    .dataframe tbody tr th:only-of-type {\n",
       "        vertical-align: middle;\n",
       "    }\n",
       "\n",
       "    .dataframe tbody tr th {\n",
       "        vertical-align: top;\n",
       "    }\n",
       "\n",
       "    .dataframe thead th {\n",
       "        text-align: right;\n",
       "    }\n",
       "</style>\n",
       "<table border=\"1\" class=\"dataframe\">\n",
       "  <thead>\n",
       "    <tr style=\"text-align: right;\">\n",
       "      <th></th>\n",
       "      <th>count</th>\n",
       "    </tr>\n",
       "  </thead>\n",
       "  <tbody>\n",
       "    <tr>\n",
       "      <th>count</th>\n",
       "      <td>21.000000</td>\n",
       "    </tr>\n",
       "    <tr>\n",
       "      <th>mean</th>\n",
       "      <td>63240.857143</td>\n",
       "    </tr>\n",
       "    <tr>\n",
       "      <th>std</th>\n",
       "      <td>34262.537907</td>\n",
       "    </tr>\n",
       "    <tr>\n",
       "      <th>min</th>\n",
       "      <td>4242.000000</td>\n",
       "    </tr>\n",
       "    <tr>\n",
       "      <th>25%</th>\n",
       "      <td>37488.000000</td>\n",
       "    </tr>\n",
       "    <tr>\n",
       "      <th>50%</th>\n",
       "      <td>58849.000000</td>\n",
       "    </tr>\n",
       "    <tr>\n",
       "      <th>75%</th>\n",
       "      <td>76505.000000</td>\n",
       "    </tr>\n",
       "    <tr>\n",
       "      <th>max</th>\n",
       "      <td>141849.000000</td>\n",
       "    </tr>\n",
       "  </tbody>\n",
       "</table>\n",
       "</div>"
      ],
      "text/plain": [
       "               count\n",
       "count      21.000000\n",
       "mean    63240.857143\n",
       "std     34262.537907\n",
       "min      4242.000000\n",
       "25%     37488.000000\n",
       "50%     58849.000000\n",
       "75%     76505.000000\n",
       "max    141849.000000"
      ]
     },
     "execution_count": 445,
     "metadata": {},
     "output_type": "execute_result"
    }
   ],
   "source": [
    "aa_counts_df.describe()"
   ]
  },
  {
   "cell_type": "code",
   "execution_count": null,
   "metadata": {},
   "outputs": [],
   "source": []
  },
  {
   "cell_type": "code",
   "execution_count": 447,
   "metadata": {},
   "outputs": [
    {
     "data": {
      "text/html": [
       "<div>\n",
       "<style scoped>\n",
       "    .dataframe tbody tr th:only-of-type {\n",
       "        vertical-align: middle;\n",
       "    }\n",
       "\n",
       "    .dataframe tbody tr th {\n",
       "        vertical-align: top;\n",
       "    }\n",
       "\n",
       "    .dataframe thead th {\n",
       "        text-align: right;\n",
       "    }\n",
       "</style>\n",
       "<table border=\"1\" class=\"dataframe\">\n",
       "  <thead>\n",
       "    <tr style=\"text-align: right;\">\n",
       "      <th></th>\n",
       "      <th>count</th>\n",
       "    </tr>\n",
       "  </thead>\n",
       "  <tbody>\n",
       "    <tr>\n",
       "      <th>M</th>\n",
       "      <td>37054</td>\n",
       "    </tr>\n",
       "    <tr>\n",
       "      <th>K</th>\n",
       "      <td>58230</td>\n",
       "    </tr>\n",
       "    <tr>\n",
       "      <th>R</th>\n",
       "      <td>73185</td>\n",
       "    </tr>\n",
       "    <tr>\n",
       "      <th>I</th>\n",
       "      <td>79599</td>\n",
       "    </tr>\n",
       "    <tr>\n",
       "      <th>S</th>\n",
       "      <td>76505</td>\n",
       "    </tr>\n",
       "  </tbody>\n",
       "</table>\n",
       "</div>"
      ],
      "text/plain": [
       "   count\n",
       "M  37054\n",
       "K  58230\n",
       "R  73185\n",
       "I  79599\n",
       "S  76505"
      ]
     },
     "execution_count": 447,
     "metadata": {},
     "output_type": "execute_result"
    }
   ],
   "source": [
    "aa_counts_df.head()"
   ]
  },
  {
   "cell_type": "code",
   "execution_count": 449,
   "metadata": {},
   "outputs": [
    {
     "data": {
      "text/html": [
       "<div>\n",
       "<style scoped>\n",
       "    .dataframe tbody tr th:only-of-type {\n",
       "        vertical-align: middle;\n",
       "    }\n",
       "\n",
       "    .dataframe tbody tr th {\n",
       "        vertical-align: top;\n",
       "    }\n",
       "\n",
       "    .dataframe thead th {\n",
       "        text-align: right;\n",
       "    }\n",
       "</style>\n",
       "<table border=\"1\" class=\"dataframe\">\n",
       "  <thead>\n",
       "    <tr style=\"text-align: right;\">\n",
       "      <th></th>\n",
       "      <th>count</th>\n",
       "      <th>freq</th>\n",
       "    </tr>\n",
       "  </thead>\n",
       "  <tbody>\n",
       "    <tr>\n",
       "      <th>M</th>\n",
       "      <td>37054</td>\n",
       "      <td>0.027901</td>\n",
       "    </tr>\n",
       "    <tr>\n",
       "      <th>K</th>\n",
       "      <td>58230</td>\n",
       "      <td>0.043846</td>\n",
       "    </tr>\n",
       "    <tr>\n",
       "      <th>R</th>\n",
       "      <td>73185</td>\n",
       "      <td>0.055107</td>\n",
       "    </tr>\n",
       "    <tr>\n",
       "      <th>I</th>\n",
       "      <td>79599</td>\n",
       "      <td>0.059936</td>\n",
       "    </tr>\n",
       "    <tr>\n",
       "      <th>S</th>\n",
       "      <td>76505</td>\n",
       "      <td>0.057607</td>\n",
       "    </tr>\n",
       "  </tbody>\n",
       "</table>\n",
       "</div>"
      ],
      "text/plain": [
       "   count      freq\n",
       "M  37054  0.027901\n",
       "K  58230  0.043846\n",
       "R  73185  0.055107\n",
       "I  79599  0.059936\n",
       "S  76505  0.057607"
      ]
     },
     "execution_count": 449,
     "metadata": {},
     "output_type": "execute_result"
    }
   ],
   "source": [
    "# add a frequency column\n",
    "aa_counts_df['freq']= aa_counts_df['count'].apply(lambda x: x/tot) #[\"freq\"] = aa_counts_df[\"count\"]/1328058 )\n",
    "aa_counts_df.head()"
   ]
  },
  {
   "cell_type": "code",
   "execution_count": 454,
   "metadata": {},
   "outputs": [
    {
     "data": {
      "text/plain": [
       "0.027900889870773715"
      ]
     },
     "execution_count": 454,
     "metadata": {},
     "output_type": "execute_result"
    }
   ],
   "source": [
    "aa_counts_df.loc[\"M\"][\"freq\"]"
   ]
  },
  {
   "cell_type": "markdown",
   "metadata": {},
   "source": [
    "# count consecutive pairs of aa's"
   ]
  },
  {
   "cell_type": "code",
   "execution_count": 435,
   "metadata": {},
   "outputs": [],
   "source": [
    "# use tuple of aa's as a key\n",
    "aa_adjacency = dict()\n",
    "for index, row in annot.iterrows():\n",
    "    pep = row[\"peptide\"]\n",
    "    for j in range(0,len(pep)-1):\n",
    "        aa1 = pep[j]\n",
    "        aa2 = pep[j+1]\n",
    "        aa_tup = (aa1,aa2)\n",
    "        if aa_tup in aa_adjacency.keys():\n",
    "            aa_adjacency[aa_tup] += 1\n",
    "        else:\n",
    "            aa_adjacency[aa_tup] = 1"
   ]
  },
  {
   "cell_type": "code",
   "execution_count": 436,
   "metadata": {},
   "outputs": [
    {
     "data": {
      "text/html": [
       "<div>\n",
       "<style scoped>\n",
       "    .dataframe tbody tr th:only-of-type {\n",
       "        vertical-align: middle;\n",
       "    }\n",
       "\n",
       "    .dataframe tbody tr th {\n",
       "        vertical-align: top;\n",
       "    }\n",
       "\n",
       "    .dataframe thead th {\n",
       "        text-align: right;\n",
       "    }\n",
       "</style>\n",
       "<table border=\"1\" class=\"dataframe\">\n",
       "  <thead>\n",
       "    <tr style=\"text-align: right;\">\n",
       "      <th></th>\n",
       "      <th>0</th>\n",
       "    </tr>\n",
       "  </thead>\n",
       "  <tbody>\n",
       "    <tr>\n",
       "      <th>(M, K)</th>\n",
       "      <td>1859</td>\n",
       "    </tr>\n",
       "    <tr>\n",
       "      <th>(K, R)</th>\n",
       "      <td>3470</td>\n",
       "    </tr>\n",
       "    <tr>\n",
       "      <th>(R, I)</th>\n",
       "      <td>4426</td>\n",
       "    </tr>\n",
       "    <tr>\n",
       "      <th>(I, S)</th>\n",
       "      <td>5299</td>\n",
       "    </tr>\n",
       "    <tr>\n",
       "      <th>(S, T)</th>\n",
       "      <td>3940</td>\n",
       "    </tr>\n",
       "  </tbody>\n",
       "</table>\n",
       "</div>"
      ],
      "text/plain": [
       "           0\n",
       "(M, K)  1859\n",
       "(K, R)  3470\n",
       "(R, I)  4426\n",
       "(I, S)  5299\n",
       "(S, T)  3940"
      ]
     },
     "execution_count": 436,
     "metadata": {},
     "output_type": "execute_result"
    }
   ],
   "source": [
    "# turn into a data frame\n",
    "pd.DataFrame.from_dict(aa_adjacency,orient=\"index\").head()"
   ]
  },
  {
   "cell_type": "code",
   "execution_count": 437,
   "metadata": {},
   "outputs": [
    {
     "data": {
      "text/html": [
       "<div>\n",
       "<style scoped>\n",
       "    .dataframe tbody tr th:only-of-type {\n",
       "        vertical-align: middle;\n",
       "    }\n",
       "\n",
       "    .dataframe tbody tr th {\n",
       "        vertical-align: top;\n",
       "    }\n",
       "\n",
       "    .dataframe thead th {\n",
       "        text-align: right;\n",
       "    }\n",
       "</style>\n",
       "<table border=\"1\" class=\"dataframe\">\n",
       "  <thead>\n",
       "    <tr style=\"text-align: right;\">\n",
       "      <th></th>\n",
       "      <th>A</th>\n",
       "      <th>C</th>\n",
       "      <th>D</th>\n",
       "      <th>E</th>\n",
       "      <th>F</th>\n",
       "      <th>G</th>\n",
       "      <th>H</th>\n",
       "      <th>I</th>\n",
       "      <th>K</th>\n",
       "      <th>L</th>\n",
       "      <th>...</th>\n",
       "      <th>N</th>\n",
       "      <th>P</th>\n",
       "      <th>Q</th>\n",
       "      <th>R</th>\n",
       "      <th>S</th>\n",
       "      <th>T</th>\n",
       "      <th>V</th>\n",
       "      <th>W</th>\n",
       "      <th>Y</th>\n",
       "      <th>_</th>\n",
       "    </tr>\n",
       "  </thead>\n",
       "  <tbody>\n",
       "    <tr>\n",
       "      <th>T</th>\n",
       "      <td>6710</td>\n",
       "      <td>740</td>\n",
       "      <td>3493</td>\n",
       "      <td>3478</td>\n",
       "      <td>2824</td>\n",
       "      <td>5963</td>\n",
       "      <td>1650</td>\n",
       "      <td>4098</td>\n",
       "      <td>2075</td>\n",
       "      <td>9596</td>\n",
       "      <td>...</td>\n",
       "      <td>2186</td>\n",
       "      <td>4224</td>\n",
       "      <td>2887</td>\n",
       "      <td>3953</td>\n",
       "      <td>3831</td>\n",
       "      <td>3970</td>\n",
       "      <td>5202</td>\n",
       "      <td>1122</td>\n",
       "      <td>1560</td>\n",
       "      <td>44</td>\n",
       "    </tr>\n",
       "    <tr>\n",
       "      <th>V</th>\n",
       "      <td>9281</td>\n",
       "      <td>1113</td>\n",
       "      <td>5005</td>\n",
       "      <td>5465</td>\n",
       "      <td>3423</td>\n",
       "      <td>6455</td>\n",
       "      <td>1694</td>\n",
       "      <td>6378</td>\n",
       "      <td>4356</td>\n",
       "      <td>9581</td>\n",
       "      <td>...</td>\n",
       "      <td>3820</td>\n",
       "      <td>4016</td>\n",
       "      <td>3084</td>\n",
       "      <td>4705</td>\n",
       "      <td>5875</td>\n",
       "      <td>5674</td>\n",
       "      <td>7577</td>\n",
       "      <td>1301</td>\n",
       "      <td>2322</td>\n",
       "      <td>200</td>\n",
       "    </tr>\n",
       "    <tr>\n",
       "      <th>W</th>\n",
       "      <td>1367</td>\n",
       "      <td>273</td>\n",
       "      <td>832</td>\n",
       "      <td>776</td>\n",
       "      <td>952</td>\n",
       "      <td>1244</td>\n",
       "      <td>604</td>\n",
       "      <td>1030</td>\n",
       "      <td>724</td>\n",
       "      <td>3111</td>\n",
       "      <td>...</td>\n",
       "      <td>640</td>\n",
       "      <td>861</td>\n",
       "      <td>1720</td>\n",
       "      <td>1425</td>\n",
       "      <td>1106</td>\n",
       "      <td>766</td>\n",
       "      <td>1261</td>\n",
       "      <td>327</td>\n",
       "      <td>610</td>\n",
       "      <td>61</td>\n",
       "    </tr>\n",
       "    <tr>\n",
       "      <th>Y</th>\n",
       "      <td>3236</td>\n",
       "      <td>527</td>\n",
       "      <td>2073</td>\n",
       "      <td>1771</td>\n",
       "      <td>1607</td>\n",
       "      <td>2933</td>\n",
       "      <td>995</td>\n",
       "      <td>1969</td>\n",
       "      <td>1343</td>\n",
       "      <td>4018</td>\n",
       "      <td>...</td>\n",
       "      <td>1394</td>\n",
       "      <td>1811</td>\n",
       "      <td>2086</td>\n",
       "      <td>2415</td>\n",
       "      <td>2363</td>\n",
       "      <td>2003</td>\n",
       "      <td>2221</td>\n",
       "      <td>585</td>\n",
       "      <td>1298</td>\n",
       "      <td>98</td>\n",
       "    </tr>\n",
       "    <tr>\n",
       "      <th>_</th>\n",
       "      <td>0</td>\n",
       "      <td>0</td>\n",
       "      <td>0</td>\n",
       "      <td>0</td>\n",
       "      <td>0</td>\n",
       "      <td>0</td>\n",
       "      <td>3</td>\n",
       "      <td>0</td>\n",
       "      <td>0</td>\n",
       "      <td>0</td>\n",
       "      <td>...</td>\n",
       "      <td>0</td>\n",
       "      <td>0</td>\n",
       "      <td>0</td>\n",
       "      <td>0</td>\n",
       "      <td>0</td>\n",
       "      <td>0</td>\n",
       "      <td>0</td>\n",
       "      <td>0</td>\n",
       "      <td>0</td>\n",
       "      <td>0</td>\n",
       "    </tr>\n",
       "  </tbody>\n",
       "</table>\n",
       "<p>5 rows × 21 columns</p>\n",
       "</div>"
      ],
      "text/plain": [
       "      A     C     D     E     F     G     H     I     K     L ...      N  \\\n",
       "T  6710   740  3493  3478  2824  5963  1650  4098  2075  9596 ...   2186   \n",
       "V  9281  1113  5005  5465  3423  6455  1694  6378  4356  9581 ...   3820   \n",
       "W  1367   273   832   776   952  1244   604  1030   724  3111 ...    640   \n",
       "Y  3236   527  2073  1771  1607  2933   995  1969  1343  4018 ...   1394   \n",
       "_     0     0     0     0     0     0     3     0     0     0 ...      0   \n",
       "\n",
       "      P     Q     R     S     T     V     W     Y    _  \n",
       "T  4224  2887  3953  3831  3970  5202  1122  1560   44  \n",
       "V  4016  3084  4705  5875  5674  7577  1301  2322  200  \n",
       "W   861  1720  1425  1106   766  1261   327   610   61  \n",
       "Y  1811  2086  2415  2363  2003  2221   585  1298   98  \n",
       "_     0     0     0     0     0     0     0     0    0  \n",
       "\n",
       "[5 rows x 21 columns]"
      ]
     },
     "execution_count": 437,
     "metadata": {},
     "output_type": "execute_result"
    }
   ],
   "source": [
    "# turn into a data frame (there are fancier ways\n",
    "aa_adjacency_df = pd.DataFrame(index = amino_acids, columns = amino_acids)\n",
    "for (aa1,aa2) in aa_adjacency.keys():\n",
    "    aa_adjacency_df.loc[aa1,aa2] = aa_adjacency[(aa1,aa2)]\n",
    "aa_adjacency_df = aa_adjacency_df.fillna(0)\n",
    "aa_adjacency_df.tail()"
   ]
  },
  {
   "cell_type": "code",
   "execution_count": 439,
   "metadata": {},
   "outputs": [],
   "source": [
    "# strip off last row (no pairs start with STOP)\n",
    "aa_adjacency_df = aa_adjacency_df.loc[amino_acids[0:20]]"
   ]
  },
  {
   "cell_type": "code",
   "execution_count": 440,
   "metadata": {},
   "outputs": [
    {
     "data": {
      "text/plain": [
       "(20, 21)"
      ]
     },
     "execution_count": 440,
     "metadata": {},
     "output_type": "execute_result"
    }
   ],
   "source": [
    "aa_adjacency_df.shape"
   ]
  },
  {
   "cell_type": "code",
   "execution_count": 441,
   "metadata": {},
   "outputs": [
    {
     "data": {
      "text/plain": [
       "<seaborn.matrix.ClusterGrid at 0x1a17acfcf8>"
      ]
     },
     "execution_count": 441,
     "metadata": {},
     "output_type": "execute_result"
    },
    {
     "data": {
      "image/png": "[encoded data removed]",
      "text/plain": [
       "<Figure size 720x720 with 4 Axes>"
      ]
     },
     "metadata": {},
     "output_type": "display_data"
    }
   ],
   "source": [
    "sns.clustermap(aa_adjacency_df)"
   ]
  },
  {
   "cell_type": "code",
   "execution_count": null,
   "metadata": {},
   "outputs": [],
   "source": [
    "# this is the raw data (counts) and is dominated by the commonality of L, A \n",
    "# and scarcity of Y,H,M, C, and W _ (one per gene) "
   ]
  },
  {
   "cell_type": "code",
   "execution_count": 416,
   "metadata": {},
   "outputs": [],
   "source": [
    "# turn into a data frame -- normalized\n",
    "aa_adjacency_df2 = pd.DataFrame(index = amino_acids, columns = amino_acids)\n",
    "for (aa1,aa2) in aa_adjacency.keys():\n",
    "    aa_adjacency_df2.loc[aa1,aa2] = 10000000 * aa_adjacency[(aa1,aa2)]/(aa_count[aa1]*aa_count[aa2])\n",
    "aa_adjacency_df2 = aa_adjacency_df2.fillna(0)\n",
    "# drop the line with '-' (since there are no tuples that start with '_')\n",
    "aa_adjacency_df2 = aa_adjacency_df2.loc[amino_acids[0:20]]"
   ]
  },
  {
   "cell_type": "code",
   "execution_count": 450,
   "metadata": {},
   "outputs": [
    {
     "data": {
      "text/plain": [
       "<seaborn.matrix.ClusterGrid at 0x1a17acfb70>"
      ]
     },
     "execution_count": 450,
     "metadata": {},
     "output_type": "execute_result"
    },
    {
     "data": {
      "image/png": "[encoded data removed]",
      "text/plain": [
       "<Figure size 720x720 with 4 Axes>"
      ]
     },
     "metadata": {},
     "output_type": "display_data"
    }
   ],
   "source": [
    "sns.clustermap(aa_adjacency_df2)"
   ]
  },
  {
   "cell_type": "code",
   "execution_count": 460,
   "metadata": {},
   "outputs": [],
   "source": [
    "# turn into a data frame -- normalized a different way\n",
    "aa_adjacency_df3 = pd.DataFrame(index = amino_acids, columns = amino_acids)\n",
    "for (aa1,aa2) in aa_adjacency.keys():\n",
    "    aa_adjacency_df3.loc[aa1,aa2] = aa_adjacency[(aa1,aa2)] - aa_count[aa1]*aa_counts_df.loc[aa2][\"freq\"]\n",
    "aa_adjacency_df3 = aa_adjacency_df3.fillna(0)\n",
    "# drop the line with '-' (since there are no tuples that start with '_')\n",
    "aa_adjacency_df3 = aa_adjacency_df3.loc[amino_acids[0:20]]"
   ]
  },
  {
   "cell_type": "code",
   "execution_count": 461,
   "metadata": {},
   "outputs": [
    {
     "data": {
      "text/plain": [
       "<seaborn.matrix.ClusterGrid at 0x1a1a4a8668>"
      ]
     },
     "execution_count": 461,
     "metadata": {},
     "output_type": "execute_result"
    },
    {
     "data": {
      "image/png": "[encoded data removed]",
      "text/plain": [
       "<Figure size 720x720 with 4 Axes>"
      ]
     },
     "metadata": {},
     "output_type": "display_data"
    }
   ],
   "source": [
    "sns.clustermap(aa_adjacency_df3)"
   ]
  },
  {
   "cell_type": "code",
   "execution_count": 464,
   "metadata": {},
   "outputs": [],
   "source": [
    "# turn into a data frame -- normalized a different way\n",
    "aa_adjacency_df4 = pd.DataFrame(index = amino_acids, columns = amino_acids)\n",
    "for (aa1,aa2) in aa_adjacency.keys():\n",
    "    aa_adjacency_df4.loc[aa1,aa2] = (aa_adjacency[(aa1,aa2)] - aa_count[aa1]*aa_counts_df.loc[aa2][\"freq\"])/(aa_count[aa1]*aa_counts_df.loc[aa2][\"freq\"])\n",
    "aa_adjacency_df4 = aa_adjacency_df4.fillna(0)\n",
    "# drop the line with '-' (since there are no tuples that start with '_')\n",
    "aa_adjacency_df4 = aa_adjacency_df4.loc[amino_acids[0:20]]"
   ]
  },
  {
   "cell_type": "code",
   "execution_count": 465,
   "metadata": {},
   "outputs": [
    {
     "data": {
      "text/plain": [
       "<seaborn.matrix.ClusterGrid at 0x1a184bc828>"
      ]
     },
     "execution_count": 465,
     "metadata": {},
     "output_type": "execute_result"
    },
    {
     "data": {
      "image/png": "[encoded data removed]",
      "text/plain": [
       "<Figure size 720x720 with 4 Axes>"
      ]
     },
     "metadata": {},
     "output_type": "display_data"
    }
   ],
   "source": [
    "sns.clustermap(aa_adjacency_df4)"
   ]
  },
  {
   "cell_type": "code",
   "execution_count": null,
   "metadata": {},
   "outputs": [],
   "source": []
  },
  {
   "cell_type": "code",
   "execution_count": null,
   "metadata": {},
   "outputs": [],
   "source": []
  },
  {
   "cell_type": "code",
   "execution_count": null,
   "metadata": {},
   "outputs": [],
   "source": []
  },
  {
   "cell_type": "code",
   "execution_count": null,
   "metadata": {},
   "outputs": [],
   "source": []
  },
  {
   "cell_type": "code",
   "execution_count": 40,
   "metadata": {},
   "outputs": [],
   "source": [
    "nucleotides = ['A','C','G','T']"
   ]
  },
  {
   "cell_type": "code",
   "execution_count": 296,
   "metadata": {},
   "outputs": [],
   "source": [
    "# add on to a given list\n",
    "def tack_on(list1, alphabet):\n",
    "    list2 = []\n",
    "    for i in list1:\n",
    "        for j in alphabet:\n",
    "            list2.append(i+j)\n",
    "    return list2"
   ]
  },
  {
   "cell_type": "code",
   "execution_count": 297,
   "metadata": {},
   "outputs": [
    {
     "data": {
      "text/plain": [
       "['AA',\n",
       " 'AC',\n",
       " 'AG',\n",
       " 'AT',\n",
       " 'CA',\n",
       " 'CC',\n",
       " 'CG',\n",
       " 'CT',\n",
       " 'GA',\n",
       " 'GC',\n",
       " 'GG',\n",
       " 'GT',\n",
       " 'TA',\n",
       " 'TC',\n",
       " 'TG',\n",
       " 'TT']"
      ]
     },
     "execution_count": 297,
     "metadata": {},
     "output_type": "execute_result"
    }
   ],
   "source": [
    "# test it!\n",
    "listN = nucleotides\n",
    "tack_on(listN, nucleotides)"
   ]
  },
  {
   "cell_type": "code",
   "execution_count": 298,
   "metadata": {},
   "outputs": [
    {
     "name": "stdout",
     "output_type": "stream",
     "text": [
      "['A', 'C', 'G', 'T']\n"
     ]
    }
   ],
   "source": [
    "print(listN)"
   ]
  },
  {
   "cell_type": "code",
   "execution_count": 299,
   "metadata": {},
   "outputs": [],
   "source": [
    "list2 = tack_on(listN, nucleotides)"
   ]
  },
  {
   "cell_type": "code",
   "execution_count": 300,
   "metadata": {},
   "outputs": [
    {
     "name": "stdout",
     "output_type": "stream",
     "text": [
      "['AA', 'AC', 'AG', 'AT', 'CA', 'CC', 'CG', 'CT', 'GA', 'GC', 'GG', 'GT', 'TA', 'TC', 'TG', 'TT']\n"
     ]
    }
   ],
   "source": [
    "print(list2)"
   ]
  },
  {
   "cell_type": "code",
   "execution_count": null,
   "metadata": {},
   "outputs": [],
   "source": [
    "#iterate"
   ]
  },
  {
   "cell_type": "code",
   "execution_count": null,
   "metadata": {},
   "outputs": [],
   "source": [
    "# six frame translation\n",
    "# given a "
   ]
  },
  {
   "cell_type": "code",
   "execution_count": null,
   "metadata": {},
   "outputs": [],
   "source": []
  },
  {
   "cell_type": "code",
   "execution_count": 337,
   "metadata": {},
   "outputs": [
    {
     "data": {
      "text/html": [
       "<div>\n",
       "<style scoped>\n",
       "    .dataframe tbody tr th:only-of-type {\n",
       "        vertical-align: middle;\n",
       "    }\n",
       "\n",
       "    .dataframe tbody tr th {\n",
       "        vertical-align: top;\n",
       "    }\n",
       "\n",
       "    .dataframe thead th {\n",
       "        text-align: right;\n",
       "    }\n",
       "</style>\n",
       "<table border=\"1\" class=\"dataframe\">\n",
       "  <thead>\n",
       "    <tr style=\"text-align: right;\">\n",
       "      <th></th>\n",
       "      <th>#Replicon Name</th>\n",
       "      <th>Replicon Accession</th>\n",
       "      <th>Start</th>\n",
       "      <th>Stop</th>\n",
       "      <th>Strand</th>\n",
       "      <th>GeneID</th>\n",
       "      <th>Locus</th>\n",
       "      <th>Locus tag</th>\n",
       "      <th>Protein product</th>\n",
       "      <th>Length</th>\n",
       "      <th>COG(s)</th>\n",
       "      <th>Protein name</th>\n",
       "      <th>CDS</th>\n",
       "      <th>peptide</th>\n",
       "    </tr>\n",
       "  </thead>\n",
       "  <tbody>\n",
       "    <tr>\n",
       "      <th>1</th>\n",
       "      <td>chr</td>\n",
       "      <td>NC_000913.3</td>\n",
       "      <td>337</td>\n",
       "      <td>2799</td>\n",
       "      <td>+</td>\n",
       "      <td>945803</td>\n",
       "      <td>thrA</td>\n",
       "      <td>b0002</td>\n",
       "      <td>NP_414543.1</td>\n",
       "      <td>820</td>\n",
       "      <td>-</td>\n",
       "      <td>fused aspartate kinase/homoserine dehydrogenase 1</td>\n",
       "      <td>ATGCGAGTGTTGAAGTTCGGCGGTACATCAGTGGCAAATGCAGAAC...</td>\n",
       "      <td>MRVLKFGGTSVANAERFLRVADILESNARQGQVATVLSAPAKITNH...</td>\n",
       "    </tr>\n",
       "    <tr>\n",
       "      <th>2</th>\n",
       "      <td>chr</td>\n",
       "      <td>NC_000913.3</td>\n",
       "      <td>2801</td>\n",
       "      <td>3733</td>\n",
       "      <td>+</td>\n",
       "      <td>947498</td>\n",
       "      <td>thrB</td>\n",
       "      <td>b0003</td>\n",
       "      <td>NP_414544.1</td>\n",
       "      <td>310</td>\n",
       "      <td>-</td>\n",
       "      <td>homoserine kinase</td>\n",
       "      <td>ATGGTTAAAGTTTATGCCCCGGCTTCCAGTGCCAATATGAGCGTCG...</td>\n",
       "      <td>MVKVYAPASSANMSVGFDVLGAAVTPVDGALLGDVVTVEAAETFSL...</td>\n",
       "    </tr>\n",
       "    <tr>\n",
       "      <th>3</th>\n",
       "      <td>chr</td>\n",
       "      <td>NC_000913.3</td>\n",
       "      <td>3734</td>\n",
       "      <td>5020</td>\n",
       "      <td>+</td>\n",
       "      <td>945198</td>\n",
       "      <td>thrC</td>\n",
       "      <td>b0004</td>\n",
       "      <td>NP_414545.1</td>\n",
       "      <td>428</td>\n",
       "      <td>-</td>\n",
       "      <td>threonine synthase</td>\n",
       "      <td>ATGAAACTCTACAATCTGAAAGATCACAACGAGCAGGTCAGCTTTG...</td>\n",
       "      <td>MKLYNLKDHNEQVSFAQAVTQGLGKNQGLFFPHDLPEFSLTEIDEM...</td>\n",
       "    </tr>\n",
       "    <tr>\n",
       "      <th>6</th>\n",
       "      <td>chr</td>\n",
       "      <td>NC_000913.3</td>\n",
       "      <td>6529</td>\n",
       "      <td>7959</td>\n",
       "      <td>-</td>\n",
       "      <td>944745</td>\n",
       "      <td>yaaJ</td>\n",
       "      <td>b0007</td>\n",
       "      <td>NP_414548.1</td>\n",
       "      <td>476</td>\n",
       "      <td>-</td>\n",
       "      <td>putative transporter YaaJ</td>\n",
       "      <td>ATGCCAGATTTTTTCTCCTTCATTAACAGCGTCCTTTGGGGATCGG...</td>\n",
       "      <td>MPDFFSFINSVLWGSVMIYLLFGAGCWFTFRTGFVQFRYIRQFGKS...</td>\n",
       "    </tr>\n",
       "    <tr>\n",
       "      <th>7</th>\n",
       "      <td>chr</td>\n",
       "      <td>NC_000913.3</td>\n",
       "      <td>8238</td>\n",
       "      <td>9191</td>\n",
       "      <td>+</td>\n",
       "      <td>944748</td>\n",
       "      <td>talB</td>\n",
       "      <td>b0008</td>\n",
       "      <td>NP_414549.1</td>\n",
       "      <td>317</td>\n",
       "      <td>-</td>\n",
       "      <td>transaldolase B</td>\n",
       "      <td>ATGACGGACAAATTGACCTCCCTTCGTCAGTACACCACCGTAGTGG...</td>\n",
       "      <td>MTDKLTSLRQYTTVVADTGDIAAMKLYQPQDATTNPSLILNAAQIP...</td>\n",
       "    </tr>\n",
       "  </tbody>\n",
       "</table>\n",
       "</div>"
      ],
      "text/plain": [
       "  #Replicon Name Replicon Accession  Start  Stop Strand  GeneID Locus  \\\n",
       "1            chr        NC_000913.3    337  2799      +  945803  thrA   \n",
       "2            chr        NC_000913.3   2801  3733      +  947498  thrB   \n",
       "3            chr        NC_000913.3   3734  5020      +  945198  thrC   \n",
       "6            chr        NC_000913.3   6529  7959      -  944745  yaaJ   \n",
       "7            chr        NC_000913.3   8238  9191      +  944748  talB   \n",
       "\n",
       "  Locus tag Protein product  Length COG(s)  \\\n",
       "1     b0002     NP_414543.1     820      -   \n",
       "2     b0003     NP_414544.1     310      -   \n",
       "3     b0004     NP_414545.1     428      -   \n",
       "6     b0007     NP_414548.1     476      -   \n",
       "7     b0008     NP_414549.1     317      -   \n",
       "\n",
       "                                        Protein name  \\\n",
       "1  fused aspartate kinase/homoserine dehydrogenase 1   \n",
       "2                                  homoserine kinase   \n",
       "3                                 threonine synthase   \n",
       "6                          putative transporter YaaJ   \n",
       "7                                    transaldolase B   \n",
       "\n",
       "                                                 CDS  \\\n",
       "1  ATGCGAGTGTTGAAGTTCGGCGGTACATCAGTGGCAAATGCAGAAC...   \n",
       "2  ATGGTTAAAGTTTATGCCCCGGCTTCCAGTGCCAATATGAGCGTCG...   \n",
       "3  ATGAAACTCTACAATCTGAAAGATCACAACGAGCAGGTCAGCTTTG...   \n",
       "6  ATGCCAGATTTTTTCTCCTTCATTAACAGCGTCCTTTGGGGATCGG...   \n",
       "7  ATGACGGACAAATTGACCTCCCTTCGTCAGTACACCACCGTAGTGG...   \n",
       "\n",
       "                                             peptide  \n",
       "1  MRVLKFGGTSVANAERFLRVADILESNARQGQVATVLSAPAKITNH...  \n",
       "2  MVKVYAPASSANMSVGFDVLGAAVTPVDGALLGDVVTVEAAETFSL...  \n",
       "3  MKLYNLKDHNEQVSFAQAVTQGLGKNQGLFFPHDLPEFSLTEIDEM...  \n",
       "6  MPDFFSFINSVLWGSVMIYLLFGAGCWFTFRTGFVQFRYIRQFGKS...  \n",
       "7  MTDKLTSLRQYTTVVADTGDIAAMKLYQPQDATTNPSLILNAAQIP...  "
      ]
     },
     "execution_count": 337,
     "metadata": {},
     "output_type": "execute_result"
    }
   ],
   "source": [
    "annot[annot.Length > 300].head()"
   ]
  },
  {
   "cell_type": "code",
   "execution_count": null,
   "metadata": {},
   "outputs": [],
   "source": []
  }
 ],
 "metadata": {
  "kernelspec": {
   "display_name": "Python 3",
   "language": "python",
   "name": "python3"
  },
  "language_info": {
   "codemirror_mode": {
    "name": "ipython",
    "version": 3
   },
   "file_extension": ".py",
   "mimetype": "text/x-python",
   "name": "python",
   "nbconvert_exporter": "python",
   "pygments_lexer": "ipython3",
   "version": "3.6.4"
  }
 },
 "nbformat": 4,
 "nbformat_minor": 2
}
