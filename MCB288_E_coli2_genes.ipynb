{
 "cells": [
  {
   "cell_type": "markdown",
   "metadata": {},
   "source": [
    "# Correlations within genes"
   ]
  },
  {
   "cell_type": "code",
   "execution_count": 6,
   "metadata": {},
   "outputs": [],
   "source": [
    "# we will be using a data handling library called pandas\n",
    "# which is basically a python spreadsheet\n",
    "\n",
    "import pandas as pd\n",
    "\n",
    "# this is here to shut off some annoying warnings from pandas\n",
    "pd.options.mode.chained_assignment = None\n",
    "\n",
    "# matplotlib is one of the main plotting libraries we're going to use\n",
    "import matplotlib \n",
    "import matplotlib.pyplot as plt\n",
    "%matplotlib inline\n",
    "\n",
    "\n",
    "# the other plotting library is seaborn - we'll use both during the class\n",
    "\n",
    "import seaborn as sns\n",
    "\n",
    "# numpy and scipy are for handling numerical and scientific data\n",
    "\n",
    "import numpy as np\n",
    "import scipy as sp\n",
    "\n",
    "import statsmodels.formula.api as smf # basic statistical modeling"
   ]
  },
  {
   "cell_type": "markdown",
   "metadata": {},
   "source": [
    "## From last time"
   ]
  },
  {
   "cell_type": "code",
   "execution_count": 11,
   "metadata": {},
   "outputs": [
    {
     "data": {
      "text/html": [
       "<div>\n",
       "<style scoped>\n",
       "    .dataframe tbody tr th:only-of-type {\n",
       "        vertical-align: middle;\n",
       "    }\n",
       "\n",
       "    .dataframe tbody tr th {\n",
       "        vertical-align: top;\n",
       "    }\n",
       "\n",
       "    .dataframe thead th {\n",
       "        text-align: right;\n",
       "    }\n",
       "</style>\n",
       "<table border=\"1\" class=\"dataframe\">\n",
       "  <thead>\n",
       "    <tr style=\"text-align: right;\">\n",
       "      <th></th>\n",
       "      <th>#Replicon Name</th>\n",
       "      <th>Replicon Accession</th>\n",
       "      <th>Start</th>\n",
       "      <th>Stop</th>\n",
       "      <th>Strand</th>\n",
       "      <th>GeneID</th>\n",
       "      <th>Locus</th>\n",
       "      <th>Locus tag</th>\n",
       "      <th>Protein product</th>\n",
       "      <th>Length</th>\n",
       "      <th>COG(s)</th>\n",
       "      <th>Protein name</th>\n",
       "    </tr>\n",
       "  </thead>\n",
       "  <tbody>\n",
       "    <tr>\n",
       "      <th>0</th>\n",
       "      <td>chr</td>\n",
       "      <td>NC_000913.3</td>\n",
       "      <td>190</td>\n",
       "      <td>255</td>\n",
       "      <td>+</td>\n",
       "      <td>944742</td>\n",
       "      <td>thrL</td>\n",
       "      <td>b0001</td>\n",
       "      <td>NP_414542.1</td>\n",
       "      <td>21</td>\n",
       "      <td>-</td>\n",
       "      <td>thr operon leader peptide</td>\n",
       "    </tr>\n",
       "    <tr>\n",
       "      <th>1</th>\n",
       "      <td>chr</td>\n",
       "      <td>NC_000913.3</td>\n",
       "      <td>337</td>\n",
       "      <td>2799</td>\n",
       "      <td>+</td>\n",
       "      <td>945803</td>\n",
       "      <td>thrA</td>\n",
       "      <td>b0002</td>\n",
       "      <td>NP_414543.1</td>\n",
       "      <td>820</td>\n",
       "      <td>-</td>\n",
       "      <td>fused aspartate kinase/homoserine dehydrogenase 1</td>\n",
       "    </tr>\n",
       "    <tr>\n",
       "      <th>2</th>\n",
       "      <td>chr</td>\n",
       "      <td>NC_000913.3</td>\n",
       "      <td>2801</td>\n",
       "      <td>3733</td>\n",
       "      <td>+</td>\n",
       "      <td>947498</td>\n",
       "      <td>thrB</td>\n",
       "      <td>b0003</td>\n",
       "      <td>NP_414544.1</td>\n",
       "      <td>310</td>\n",
       "      <td>-</td>\n",
       "      <td>homoserine kinase</td>\n",
       "    </tr>\n",
       "    <tr>\n",
       "      <th>3</th>\n",
       "      <td>chr</td>\n",
       "      <td>NC_000913.3</td>\n",
       "      <td>3734</td>\n",
       "      <td>5020</td>\n",
       "      <td>+</td>\n",
       "      <td>945198</td>\n",
       "      <td>thrC</td>\n",
       "      <td>b0004</td>\n",
       "      <td>NP_414545.1</td>\n",
       "      <td>428</td>\n",
       "      <td>-</td>\n",
       "      <td>threonine synthase</td>\n",
       "    </tr>\n",
       "    <tr>\n",
       "      <th>4</th>\n",
       "      <td>chr</td>\n",
       "      <td>NC_000913.3</td>\n",
       "      <td>5234</td>\n",
       "      <td>5530</td>\n",
       "      <td>+</td>\n",
       "      <td>944747</td>\n",
       "      <td>yaaX</td>\n",
       "      <td>b0005</td>\n",
       "      <td>NP_414546.1</td>\n",
       "      <td>98</td>\n",
       "      <td>-</td>\n",
       "      <td>DUF2502 domain-containing protein YaaX</td>\n",
       "    </tr>\n",
       "  </tbody>\n",
       "</table>\n",
       "</div>"
      ],
      "text/plain": [
       "  #Replicon Name Replicon Accession  Start  Stop Strand  GeneID Locus  \\\n",
       "0            chr        NC_000913.3    190   255      +  944742  thrL   \n",
       "1            chr        NC_000913.3    337  2799      +  945803  thrA   \n",
       "2            chr        NC_000913.3   2801  3733      +  947498  thrB   \n",
       "3            chr        NC_000913.3   3734  5020      +  945198  thrC   \n",
       "4            chr        NC_000913.3   5234  5530      +  944747  yaaX   \n",
       "\n",
       "  Locus tag Protein product  Length COG(s)  \\\n",
       "0     b0001     NP_414542.1      21      -   \n",
       "1     b0002     NP_414543.1     820      -   \n",
       "2     b0003     NP_414544.1     310      -   \n",
       "3     b0004     NP_414545.1     428      -   \n",
       "4     b0005     NP_414546.1      98      -   \n",
       "\n",
       "                                        Protein name  \n",
       "0                          thr operon leader peptide  \n",
       "1  fused aspartate kinase/homoserine dehydrogenase 1  \n",
       "2                                  homoserine kinase  \n",
       "3                                 threonine synthase  \n",
       "4             DUF2502 domain-containing protein YaaX  "
      ]
     },
     "execution_count": 11,
     "metadata": {},
     "output_type": "execute_result"
    }
   ],
   "source": [
    "# annotation file from NCBI\n",
    "annot = pd.read_csv(\"~/Downloads/E_coli_K12_ProteinTable167_161521.txt\",sep='\\t')\n",
    "annot.head()"
   ]
  },
  {
   "cell_type": "code",
   "execution_count": 12,
   "metadata": {},
   "outputs": [
    {
     "data": {
      "text/html": [
       "<div>\n",
       "<style scoped>\n",
       "    .dataframe tbody tr th:only-of-type {\n",
       "        vertical-align: middle;\n",
       "    }\n",
       "\n",
       "    .dataframe tbody tr th {\n",
       "        vertical-align: top;\n",
       "    }\n",
       "\n",
       "    .dataframe thead th {\n",
       "        text-align: right;\n",
       "    }\n",
       "</style>\n",
       "<table border=\"1\" class=\"dataframe\">\n",
       "  <thead>\n",
       "    <tr style=\"text-align: right;\">\n",
       "      <th></th>\n",
       "      <th>&gt;NC_000913.3 Escherichia coli str. K-12 substr. MG1655</th>\n",
       "      <th>complete genome</th>\n",
       "    </tr>\n",
       "  </thead>\n",
       "  <tbody>\n",
       "    <tr>\n",
       "      <th>0</th>\n",
       "      <td>AGCTTTTCATTCTGACTGCAACGGGCAATATGTCTCTGTGTGGATT...</td>\n",
       "      <td>NaN</td>\n",
       "    </tr>\n",
       "    <tr>\n",
       "      <th>1</th>\n",
       "      <td>TTCTGAACTGGTTACCTGCCGTGAGTAAATTAAAATTTTATTGACT...</td>\n",
       "      <td>NaN</td>\n",
       "    </tr>\n",
       "    <tr>\n",
       "      <th>2</th>\n",
       "      <td>TATAGGCATAGCGCACAGACAGATAAAAATTACAGAGTACACAACA...</td>\n",
       "      <td>NaN</td>\n",
       "    </tr>\n",
       "    <tr>\n",
       "      <th>3</th>\n",
       "      <td>ATTACCACCACCATCACCATTACCACAGGTAACGGTGCGGGCTGAC...</td>\n",
       "      <td>NaN</td>\n",
       "    </tr>\n",
       "    <tr>\n",
       "      <th>4</th>\n",
       "      <td>CCCGCACCTGACAGTGCGGGCTTTTTTTTTCGACCAAAGGTAACGA...</td>\n",
       "      <td>NaN</td>\n",
       "    </tr>\n",
       "  </tbody>\n",
       "</table>\n",
       "</div>"
      ],
      "text/plain": [
       "  >NC_000913.3 Escherichia coli str. K-12 substr. MG1655   complete genome\n",
       "0  AGCTTTTCATTCTGACTGCAACGGGCAATATGTCTCTGTGTGGATT...                   NaN\n",
       "1  TTCTGAACTGGTTACCTGCCGTGAGTAAATTAAAATTTTATTGACT...                   NaN\n",
       "2  TATAGGCATAGCGCACAGACAGATAAAAATTACAGAGTACACAACA...                   NaN\n",
       "3  ATTACCACCACCATCACCATTACCACAGGTAACGGTGCGGGCTGAC...                   NaN\n",
       "4  CCCGCACCTGACAGTGCGGGCTTTTTTTTTCGACCAAAGGTAACGA...                   NaN"
      ]
     },
     "execution_count": 12,
     "metadata": {},
     "output_type": "execute_result"
    }
   ],
   "source": [
    "# genome file from NCBI\n",
    "genome_by_line = pd.read_csv(\"~/Downloads/E_coli_K12-sequence.fasta.txt\")\n",
    "genome_by_line.head()"
   ]
  },
  {
   "cell_type": "code",
   "execution_count": 13,
   "metadata": {},
   "outputs": [
    {
     "data": {
      "text/plain": [
       "'AGCTTTTCATTCTGACTGCAACGGGCAATATGTCTCTGTGTGGATTAAAAAAAGAGTGTCTGATAGCAGCTTCTGAACTGGTTACCTGCCGTGAGTAAAT'"
      ]
     },
     "execution_count": 13,
     "metadata": {},
     "output_type": "execute_result"
    }
   ],
   "source": [
    "# convert genome_by_line table into a single genome string\n",
    "genome = \"\"\n",
    "for index, row in genome_by_line.iterrows():\n",
    "    genome = genome + row[0] \n",
    "genome[0:100]"
   ]
  },
  {
   "cell_type": "code",
   "execution_count": 8,
   "metadata": {},
   "outputs": [],
   "source": [
    "# Make a python dictionary of the standard genetic code\n",
    "gencode = {\n",
    "    'ATA':'I', 'ATC':'I', 'ATT':'I', 'ATG':'M',\n",
    "    'ACA':'T', 'ACC':'T', 'ACG':'T', 'ACT':'T',\n",
    "    'AAC':'N', 'AAT':'N', 'AAA':'K', 'AAG':'K',\n",
    "    'AGC':'S', 'AGT':'S', 'AGA':'R', 'AGG':'R',\n",
    "    'CTA':'L', 'CTC':'L', 'CTG':'L', 'CTT':'L',\n",
    "    'CCA':'P', 'CCC':'P', 'CCG':'P', 'CCT':'P',\n",
    "    'CAC':'H', 'CAT':'H', 'CAA':'Q', 'CAG':'Q',\n",
    "    'CGA':'R', 'CGC':'R', 'CGG':'R', 'CGT':'R',\n",
    "    'GTA':'V', 'GTC':'V', 'GTG':'V', 'GTT':'V',\n",
    "    'GCA':'A', 'GCC':'A', 'GCG':'A', 'GCT':'A',\n",
    "    'GAC':'D', 'GAT':'D', 'GAA':'E', 'GAG':'E',\n",
    "    'GGA':'G', 'GGC':'G', 'GGG':'G', 'GGT':'G',\n",
    "    'TCA':'S', 'TCC':'S', 'TCG':'S', 'TCT':'S',\n",
    "    'TTC':'F', 'TTT':'F', 'TTA':'L', 'TTG':'L',\n",
    "    'TAC':'Y', 'TAT':'Y', 'TAA':'_', 'TAG':'_',\n",
    "    'TGC':'C', 'TGT':'C', 'TGA':'_', 'TGG':'W'}"
   ]
  },
  {
   "cell_type": "code",
   "execution_count": 14,
   "metadata": {},
   "outputs": [
    {
     "data": {
      "text/plain": [
       "'I'"
      ]
     },
     "execution_count": 14,
     "metadata": {},
     "output_type": "execute_result"
    }
   ],
   "source": [
    "# this works like a vector, except instead of providing a \n",
    "# numerical index in brackets, use he \"key\" to retrieve the\n",
    "# \"value\"\n",
    "gencode[\"ATA\"]"
   ]
  },
  {
   "cell_type": "code",
   "execution_count": 16,
   "metadata": {},
   "outputs": [
    {
     "data": {
      "text/html": [
       "<div>\n",
       "<style scoped>\n",
       "    .dataframe tbody tr th:only-of-type {\n",
       "        vertical-align: middle;\n",
       "    }\n",
       "\n",
       "    .dataframe tbody tr th {\n",
       "        vertical-align: top;\n",
       "    }\n",
       "\n",
       "    .dataframe thead th {\n",
       "        text-align: right;\n",
       "    }\n",
       "</style>\n",
       "<table border=\"1\" class=\"dataframe\">\n",
       "  <thead>\n",
       "    <tr style=\"text-align: right;\">\n",
       "      <th></th>\n",
       "      <th>#Replicon Name</th>\n",
       "      <th>Replicon Accession</th>\n",
       "      <th>Start</th>\n",
       "      <th>Stop</th>\n",
       "      <th>Strand</th>\n",
       "      <th>GeneID</th>\n",
       "      <th>Locus</th>\n",
       "      <th>Locus tag</th>\n",
       "      <th>Protein product</th>\n",
       "      <th>Length</th>\n",
       "      <th>COG(s)</th>\n",
       "      <th>Protein name</th>\n",
       "    </tr>\n",
       "  </thead>\n",
       "  <tbody>\n",
       "    <tr>\n",
       "      <th>0</th>\n",
       "      <td>chr</td>\n",
       "      <td>NC_000913.3</td>\n",
       "      <td>190</td>\n",
       "      <td>255</td>\n",
       "      <td>+</td>\n",
       "      <td>944742</td>\n",
       "      <td>thrL</td>\n",
       "      <td>b0001</td>\n",
       "      <td>NP_414542.1</td>\n",
       "      <td>21</td>\n",
       "      <td>-</td>\n",
       "      <td>thr operon leader peptide</td>\n",
       "    </tr>\n",
       "  </tbody>\n",
       "</table>\n",
       "</div>"
      ],
      "text/plain": [
       "  #Replicon Name Replicon Accession  Start  Stop Strand  GeneID Locus  \\\n",
       "0            chr        NC_000913.3    190   255      +  944742  thrL   \n",
       "\n",
       "  Locus tag Protein product  Length COG(s)               Protein name  \n",
       "0     b0001     NP_414542.1      21      -  thr operon leader peptide  "
      ]
     },
     "execution_count": 16,
     "metadata": {},
     "output_type": "execute_result"
    }
   ],
   "source": [
    "# retrieve a coding sequence of a gene based on its start and stop\n",
    "# remember the \"off-by-one\"\n",
    "# also remember that by sloppy convention, start/stop refers to \n",
    "# coding sequence, and omits UTR\n",
    "annot.head(1)"
   ]
  },
  {
   "cell_type": "code",
   "execution_count": 17,
   "metadata": {},
   "outputs": [
    {
     "data": {
      "text/plain": [
       "'TGAAACGCATTAGCACCACCATTACCACCACCATCACCATTACCACAGGTAACGGTGCGGGCTGA'"
      ]
     },
     "execution_count": 17,
     "metadata": {},
     "output_type": "execute_result"
    }
   ],
   "source": [
    "# so using \"Start\" puts you one nucleotide into the coding sequence\n",
    "genome[190:255]"
   ]
  },
  {
   "cell_type": "code",
   "execution_count": 20,
   "metadata": {},
   "outputs": [
    {
     "data": {
      "text/plain": [
       "'ATGAAACGCATTAGCACCACCATTACCACCACCATCACCATTACCACAGGTAACGGTGCGGGCTGA'"
      ]
     },
     "execution_count": 20,
     "metadata": {},
     "output_type": "execute_result"
    }
   ],
   "source": [
    "# so we need to subtract one\n",
    "genome[189:255]"
   ]
  },
  {
   "cell_type": "code",
   "execution_count": 29,
   "metadata": {},
   "outputs": [
    {
     "name": "stdout",
     "output_type": "stream",
     "text": [
      "ATGAAACGCATTAGCACCACCATTACCACCACCATCACCATTACCACAGGTAACGGTGCGGGCTGA\n"
     ]
    }
   ],
   "source": [
    "# generalize for gene i\n",
    "i = 0\n",
    "CDS = genome[annot.iloc[i]['Start']-1 : annot.iloc[i]['Stop']]\n",
    "print(CDS)"
   ]
  },
  {
   "cell_type": "code",
   "execution_count": 27,
   "metadata": {},
   "outputs": [
    {
     "name": "stdout",
     "output_type": "stream",
     "text": [
      "66\n"
     ]
    }
   ],
   "source": [
    "# for convenience, lets store the length of the gene\n",
    "gene_len = annot.iloc[0]['Stop'] - annot.iloc[i]['Start'] + 1\n",
    "print(gene_len)"
   ]
  },
  {
   "cell_type": "code",
   "execution_count": 32,
   "metadata": {},
   "outputs": [
    {
     "name": "stdout",
     "output_type": "stream",
     "text": [
      "ATG\n",
      "AAA\n",
      "CGC\n",
      "ATT\n",
      "AGC\n",
      "ACC\n",
      "ACC\n",
      "ATT\n",
      "ACC\n",
      "ACC\n",
      "ACC\n",
      "ATC\n",
      "ACC\n",
      "ATT\n",
      "ACC\n",
      "ACA\n",
      "GGT\n",
      "AAC\n",
      "GGT\n",
      "GCG\n",
      "GGC\n",
      "TGA\n"
     ]
    }
   ],
   "source": [
    "# check that we can correctly extract the codons \n",
    "for j in range(0,gene_len,3):\n",
    "    codon = CDS[j:j+3]\n",
    "    print(codon)"
   ]
  },
  {
   "cell_type": "code",
   "execution_count": 33,
   "metadata": {},
   "outputs": [
    {
     "name": "stdout",
     "output_type": "stream",
     "text": [
      "MKRISTTITTTITITTGNGAG_\n"
     ]
    }
   ],
   "source": [
    "# now combine this to with the genetic code table to \n",
    "# infer the peptide sequence\n",
    "peptide = ''\n",
    "for j in range(0,gene_len,3):\n",
    "    codon = CDS[j:j+3]\n",
    "    peptide = peptide + gencode[codon]\n",
    "print(peptide)"
   ]
  },
  {
   "cell_type": "code",
   "execution_count": 69,
   "metadata": {},
   "outputs": [],
   "source": [
    "# so we can elevate this to a function\n",
    "def translate(CDS):\n",
    "    peptide = ''\n",
    "    for j in range(0,len(CDS),3):\n",
    "        codon = CDS[j:j+3]\n",
    "        peptide = peptide + gencode[codon]\n",
    "    return peptide"
   ]
  },
  {
   "cell_type": "code",
   "execution_count": 70,
   "metadata": {},
   "outputs": [
    {
     "data": {
      "text/plain": [
       "'MKRISTTITTTITITTGNGAG_'"
      ]
     },
     "execution_count": 70,
     "metadata": {},
     "output_type": "execute_result"
    }
   ],
   "source": [
    "translate(CDS)"
   ]
  },
  {
   "cell_type": "markdown",
   "metadata": {},
   "source": [
    "## three and six frame translation"
   ]
  },
  {
   "cell_type": "code",
   "execution_count": 107,
   "metadata": {},
   "outputs": [
    {
     "name": "stdout",
     "output_type": "stream",
     "text": [
      "_NFIDLGH_IL_PI_A_RTDR_KLQSTQHP_NALAPPLPPPSPLPQVTVRADAYRKHRKKPAPDSAGFFFRPKVTR_QPCEC_SSAVHQWQMQNVFCVLPIFWKAMPGRGRWPPSSLPPPKSPTTWWR_LKKPLAARMLYPISAMPNVFLPNF_RDSPPPSRGSRWRN_KLSSIRNLPK_NMSCMALVCWGSARIASTLR_FAVARKCRSPLWPAY_KRAVTTLLLSIRSKNCWQWGITSNLPSILLSPPAVLRQAAFRLITWC_WQVSPPVMKKANWWCLDATVPTTLLRCWLPVYAPI\n"
     ]
    }
   ],
   "source": [
    "# given a sequence that on the correct strand,\n",
    "# but is not necessarily \"in frame\" \n",
    "# lets try to find the frame\n",
    "# we have code to translate\n",
    "test = genome[100:1000]\n",
    "print(translate(test))"
   ]
  },
  {
   "cell_type": "code",
   "execution_count": 108,
   "metadata": {},
   "outputs": [
    {
     "ename": "KeyError",
     "evalue": "'TT'",
     "output_type": "error",
     "traceback": [
      "\u001b[0;31m---------------------------------------------------------------------------\u001b[0m",
      "\u001b[0;31mKeyError\u001b[0m                                  Traceback (most recent call last)",
      "\u001b[0;32m<ipython-input-108-2f6995d4c77a>\u001b[0m in \u001b[0;36m<module>\u001b[0;34m()\u001b[0m\n\u001b[1;32m      1\u001b[0m \u001b[0;31m# now look at the next frame\u001b[0m\u001b[0;34m\u001b[0m\u001b[0;34m\u001b[0m\u001b[0m\n\u001b[1;32m      2\u001b[0m \u001b[0mtest1\u001b[0m \u001b[0;34m=\u001b[0m \u001b[0mtest\u001b[0m\u001b[0;34m[\u001b[0m\u001b[0;36m1\u001b[0m\u001b[0;34m:\u001b[0m\u001b[0;34m]\u001b[0m\u001b[0;34m\u001b[0m\u001b[0m\n\u001b[0;32m----> 3\u001b[0;31m \u001b[0mprint\u001b[0m\u001b[0;34m(\u001b[0m\u001b[0mtranslate\u001b[0m\u001b[0;34m(\u001b[0m\u001b[0mtest1\u001b[0m\u001b[0;34m)\u001b[0m\u001b[0;34m)\u001b[0m\u001b[0;34m\u001b[0m\u001b[0m\n\u001b[0m",
      "\u001b[0;32m<ipython-input-69-022909f42165>\u001b[0m in \u001b[0;36mtranslate\u001b[0;34m(CDS)\u001b[0m\n\u001b[1;32m      4\u001b[0m     \u001b[0;32mfor\u001b[0m \u001b[0mj\u001b[0m \u001b[0;32min\u001b[0m \u001b[0mrange\u001b[0m\u001b[0;34m(\u001b[0m\u001b[0;36m0\u001b[0m\u001b[0;34m,\u001b[0m\u001b[0mlen\u001b[0m\u001b[0;34m(\u001b[0m\u001b[0mCDS\u001b[0m\u001b[0;34m)\u001b[0m\u001b[0;34m,\u001b[0m\u001b[0;36m3\u001b[0m\u001b[0;34m)\u001b[0m\u001b[0;34m:\u001b[0m\u001b[0;34m\u001b[0m\u001b[0m\n\u001b[1;32m      5\u001b[0m         \u001b[0mcodon\u001b[0m \u001b[0;34m=\u001b[0m \u001b[0mCDS\u001b[0m\u001b[0;34m[\u001b[0m\u001b[0mj\u001b[0m\u001b[0;34m:\u001b[0m\u001b[0mj\u001b[0m\u001b[0;34m+\u001b[0m\u001b[0;36m3\u001b[0m\u001b[0;34m]\u001b[0m\u001b[0;34m\u001b[0m\u001b[0m\n\u001b[0;32m----> 6\u001b[0;31m         \u001b[0mpeptide\u001b[0m \u001b[0;34m=\u001b[0m \u001b[0mpeptide\u001b[0m \u001b[0;34m+\u001b[0m \u001b[0mgencode\u001b[0m\u001b[0;34m[\u001b[0m\u001b[0mcodon\u001b[0m\u001b[0;34m]\u001b[0m\u001b[0;34m\u001b[0m\u001b[0m\n\u001b[0m\u001b[1;32m      7\u001b[0m     \u001b[0;32mreturn\u001b[0m \u001b[0mpeptide\u001b[0m\u001b[0;34m\u001b[0m\u001b[0m\n",
      "\u001b[0;31mKeyError\u001b[0m: 'TT'"
     ]
    }
   ],
   "source": [
    "# now look at the next frame\n",
    "test1 = test[1:]\n",
    "print(translate(test1))"
   ]
  },
  {
   "cell_type": "code",
   "execution_count": 109,
   "metadata": {},
   "outputs": [
    {
     "name": "stdout",
     "output_type": "stream",
     "text": [
      "KILLT_VTKYFNQYRHSAQTDKNYRVHNIHETH_HHHYHHHHHYHR_RCGLTRTGNTEKSPHLTVRAFFFDQR_RGNNHASVEVRRYISGKCRTFSACCRYSGKQCQAGAGGHRPLCPRQNHQPPGGDD_KNH_RPGCFTQYQRCRTYFCRTFDGTRRRPAGVPAGAIENFRRSGICPNKTCPAWH_FVGAVPG_HQRCADLPWRENVDRHYGRRIRSARSQRYCYRSGRKTAGSGALPRIYRRYC_VHPPYCGKPHSG_SHGADGRFHRR__KRRTGGAWTQRFRLLCCGAGCLFTRR\n"
     ]
    }
   ],
   "source": [
    "# problem: by shifting by 1 the string test2 is no longer a multiple of 3\n",
    "# solution: chew off 2 basepairs at the end (using convenient string tools)\n",
    "test1 = test[1:-2]\n",
    "print(translate(test1))"
   ]
  },
  {
   "cell_type": "code",
   "execution_count": 110,
   "metadata": {},
   "outputs": [
    {
     "name": "stdout",
     "output_type": "stream",
     "text": [
      "KFY_LRSLNTLTNIGIAHRQIKITEYTTSMKRISTTITTTITITTGNGAG_RVQETQKKART_QCGLFFSTKGNEVTTMRVLKFGGTSVANAERFLRVADILESNARQGQVATVLSAPAKITNHLVAMIEKTISGQDALPNISDAERIFAELLTGLAAAQPGFPLAQLKTFVDQEFAQIKHVLHGISLLGQCPDSINAALICRGEKMSIAIMAGVLEARGHNVTVIDPVEKLLAVGHYLESTVDIAESTRRIAASRIPADHMVLMAGFTAGNEKGELVVLGRNGSDYSAAVLAACLRAD\n"
     ]
    }
   ],
   "source": [
    "# and the third frame ...\n",
    "test2 = test[2:-1]\n",
    "print(translate(test2))"
   ]
  },
  {
   "cell_type": "code",
   "execution_count": 111,
   "metadata": {},
   "outputs": [
    {
     "name": "stdout",
     "output_type": "stream",
     "text": [
      "frame 0: 16 ;  frame 1: 12 ;  frame 2 3\n"
     ]
    }
   ],
   "source": [
    "print(\"frame 0:\", translate(test).count(\"_\"),\n",
    "      \";  frame 1:\",translate(test1).count(\"_\"),\n",
    "      \";  frame 2\", translate(test2).count(\"_\"))"
   ]
  },
  {
   "cell_type": "markdown",
   "metadata": {},
   "source": [
    "### what about the other strand?"
   ]
  },
  {
   "cell_type": "code",
   "execution_count": null,
   "metadata": {},
   "outputs": [],
   "source": [
    "# complementation with strings\n",
    "old_chars = \"ACGT\"\n",
    "replace_chars = \"TGCA\"\n",
    "tab = str.maketrans(old_chars,replace_chars)\n",
    "print(sequence.translate(tab))"
   ]
  },
  {
   "cell_type": "code",
   "execution_count": 191,
   "metadata": {},
   "outputs": [
    {
     "name": "stdout",
     "output_type": "stream",
     "text": [
      "ACTGAAA\n",
      "TTTCAGT\n"
     ]
    }
   ],
   "source": [
    "# reverse complementation\n",
    "def revcomp(sequence):\n",
    "    #reverse\n",
    "    last = len(sequence)+1\n",
    "    rev = sequence[last::-1]\n",
    "    old_chars = \"ACGT\"\n",
    "    replace_chars = \"TGCA\"\n",
    "    tab = str.maketrans(old_chars,replace_chars)\n",
    "    return rev.translate(tab)\n",
    "\n",
    "sequence = \"ACTGAAA\"\n",
    "print(sequence)\n",
    "print(revcomp(sequence))"
   ]
  },
  {
   "cell_type": "code",
   "execution_count": 182,
   "metadata": {},
   "outputs": [
    {
     "name": "stdout",
     "output_type": "stream",
     "text": [
      "reverse, frame 0: 0 ;  reverse frame 1: 6 ;  reverse frame 2 7\n"
     ]
    }
   ],
   "source": [
    "# now try to translate the opposite strand\n",
    "print(\"reverse, frame 0:\", translate(revcomp(test)).count(\"_\"),\n",
    "      \";  reverse frame 1:\",translate(revcomp(test1)).count(\"_\"),\n",
    "      \";  reverse frame 2\", translate(revcomp(test2)).count(\"_\"))"
   ]
  },
  {
   "cell_type": "code",
   "execution_count": 122,
   "metadata": {},
   "outputs": [
    {
     "name": "stdout",
     "output_type": "stream",
     "text": [
      "KFY_LRSLNTLTNIGIAHRQIKITEYTTSMKRISTTITTTITITTGNGAG_RVQETQKKART_QCGLFFSTKGNEVTTMRVLKFGGTSVANAERFLRVADILESNARQGQVATVLSAPAKITNHLVAMIEKTISGQDALPNISDAERIFAELLTGLAAAQPGFPLAQLKTFVDQEFAQIKHVLHGISLLGQCPDSINAALICRGEKMSIAIMAGVLEARGHNVTVIDPVEKLLAVGHYLESTVDIAESTRRIAASRIPADHMVLMAGFTAGNEKGELVVLGRNGSDYSAAVLAACLRAD \n",
      "\n",
      "['KFY', 'LRSLNTLTNIGIAHRQIKITEYTTSMKRISTTITTTITITTGNGAG', 'RVQETQKKART', 'QCGLFFSTKGNEVTTMRVLKFGGTSVANAERFLRVADILESNARQGQVATVLSAPAKITNHLVAMIEKTISGQDALPNISDAERIFAELLTGLAAAQPGFPLAQLKTFVDQEFAQIKHVLHGISLLGQCPDSINAALICRGEKMSIAIMAGVLEARGHNVTVIDPVEKLLAVGHYLESTVDIAESTRRIAASRIPADHMVLMAGFTAGNEKGELVVLGRNGSDYSAAVLAACLRAD']\n"
     ]
    }
   ],
   "source": [
    "# so for this stretch of genome, frame2 has only two stop codons.  \n",
    "# what are the longest stretches between STOP?\n",
    "print(translate(test2),\"\\n\")\n",
    "print(translate(test2).split('_'))"
   ]
  },
  {
   "cell_type": "code",
   "execution_count": 124,
   "metadata": {},
   "outputs": [
    {
     "name": "stdout",
     "output_type": "stream",
     "text": [
      "Random String with specific letters  CCCCC\n",
      "Random String with specific letters  AACCTCACTTTCGCATGAGCTTAGGGGCCCTATCGCAAGTTCGCGGAGTCGCGTTGTTCTCCCAACAAAGTCCTGGGCAGCCCTGCTACAGCGTACCACGTAAAGAGGTGTGACAAGTTTGGGGCGACTACCTTCAGTTTGATCGAAAATGAAACCGAGTCTGTGGCGCTTCACCGGACAATGTCGGATAGTTCGCTGGCTGTGTACGATCTACGCTTCGTGGCGGAGGAGGCCCATCCCCTGGACCATAAGAAATGACACCGTTACGTGCTAATTGACAGCGCCCCGGAGGATACTCTGTTCAATGGACACGGCAGACCCCTCGCGATCCGTACCCTCAGTCATCTAATACAAACAGAGACACGCGGGTAAAACCGCGCTATGAACACGTTCATGTCTGGAAGTATATCGTGGAAAAAGGCTTAACCAAAGATTGAAATCCGGCCTCGCATGTCCCGGAATAGGTACAGACGGCCCTTCAAGCAGGCCGGCTAACGATAACGTATAGAAGCAAGTTAGTACGTGGCTCGGCCCAGTATGACCACTCTAAACTCACTGACCAGGGGCGGAGTTGGCACTGGTGTCAGCCCGAGGCAAGATACACCTACAGCCGCTTGGCACAATGGTTCCTCGGCATTATTACTTAGAATTGCTGCTGCTGGAAAACAGAGACCTGGCTACTACTACAGCACAAGTAGCCGGGTCTAAAGTTAGGACGTAGTGAAGAGTACACGAGGTATCGGTGGCGATCGCTCATGCATTAAAACCTGAACCCTCTCGCTATCAATCAGTCGTGTGTCTCGATGCACGCCCACAAAGCGTTACCCATATTTCCTGAATCTGGCCATAACTGAAGTCTGTTATCTGAGCTCTTCTATCAGGCCACGCTAATGATCGCGACGCATCACACGGTTGACGGGTATAACACACCAACGACCTATGCATTTAGGCTAGTATGGCAACAGCCGAATCGAGGCCGATCCGACGAACTAGGATATTT\n"
     ]
    }
   ],
   "source": [
    "# from random sequence, how long are the stretches between stops?\n",
    "## Generate a random string of specific characters \n",
    "import random\n",
    "def randString(length=5):\n",
    "    #put your letters in the following string\n",
    "    your_letters='ACTG'\n",
    "    return ''.join((random.choice(your_letters) for i in range(length)))\n",
    "print (\"Random String with specific letters \", randString() )\n",
    "print (\"Random String with specific letters \", randString(1000) )"
   ]
  },
  {
   "cell_type": "code",
   "execution_count": 130,
   "metadata": {},
   "outputs": [],
   "source": [
    "# translate, split\n",
    "list_of_peptides = translate(randString(999999)).split('_')"
   ]
  },
  {
   "cell_type": "code",
   "execution_count": 131,
   "metadata": {},
   "outputs": [
    {
     "data": {
      "text/plain": [
       "15556"
      ]
     },
     "execution_count": 131,
     "metadata": {},
     "output_type": "execute_result"
    }
   ],
   "source": [
    "len(list_of_peptides)"
   ]
  },
  {
   "cell_type": "code",
   "execution_count": 138,
   "metadata": {},
   "outputs": [
    {
     "data": {
      "text/html": [
       "<div>\n",
       "<style scoped>\n",
       "    .dataframe tbody tr th:only-of-type {\n",
       "        vertical-align: middle;\n",
       "    }\n",
       "\n",
       "    .dataframe tbody tr th {\n",
       "        vertical-align: top;\n",
       "    }\n",
       "\n",
       "    .dataframe thead th {\n",
       "        text-align: right;\n",
       "    }\n",
       "</style>\n",
       "<table border=\"1\" class=\"dataframe\">\n",
       "  <thead>\n",
       "    <tr style=\"text-align: right;\">\n",
       "      <th></th>\n",
       "      <th>0</th>\n",
       "    </tr>\n",
       "  </thead>\n",
       "  <tbody>\n",
       "    <tr>\n",
       "      <th>0</th>\n",
       "      <td>LNLIPKLIFHEAQGKVASVYARLAEIPGSTSQWLLHRASPERALNR...</td>\n",
       "    </tr>\n",
       "    <tr>\n",
       "      <th>1</th>\n",
       "      <td>SISLIPPISRNKDSRRVVASKRTTMKTHYIAYAFQCYSSRKT</td>\n",
       "    </tr>\n",
       "    <tr>\n",
       "      <th>2</th>\n",
       "      <td>Q</td>\n",
       "    </tr>\n",
       "    <tr>\n",
       "      <th>3</th>\n",
       "      <td>VVPFQESV</td>\n",
       "    </tr>\n",
       "    <tr>\n",
       "      <th>4</th>\n",
       "      <td>RTTYLEITINM</td>\n",
       "    </tr>\n",
       "  </tbody>\n",
       "</table>\n",
       "</div>"
      ],
      "text/plain": [
       "                                                   0\n",
       "0  LNLIPKLIFHEAQGKVASVYARLAEIPGSTSQWLLHRASPERALNR...\n",
       "1         SISLIPPISRNKDSRRVVASKRTTMKTHYIAYAFQCYSSRKT\n",
       "2                                                  Q\n",
       "3                                           VVPFQESV\n",
       "4                                        RTTYLEITINM"
      ]
     },
     "execution_count": 138,
     "metadata": {},
     "output_type": "execute_result"
    }
   ],
   "source": [
    "df_peps = pd.DataFrame(list_of_peptides)\n",
    "df_peps.head()\n",
    "\n",
    "    "
   ]
  },
  {
   "cell_type": "code",
   "execution_count": 139,
   "metadata": {},
   "outputs": [
    {
     "data": {
      "text/plain": [
       "15556"
      ]
     },
     "execution_count": 139,
     "metadata": {},
     "output_type": "execute_result"
    }
   ],
   "source": [
    "lengths = []\n",
    "for pep in list_of_peptides:\n",
    "    lengths.append(len(pep))\n",
    "len(lengths)"
   ]
  },
  {
   "cell_type": "code",
   "execution_count": 140,
   "metadata": {},
   "outputs": [
    {
     "data": {
      "text/html": [
       "<div>\n",
       "<style scoped>\n",
       "    .dataframe tbody tr th:only-of-type {\n",
       "        vertical-align: middle;\n",
       "    }\n",
       "\n",
       "    .dataframe tbody tr th {\n",
       "        vertical-align: top;\n",
       "    }\n",
       "\n",
       "    .dataframe thead th {\n",
       "        text-align: right;\n",
       "    }\n",
       "</style>\n",
       "<table border=\"1\" class=\"dataframe\">\n",
       "  <thead>\n",
       "    <tr style=\"text-align: right;\">\n",
       "      <th></th>\n",
       "      <th>0</th>\n",
       "      <th>Length</th>\n",
       "    </tr>\n",
       "  </thead>\n",
       "  <tbody>\n",
       "    <tr>\n",
       "      <th>0</th>\n",
       "      <td>LNLIPKLIFHEAQGKVASVYARLAEIPGSTSQWLLHRASPERALNR...</td>\n",
       "      <td>96</td>\n",
       "    </tr>\n",
       "    <tr>\n",
       "      <th>1</th>\n",
       "      <td>SISLIPPISRNKDSRRVVASKRTTMKTHYIAYAFQCYSSRKT</td>\n",
       "      <td>42</td>\n",
       "    </tr>\n",
       "    <tr>\n",
       "      <th>2</th>\n",
       "      <td>Q</td>\n",
       "      <td>1</td>\n",
       "    </tr>\n",
       "    <tr>\n",
       "      <th>3</th>\n",
       "      <td>VVPFQESV</td>\n",
       "      <td>8</td>\n",
       "    </tr>\n",
       "    <tr>\n",
       "      <th>4</th>\n",
       "      <td>RTTYLEITINM</td>\n",
       "      <td>11</td>\n",
       "    </tr>\n",
       "  </tbody>\n",
       "</table>\n",
       "</div>"
      ],
      "text/plain": [
       "                                                   0  Length\n",
       "0  LNLIPKLIFHEAQGKVASVYARLAEIPGSTSQWLLHRASPERALNR...      96\n",
       "1         SISLIPPISRNKDSRRVVASKRTTMKTHYIAYAFQCYSSRKT      42\n",
       "2                                                  Q       1\n",
       "3                                           VVPFQESV       8\n",
       "4                                        RTTYLEITINM      11"
      ]
     },
     "execution_count": 140,
     "metadata": {},
     "output_type": "execute_result"
    }
   ],
   "source": [
    "df_peps[\"Length\"] = lengths\n",
    "df_peps.head()"
   ]
  },
  {
   "cell_type": "code",
   "execution_count": 145,
   "metadata": {},
   "outputs": [
    {
     "data": {
      "text/plain": [
       "<matplotlib.axes._subplots.AxesSubplot at 0x1a11ce1550>"
      ]
     },
     "execution_count": 145,
     "metadata": {},
     "output_type": "execute_result"
    },
    {
     "data": {
      "image/png": "[encoded data removed]",
      "text/plain": [
       "<Figure size 432x288 with 1 Axes>"
      ]
     },
     "metadata": {},
     "output_type": "display_data"
    }
   ],
   "source": [
    "df_peps[\"Length\"].hist(bins=20)"
   ]
  },
  {
   "cell_type": "code",
   "execution_count": 146,
   "metadata": {},
   "outputs": [
    {
     "data": {
      "text/plain": [
       "count    15556.000000\n",
       "mean        20.428002\n",
       "std         20.849506\n",
       "min          0.000000\n",
       "25%          6.000000\n",
       "50%         14.000000\n",
       "75%         29.000000\n",
       "max        186.000000\n",
       "Name: Length, dtype: float64"
      ]
     },
     "execution_count": 146,
     "metadata": {},
     "output_type": "execute_result"
    }
   ],
   "source": [
    "# so (not surprisingly) the typical length of a translated peptide from a random sequence is ~20 \n",
    "# (since 3/64 ~ 1/20th of all translated codons are stop codons.\n",
    "df_peps[\"Length\"].describe()\n"
   ]
  },
  {
   "cell_type": "markdown",
   "metadata": {},
   "source": [
    "# assignment (due next Thursday):\n",
    "## think of a way (or look up) a way to produce a random sequence that has a higher GC content than the equal 25-25-25-25 that we have just analysed.\n",
    "## hint: try googling stack-overflow.  also, what happens if \"your_letters\" has more than one copy of each DNA letter?\n",
    "## specific question: \"describe\" the random translation of a string of 999999 letters with GC content of 0.667 = 2/3."
   ]
  },
  {
   "cell_type": "markdown",
   "metadata": {},
   "source": [
    "# return to our annotations, and now add the CDS and peptide to the table"
   ]
  },
  {
   "cell_type": "code",
   "execution_count": 147,
   "metadata": {},
   "outputs": [
    {
     "data": {
      "text/html": [
       "<div>\n",
       "<style scoped>\n",
       "    .dataframe tbody tr th:only-of-type {\n",
       "        vertical-align: middle;\n",
       "    }\n",
       "\n",
       "    .dataframe tbody tr th {\n",
       "        vertical-align: top;\n",
       "    }\n",
       "\n",
       "    .dataframe thead th {\n",
       "        text-align: right;\n",
       "    }\n",
       "</style>\n",
       "<table border=\"1\" class=\"dataframe\">\n",
       "  <thead>\n",
       "    <tr style=\"text-align: right;\">\n",
       "      <th></th>\n",
       "      <th>#Replicon Name</th>\n",
       "      <th>Replicon Accession</th>\n",
       "      <th>Start</th>\n",
       "      <th>Stop</th>\n",
       "      <th>Strand</th>\n",
       "      <th>GeneID</th>\n",
       "      <th>Locus</th>\n",
       "      <th>Locus tag</th>\n",
       "      <th>Protein product</th>\n",
       "      <th>Length</th>\n",
       "      <th>COG(s)</th>\n",
       "      <th>Protein name</th>\n",
       "    </tr>\n",
       "  </thead>\n",
       "  <tbody>\n",
       "    <tr>\n",
       "      <th>0</th>\n",
       "      <td>chr</td>\n",
       "      <td>NC_000913.3</td>\n",
       "      <td>190</td>\n",
       "      <td>255</td>\n",
       "      <td>+</td>\n",
       "      <td>944742</td>\n",
       "      <td>thrL</td>\n",
       "      <td>b0001</td>\n",
       "      <td>NP_414542.1</td>\n",
       "      <td>21</td>\n",
       "      <td>-</td>\n",
       "      <td>thr operon leader peptide</td>\n",
       "    </tr>\n",
       "    <tr>\n",
       "      <th>1</th>\n",
       "      <td>chr</td>\n",
       "      <td>NC_000913.3</td>\n",
       "      <td>337</td>\n",
       "      <td>2799</td>\n",
       "      <td>+</td>\n",
       "      <td>945803</td>\n",
       "      <td>thrA</td>\n",
       "      <td>b0002</td>\n",
       "      <td>NP_414543.1</td>\n",
       "      <td>820</td>\n",
       "      <td>-</td>\n",
       "      <td>fused aspartate kinase/homoserine dehydrogenase 1</td>\n",
       "    </tr>\n",
       "    <tr>\n",
       "      <th>2</th>\n",
       "      <td>chr</td>\n",
       "      <td>NC_000913.3</td>\n",
       "      <td>2801</td>\n",
       "      <td>3733</td>\n",
       "      <td>+</td>\n",
       "      <td>947498</td>\n",
       "      <td>thrB</td>\n",
       "      <td>b0003</td>\n",
       "      <td>NP_414544.1</td>\n",
       "      <td>310</td>\n",
       "      <td>-</td>\n",
       "      <td>homoserine kinase</td>\n",
       "    </tr>\n",
       "    <tr>\n",
       "      <th>3</th>\n",
       "      <td>chr</td>\n",
       "      <td>NC_000913.3</td>\n",
       "      <td>3734</td>\n",
       "      <td>5020</td>\n",
       "      <td>+</td>\n",
       "      <td>945198</td>\n",
       "      <td>thrC</td>\n",
       "      <td>b0004</td>\n",
       "      <td>NP_414545.1</td>\n",
       "      <td>428</td>\n",
       "      <td>-</td>\n",
       "      <td>threonine synthase</td>\n",
       "    </tr>\n",
       "    <tr>\n",
       "      <th>4</th>\n",
       "      <td>chr</td>\n",
       "      <td>NC_000913.3</td>\n",
       "      <td>5234</td>\n",
       "      <td>5530</td>\n",
       "      <td>+</td>\n",
       "      <td>944747</td>\n",
       "      <td>yaaX</td>\n",
       "      <td>b0005</td>\n",
       "      <td>NP_414546.1</td>\n",
       "      <td>98</td>\n",
       "      <td>-</td>\n",
       "      <td>DUF2502 domain-containing protein YaaX</td>\n",
       "    </tr>\n",
       "  </tbody>\n",
       "</table>\n",
       "</div>"
      ],
      "text/plain": [
       "  #Replicon Name Replicon Accession  Start  Stop Strand  GeneID Locus  \\\n",
       "0            chr        NC_000913.3    190   255      +  944742  thrL   \n",
       "1            chr        NC_000913.3    337  2799      +  945803  thrA   \n",
       "2            chr        NC_000913.3   2801  3733      +  947498  thrB   \n",
       "3            chr        NC_000913.3   3734  5020      +  945198  thrC   \n",
       "4            chr        NC_000913.3   5234  5530      +  944747  yaaX   \n",
       "\n",
       "  Locus tag Protein product  Length COG(s)  \\\n",
       "0     b0001     NP_414542.1      21      -   \n",
       "1     b0002     NP_414543.1     820      -   \n",
       "2     b0003     NP_414544.1     310      -   \n",
       "3     b0004     NP_414545.1     428      -   \n",
       "4     b0005     NP_414546.1      98      -   \n",
       "\n",
       "                                        Protein name  \n",
       "0                          thr operon leader peptide  \n",
       "1  fused aspartate kinase/homoserine dehydrogenase 1  \n",
       "2                                  homoserine kinase  \n",
       "3                                 threonine synthase  \n",
       "4             DUF2502 domain-containing protein YaaX  "
      ]
     },
     "execution_count": 147,
     "metadata": {},
     "output_type": "execute_result"
    }
   ],
   "source": [
    "annot.head()"
   ]
  },
  {
   "cell_type": "code",
   "execution_count": 184,
   "metadata": {},
   "outputs": [
    {
     "ename": "KeyError",
     "evalue": "'GA'",
     "output_type": "error",
     "traceback": [
      "\u001b[0;31m---------------------------------------------------------------------------\u001b[0m",
      "\u001b[0;31mKeyError\u001b[0m                                  Traceback (most recent call last)",
      "\u001b[0;32m<ipython-input-184-0860af8fb6ac>\u001b[0m in \u001b[0;36m<module>\u001b[0;34m()\u001b[0m\n\u001b[1;32m      7\u001b[0m         \u001b[0mCDS_row\u001b[0m \u001b[0;34m=\u001b[0m \u001b[0mrevcomp\u001b[0m\u001b[0;34m(\u001b[0m \u001b[0mgenome\u001b[0m\u001b[0;34m[\u001b[0m\u001b[0mrow\u001b[0m\u001b[0;34m[\u001b[0m\u001b[0;34m\"Start\"\u001b[0m\u001b[0;34m]\u001b[0m\u001b[0;34m-\u001b[0m\u001b[0;36m1\u001b[0m \u001b[0;34m:\u001b[0m \u001b[0mrow\u001b[0m\u001b[0;34m[\u001b[0m\u001b[0;34m\"Stop\"\u001b[0m\u001b[0;34m]\u001b[0m\u001b[0;34m]\u001b[0m \u001b[0;34m)\u001b[0m\u001b[0;34m\u001b[0m\u001b[0m\n\u001b[1;32m      8\u001b[0m     \u001b[0mCDS\u001b[0m\u001b[0;34m.\u001b[0m\u001b[0mappend\u001b[0m\u001b[0;34m(\u001b[0m \u001b[0mCDS_row\u001b[0m \u001b[0;34m)\u001b[0m\u001b[0;34m\u001b[0m\u001b[0m\n\u001b[0;32m----> 9\u001b[0;31m     \u001b[0mpeptide\u001b[0m\u001b[0;34m.\u001b[0m\u001b[0mappend\u001b[0m\u001b[0;34m(\u001b[0m \u001b[0mtranslate\u001b[0m\u001b[0;34m(\u001b[0m\u001b[0mCDS_row\u001b[0m\u001b[0;34m)\u001b[0m \u001b[0;34m)\u001b[0m\u001b[0;34m\u001b[0m\u001b[0m\n\u001b[0m\u001b[1;32m     10\u001b[0m \u001b[0mannot\u001b[0m\u001b[0;34m[\u001b[0m\u001b[0;34m\"CDS\"\u001b[0m\u001b[0;34m]\u001b[0m \u001b[0;34m=\u001b[0m \u001b[0mCDS\u001b[0m\u001b[0;34m\u001b[0m\u001b[0m\n\u001b[1;32m     11\u001b[0m \u001b[0mannot\u001b[0m\u001b[0;34m[\u001b[0m\u001b[0;34m\"peptide\"\u001b[0m\u001b[0;34m]\u001b[0m \u001b[0;34m=\u001b[0m \u001b[0mpeptide\u001b[0m\u001b[0;34m\u001b[0m\u001b[0m\n",
      "\u001b[0;32m<ipython-input-69-022909f42165>\u001b[0m in \u001b[0;36mtranslate\u001b[0;34m(CDS)\u001b[0m\n\u001b[1;32m      4\u001b[0m     \u001b[0;32mfor\u001b[0m \u001b[0mj\u001b[0m \u001b[0;32min\u001b[0m \u001b[0mrange\u001b[0m\u001b[0;34m(\u001b[0m\u001b[0;36m0\u001b[0m\u001b[0;34m,\u001b[0m\u001b[0mlen\u001b[0m\u001b[0;34m(\u001b[0m\u001b[0mCDS\u001b[0m\u001b[0;34m)\u001b[0m\u001b[0;34m,\u001b[0m\u001b[0;36m3\u001b[0m\u001b[0;34m)\u001b[0m\u001b[0;34m:\u001b[0m\u001b[0;34m\u001b[0m\u001b[0m\n\u001b[1;32m      5\u001b[0m         \u001b[0mcodon\u001b[0m \u001b[0;34m=\u001b[0m \u001b[0mCDS\u001b[0m\u001b[0;34m[\u001b[0m\u001b[0mj\u001b[0m\u001b[0;34m:\u001b[0m\u001b[0mj\u001b[0m\u001b[0;34m+\u001b[0m\u001b[0;36m3\u001b[0m\u001b[0;34m]\u001b[0m\u001b[0;34m\u001b[0m\u001b[0m\n\u001b[0;32m----> 6\u001b[0;31m         \u001b[0mpeptide\u001b[0m \u001b[0;34m=\u001b[0m \u001b[0mpeptide\u001b[0m \u001b[0;34m+\u001b[0m \u001b[0mgencode\u001b[0m\u001b[0;34m[\u001b[0m\u001b[0mcodon\u001b[0m\u001b[0;34m]\u001b[0m\u001b[0;34m\u001b[0m\u001b[0m\n\u001b[0m\u001b[1;32m      7\u001b[0m     \u001b[0;32mreturn\u001b[0m \u001b[0mpeptide\u001b[0m\u001b[0;34m\u001b[0m\u001b[0m\n",
      "\u001b[0;31mKeyError\u001b[0m: 'GA'"
     ]
    }
   ],
   "source": [
    "CDS = []\n",
    "peptide = []\n",
    "for index, row in annot.iterrows():\n",
    "    if ( row[\"Strand\"] == \"+\" ):\n",
    "        CDS_row = genome[row[\"Start\"]-1 : row[\"Stop\"]]\n",
    "    if ( row[\"Strand\"] == \"-\" ):\n",
    "        CDS_row = revcomp( genome[row[\"Start\"]-1 : row[\"Stop\"]] ) \n",
    "    CDS.append( CDS_row )\n",
    "    peptide.append( translate(CDS_row) )\n",
    "annot[\"CDS\"] = CDS\n",
    "annot[\"peptide\"] = peptide\n",
    "annot.head(10)"
   ]
  },
  {
   "cell_type": "code",
   "execution_count": null,
   "metadata": {},
   "outputs": [],
   "source": [
    "# we screwed up, presumably on the opposite strand\n",
    "# add debugging"
   ]
  },
  {
   "cell_type": "code",
   "execution_count": 185,
   "metadata": {},
   "outputs": [
    {
     "name": "stdout",
     "output_type": "stream",
     "text": [
      "0 + 66\n",
      "1 + 2463\n",
      "2 + 933\n",
      "3 + 1287\n",
      "4 + 297\n",
      "5 - 0\n",
      "6 - 0\n",
      "7 + 954\n",
      "8 + 588\n",
      "9 - 0\n",
      "10 - 0\n",
      "11 + 486\n",
      "12 - 0\n",
      "13 + 1917\n",
      "14 + 1131\n",
      "15 + 1113\n",
      "16 - 0\n",
      "17 - 0\n",
      "18 + 1167\n",
      "19 + 906\n",
      "20 - 0\n",
      "21 - 0\n",
      "22 - 0\n",
      "23 + 219\n",
      "24 + 942\n",
      "25 + 2817\n",
      "26 + 495\n",
      "27 + 450\n",
      "28 + 951\n",
      "29 + 915\n",
      "30 + 822\n",
      "31 + 1149\n",
      "32 + 3222\n",
      "33 + 396\n",
      "34 - 0\n",
      "35 - 0\n",
      "36 - 0\n",
      "37 - 0\n",
      "38 - 0\n",
      "39 - 0\n",
      "40 + 771\n",
      "41 + 942\n",
      "42 + 1287\n",
      "43 + 288\n",
      "44 + 1332\n",
      "45 + 531\n",
      "46 + 1863\n",
      "47 + 480\n",
      "48 - 0\n",
      "49 - 0\n",
      "50 - 0\n",
      "51 - 0\n",
      "52 - 0\n",
      "53 - 0\n",
      "54 + 816\n",
      "55 + 651\n",
      "56 + 159\n",
      "57 - 0\n",
      "58 - 0\n",
      "59 - 0\n",
      "60 - 0\n",
      "61 - 0\n",
      "62 - 0\n",
      "63 + 879\n",
      "64 + 765\n",
      "65 - 0\n",
      "66 - 0\n",
      "67 - 0\n",
      "68 - 0\n",
      "69 + 132\n",
      "70 + 1179\n",
      "71 - 0\n",
      "72 - 0\n",
      "73 - 0\n",
      "74 - 0\n",
      "75 - 0\n",
      "76 + 945\n",
      "77 - 0\n",
      "78 + 1725\n",
      "79 + 492\n",
      "80 + 1005\n",
      "81 + 459\n",
      "82 + 942\n",
      "83 + 366\n",
      "84 + 1767\n",
      "85 + 1488\n",
      "86 + 1359\n",
      "87 + 1083\n",
      "88 + 1317\n",
      "89 + 1245\n",
      "90 + 1068\n",
      "91 + 1476\n",
      "92 + 921\n",
      "93 + 831\n",
      "94 + 1263\n",
      "95 + 1152\n",
      "96 + 918\n",
      "97 + 513\n",
      "98 + 2706\n",
      "99 + 390\n",
      "100 - 0\n",
      "101 - 0\n",
      "102 - 0\n",
      "103 + 45\n",
      "104 + 1044\n",
      "105 - 0\n",
      "106 - 0\n",
      "107 - 0\n",
      "108 - 0\n",
      "109 + 552\n",
      "110 + 855\n",
      "111 - 0\n",
      "112 + 765\n",
      "113 + 2664\n",
      "114 + 1893\n",
      "115 + 1425\n",
      "116 - 0\n",
      "117 + 2598\n",
      "118 + 363\n",
      "119 - 0\n",
      "120 - 0\n",
      "121 - 0\n",
      "122 + 1551\n",
      "123 - 0\n",
      "124 + 537\n",
      "125 - 0\n",
      "126 + 927\n",
      "127 + 771\n",
      "128 + 441\n",
      "129 + 1230\n",
      "130 - 0\n",
      "131 + 903\n",
      "132 - 0\n",
      "133 - 0\n",
      "134 - 0\n",
      "135 - 0\n",
      "136 - 0\n",
      "137 - 0\n",
      "138 - 0\n",
      "139 - 0\n",
      "140 - 0\n",
      "141 - 0\n",
      "142 - 0\n",
      "143 - 0\n",
      "144 - 0\n",
      "145 - 0\n",
      "146 - 0\n",
      "147 + 2430\n",
      "148 + 2535\n",
      "149 + 2244\n",
      "150 + 798\n",
      "151 + 891\n",
      "152 + 1983\n",
      "153 - 0\n",
      "154 + 1422\n",
      "155 + 66\n",
      "156 + 345\n",
      "157 - 0\n",
      "158 - 0\n",
      "159 - 0\n",
      "160 + 1518\n",
      "161 + 1425\n",
      "162 + 1158\n",
      "163 - 0\n",
      "164 - 0\n",
      "165 - 0\n",
      "166 - 0\n",
      "167 - 0\n",
      "168 + 726\n",
      "169 + 852\n",
      "170 + 726\n",
      "171 + 558\n",
      "172 + 1197\n",
      "173 + 762\n",
      "174 + 858\n",
      "175 + 1353\n",
      "176 + 2433\n",
      "177 + 486\n",
      "178 + 1026\n",
      "179 + 456\n",
      "180 + 789\n",
      "181 + 1149\n",
      "182 + 597\n",
      "183 + 3483\n",
      "184 + 960\n",
      "185 + 2142\n",
      "186 + 390\n",
      "187 + 1299\n",
      "188 - 0\n",
      "189 - 0\n",
      "190 + 546\n",
      "191 + 423\n",
      "192 + 711\n",
      "193 - 0\n",
      "194 - 0\n",
      "195 - 0\n",
      "196 - 0\n",
      "197 - 0\n",
      "198 - 0\n",
      "199 - 0\n",
      "200 + 576\n",
      "201 + 804\n",
      "202 - 0\n",
      "203 + 801\n",
      "204 + 624\n",
      "205 - 0\n",
      "206 - 0\n",
      "207 + 723\n",
      "208 - 0\n",
      "209 + 732\n",
      "210 + 786\n",
      "211 - 0\n",
      "212 - 0\n",
      "213 + 474\n",
      "214 - 0\n",
      "215 + 579\n",
      "216 + 768\n",
      "217 - 0\n",
      "218 - 0\n",
      "219 - 0\n",
      "220 + 750\n",
      "221 + 498\n",
      "222 + 1056\n",
      "223 + 294\n",
      "224 + 399\n",
      "225 + 453\n",
      "226 - 0\n",
      "227 + 459\n",
      "228 + 1245\n",
      "229 - 0\n",
      "230 - 0\n",
      "231 - 0\n",
      "232 + 1104\n",
      "233 + 1254\n",
      "234 - 0\n",
      "235 - 0\n",
      "236 - 0\n",
      "237 - 0\n",
      "238 - 0\n",
      "239 - 0\n",
      "240 - 0\n",
      "241 - 0\n",
      "242 - 0\n",
      "243 - 0\n",
      "244 - 0\n",
      "245 + 1152\n",
      "246 + 1146\n",
      "247 - 0\n",
      "248 + 1404\n",
      "249 + 933\n",
      "250 - 0\n",
      "251 - 0\n",
      "252 - 0\n",
      "253 - 0\n",
      "254 - 0\n",
      "255 + 909\n",
      "256 + 1968\n",
      "257 + 1383\n",
      "258 + 1611\n",
      "259 - 0\n",
      "260 - 0\n",
      "261 + 129\n",
      "262 - 0\n",
      "263 - 0\n",
      "264 + 732\n",
      "265 - 0\n",
      "266 - 0\n",
      "267 - 0\n",
      "268 - 0\n",
      "269 - 0\n",
      "270 - 0\n",
      "271 - 0\n",
      "272 - 0\n",
      "273 - 0\n",
      "274 - 0\n",
      "275 - 0\n",
      "276 + 615\n",
      "277 - 0\n",
      "278 - 0\n",
      "279 - 0\n",
      "280 - 0\n",
      "281 - 0\n",
      "282 - 0\n",
      "283 - 0\n",
      "284 + 228\n",
      "285 - 0\n",
      "286 - 0\n",
      "287 - 0\n",
      "288 + 300\n",
      "289 + 867\n",
      "290 - 0\n",
      "291 - 0\n",
      "292 - 0\n",
      "293 + 855\n",
      "294 + 720\n",
      "295 + 1428\n",
      "296 + 696\n",
      "297 - 0\n",
      "298 - 0\n",
      "299 - 0\n",
      "300 - 0\n",
      "301 + 2034\n",
      "302 + 75\n",
      "303 + 1089\n",
      "304 - 0\n",
      "305 - 0\n",
      "306 + 606\n",
      "307 + 864\n",
      "308 + 1548\n",
      "309 + 1419\n",
      "310 + 297\n",
      "311 + 951\n",
      "312 + 1383\n",
      "313 + 1050\n",
      "314 + 816\n",
      "315 + 246\n",
      "316 - 0\n",
      "317 + 276\n",
      "318 - 0\n",
      "319 + 891\n",
      "320 + 1170\n",
      "321 + 1452\n",
      "322 + 1887\n",
      "323 + 1260\n",
      "324 + 1284\n",
      "325 - 0\n",
      "326 + 660\n",
      "327 + 471\n",
      "328 + 1155\n",
      "329 - 0\n",
      "330 - 0\n",
      "331 - 0\n",
      "332 - 0\n",
      "333 - 0\n",
      "334 + 1665\n",
      "335 + 945\n",
      "336 + 867\n",
      "337 + 810\n",
      "338 + 951\n",
      "339 + 1014\n",
      "340 + 1212\n",
      "341 + 540\n",
      "342 - 0\n",
      "343 - 0\n",
      "344 - 0\n",
      "345 - 0\n",
      "346 + 366\n",
      "347 + 906\n",
      "348 - 0\n",
      "349 + 120\n",
      "350 - 0\n",
      "351 + 963\n",
      "352 + 768\n",
      "353 + 828\n",
      "354 + 852\n",
      "355 - 0\n",
      "356 - 0\n",
      "357 - 0\n",
      "358 + 624\n",
      "359 - 0\n",
      "360 + 1221\n",
      "361 + 1095\n",
      "362 - 0\n",
      "363 + 213\n",
      "364 - 0\n",
      "365 + 261\n",
      "366 + 1416\n",
      "367 + 321\n",
      "368 + 1116\n",
      "369 - 0\n",
      "370 + 459\n",
      "371 + 525\n",
      "372 + 192\n",
      "373 + 678\n",
      "374 + 285\n",
      "375 + 84\n",
      "376 - 0\n",
      "377 + 909\n",
      "378 - 0\n",
      "379 - 0\n",
      "380 - 0\n",
      "381 + 690\n",
      "382 + 1296\n",
      "383 + 1320\n",
      "384 + 1374\n",
      "385 + 1815\n",
      "386 - 0\n",
      "387 + 1071\n",
      "388 + 1128\n",
      "389 + 333\n",
      "390 + 1848\n",
      "391 + 972\n",
      "392 + 348\n",
      "393 - 0\n",
      "394 - 0\n",
      "395 + 450\n",
      "396 + 1104\n",
      "397 + 471\n",
      "398 + 420\n",
      "399 + 978\n",
      "400 + 519\n",
      "401 - 0\n",
      "402 - 0\n",
      "403 - 0\n",
      "404 - 0\n",
      "405 + 1449\n",
      "406 - 0\n",
      "407 - 0\n",
      "408 + 492\n",
      "409 - 0\n",
      "410 - 0\n",
      "411 - 0\n",
      "412 - 0\n",
      "413 - 0\n",
      "414 - 0\n",
      "415 - 0\n",
      "416 - 0\n",
      "417 + 318\n",
      "418 + 1299\n",
      "419 + 624\n",
      "420 + 1275\n",
      "421 + 2355\n",
      "422 + 273\n",
      "423 + 1872\n",
      "424 + 372\n",
      "425 + 399\n",
      "426 - 0\n",
      "427 - 0\n",
      "428 + 819\n",
      "429 + 459\n",
      "430 + 1773\n",
      "431 + 1782\n",
      "432 + 339\n",
      "433 + 1287\n",
      "434 - 0\n",
      "435 + 573\n",
      "436 - 0\n",
      "437 + 354\n",
      "438 - 0\n",
      "439 - 0\n",
      "440 - 0\n",
      "441 - 0\n",
      "442 - 0\n",
      "443 - 0\n",
      "444 - 0\n",
      "445 + 648\n",
      "446 + 3363\n",
      "447 - 0\n",
      "448 - 0\n",
      "449 + 378\n",
      "450 + 552\n",
      "451 + 1932\n",
      "452 + 1295\n"
     ]
    },
    {
     "ename": "KeyError",
     "evalue": "'GA'",
     "output_type": "error",
     "traceback": [
      "\u001b[0;31m---------------------------------------------------------------------------\u001b[0m",
      "\u001b[0;31mKeyError\u001b[0m                                  Traceback (most recent call last)",
      "\u001b[0;32m<ipython-input-185-c49f0a423fec>\u001b[0m in \u001b[0;36m<module>\u001b[0;34m()\u001b[0m\n\u001b[1;32m      8\u001b[0m     \u001b[0mprint\u001b[0m\u001b[0;34m(\u001b[0m\u001b[0mindex\u001b[0m\u001b[0;34m,\u001b[0m \u001b[0mrow\u001b[0m\u001b[0;34m[\u001b[0m\u001b[0;34m\"Strand\"\u001b[0m\u001b[0;34m]\u001b[0m\u001b[0;34m,\u001b[0m \u001b[0mlen\u001b[0m\u001b[0;34m(\u001b[0m\u001b[0mCDS_row\u001b[0m\u001b[0;34m)\u001b[0m\u001b[0;34m)\u001b[0m\u001b[0;34m\u001b[0m\u001b[0m\n\u001b[1;32m      9\u001b[0m     \u001b[0mCDS\u001b[0m\u001b[0;34m.\u001b[0m\u001b[0mappend\u001b[0m\u001b[0;34m(\u001b[0m \u001b[0mCDS_row\u001b[0m \u001b[0;34m)\u001b[0m\u001b[0;34m\u001b[0m\u001b[0m\n\u001b[0;32m---> 10\u001b[0;31m     \u001b[0mpeptide\u001b[0m\u001b[0;34m.\u001b[0m\u001b[0mappend\u001b[0m\u001b[0;34m(\u001b[0m \u001b[0mtranslate\u001b[0m\u001b[0;34m(\u001b[0m\u001b[0mCDS_row\u001b[0m\u001b[0;34m)\u001b[0m \u001b[0;34m)\u001b[0m\u001b[0;34m\u001b[0m\u001b[0m\n\u001b[0m\u001b[1;32m     11\u001b[0m \u001b[0mannot\u001b[0m\u001b[0;34m[\u001b[0m\u001b[0;34m\"CDS\"\u001b[0m\u001b[0;34m]\u001b[0m \u001b[0;34m=\u001b[0m \u001b[0mCDS\u001b[0m\u001b[0;34m\u001b[0m\u001b[0m\n\u001b[1;32m     12\u001b[0m \u001b[0mannot\u001b[0m\u001b[0;34m[\u001b[0m\u001b[0;34m\"peptide\"\u001b[0m\u001b[0;34m]\u001b[0m \u001b[0;34m=\u001b[0m \u001b[0mpeptide\u001b[0m\u001b[0;34m\u001b[0m\u001b[0m\n",
      "\u001b[0;32m<ipython-input-69-022909f42165>\u001b[0m in \u001b[0;36mtranslate\u001b[0;34m(CDS)\u001b[0m\n\u001b[1;32m      4\u001b[0m     \u001b[0;32mfor\u001b[0m \u001b[0mj\u001b[0m \u001b[0;32min\u001b[0m \u001b[0mrange\u001b[0m\u001b[0;34m(\u001b[0m\u001b[0;36m0\u001b[0m\u001b[0;34m,\u001b[0m\u001b[0mlen\u001b[0m\u001b[0;34m(\u001b[0m\u001b[0mCDS\u001b[0m\u001b[0;34m)\u001b[0m\u001b[0;34m,\u001b[0m\u001b[0;36m3\u001b[0m\u001b[0;34m)\u001b[0m\u001b[0;34m:\u001b[0m\u001b[0;34m\u001b[0m\u001b[0m\n\u001b[1;32m      5\u001b[0m         \u001b[0mcodon\u001b[0m \u001b[0;34m=\u001b[0m \u001b[0mCDS\u001b[0m\u001b[0;34m[\u001b[0m\u001b[0mj\u001b[0m\u001b[0;34m:\u001b[0m\u001b[0mj\u001b[0m\u001b[0;34m+\u001b[0m\u001b[0;36m3\u001b[0m\u001b[0;34m]\u001b[0m\u001b[0;34m\u001b[0m\u001b[0m\n\u001b[0;32m----> 6\u001b[0;31m         \u001b[0mpeptide\u001b[0m \u001b[0;34m=\u001b[0m \u001b[0mpeptide\u001b[0m \u001b[0;34m+\u001b[0m \u001b[0mgencode\u001b[0m\u001b[0;34m[\u001b[0m\u001b[0mcodon\u001b[0m\u001b[0;34m]\u001b[0m\u001b[0;34m\u001b[0m\u001b[0m\n\u001b[0m\u001b[1;32m      7\u001b[0m     \u001b[0;32mreturn\u001b[0m \u001b[0mpeptide\u001b[0m\u001b[0;34m\u001b[0m\u001b[0m\n",
      "\u001b[0;31mKeyError\u001b[0m: 'GA'"
     ]
    }
   ],
   "source": [
    "CDS = []\n",
    "peptide = []\n",
    "for index, row in annot.iterrows():\n",
    "    if ( row[\"Strand\"] == \"+\" ):\n",
    "        CDS_row = genome[row[\"Start\"]-1 : row[\"Stop\"]]\n",
    "    if ( row[\"Strand\"] == \"-\" ):\n",
    "        CDS_row = genome[row[\"Stop\"]-1 : row[\"Start\"]] \n",
    "    print(index, row[\"Strand\"], len(CDS_row))\n",
    "    CDS.append( CDS_row )\n",
    "    peptide.append( translate(CDS_row) )\n",
    "annot[\"CDS\"] = CDS\n",
    "annot[\"peptide\"] = peptide\n",
    "annot.head(10)"
   ]
  },
  {
   "cell_type": "code",
   "execution_count": 154,
   "metadata": {},
   "outputs": [
    {
     "data": {
      "text/plain": [
       "#Replicon Name                                     chr\n",
       "Replicon Accession                         NC_000913.3\n",
       "Start                                           492092\n",
       "Stop                                            493386\n",
       "Strand                                               +\n",
       "GeneID                                          945105\n",
       "Locus                                             dnaX\n",
       "Locus tag                                        b0470\n",
       "Protein product                         YP_009518751.1\n",
       "Length                                             431\n",
       "COG(s)                                               -\n",
       "Protein name          DNA polymerase III subunit gamma\n",
       "Name: 452, dtype: object"
      ]
     },
     "execution_count": 154,
     "metadata": {},
     "output_type": "execute_result"
    }
   ],
   "source": [
    "annot.iloc[452]"
   ]
  },
  {
   "cell_type": "code",
   "execution_count": 155,
   "metadata": {},
   "outputs": [
    {
     "data": {
      "text/plain": [
       "1295"
      ]
     },
     "execution_count": 155,
     "metadata": {},
     "output_type": "execute_result"
    }
   ],
   "source": [
    "# a plus strand!\n",
    "493386-492092+1"
   ]
  },
  {
   "cell_type": "code",
   "execution_count": 197,
   "metadata": {},
   "outputs": [
    {
     "name": "stdout",
     "output_type": "stream",
     "text": [
      "452 + 1295 dnaX\n",
      "467 - 212 copA\n",
      "2800 - 1099 prfB\n"
     ]
    },
    {
     "data": {
      "text/html": [
       "<div>\n",
       "<style scoped>\n",
       "    .dataframe tbody tr th:only-of-type {\n",
       "        vertical-align: middle;\n",
       "    }\n",
       "\n",
       "    .dataframe tbody tr th {\n",
       "        vertical-align: top;\n",
       "    }\n",
       "\n",
       "    .dataframe thead th {\n",
       "        text-align: right;\n",
       "    }\n",
       "</style>\n",
       "<table border=\"1\" class=\"dataframe\">\n",
       "  <thead>\n",
       "    <tr style=\"text-align: right;\">\n",
       "      <th></th>\n",
       "      <th>#Replicon Name</th>\n",
       "      <th>Replicon Accession</th>\n",
       "      <th>Start</th>\n",
       "      <th>Stop</th>\n",
       "      <th>Strand</th>\n",
       "      <th>GeneID</th>\n",
       "      <th>Locus</th>\n",
       "      <th>Locus tag</th>\n",
       "      <th>Protein product</th>\n",
       "      <th>Length</th>\n",
       "      <th>COG(s)</th>\n",
       "      <th>Protein name</th>\n",
       "      <th>CDS</th>\n",
       "      <th>peptide</th>\n",
       "    </tr>\n",
       "  </thead>\n",
       "  <tbody>\n",
       "    <tr>\n",
       "      <th>0</th>\n",
       "      <td>chr</td>\n",
       "      <td>NC_000913.3</td>\n",
       "      <td>190</td>\n",
       "      <td>255</td>\n",
       "      <td>+</td>\n",
       "      <td>944742</td>\n",
       "      <td>thrL</td>\n",
       "      <td>b0001</td>\n",
       "      <td>NP_414542.1</td>\n",
       "      <td>21</td>\n",
       "      <td>-</td>\n",
       "      <td>thr operon leader peptide</td>\n",
       "      <td>ATGAAACGCATTAGCACCACCATTACCACCACCATCACCATTACCA...</td>\n",
       "      <td>MKRISTTITTTITITTGNGAG_</td>\n",
       "    </tr>\n",
       "    <tr>\n",
       "      <th>1</th>\n",
       "      <td>chr</td>\n",
       "      <td>NC_000913.3</td>\n",
       "      <td>337</td>\n",
       "      <td>2799</td>\n",
       "      <td>+</td>\n",
       "      <td>945803</td>\n",
       "      <td>thrA</td>\n",
       "      <td>b0002</td>\n",
       "      <td>NP_414543.1</td>\n",
       "      <td>820</td>\n",
       "      <td>-</td>\n",
       "      <td>fused aspartate kinase/homoserine dehydrogenase 1</td>\n",
       "      <td>ATGCGAGTGTTGAAGTTCGGCGGTACATCAGTGGCAAATGCAGAAC...</td>\n",
       "      <td>MRVLKFGGTSVANAERFLRVADILESNARQGQVATVLSAPAKITNH...</td>\n",
       "    </tr>\n",
       "    <tr>\n",
       "      <th>2</th>\n",
       "      <td>chr</td>\n",
       "      <td>NC_000913.3</td>\n",
       "      <td>2801</td>\n",
       "      <td>3733</td>\n",
       "      <td>+</td>\n",
       "      <td>947498</td>\n",
       "      <td>thrB</td>\n",
       "      <td>b0003</td>\n",
       "      <td>NP_414544.1</td>\n",
       "      <td>310</td>\n",
       "      <td>-</td>\n",
       "      <td>homoserine kinase</td>\n",
       "      <td>ATGGTTAAAGTTTATGCCCCGGCTTCCAGTGCCAATATGAGCGTCG...</td>\n",
       "      <td>MVKVYAPASSANMSVGFDVLGAAVTPVDGALLGDVVTVEAAETFSL...</td>\n",
       "    </tr>\n",
       "    <tr>\n",
       "      <th>3</th>\n",
       "      <td>chr</td>\n",
       "      <td>NC_000913.3</td>\n",
       "      <td>3734</td>\n",
       "      <td>5020</td>\n",
       "      <td>+</td>\n",
       "      <td>945198</td>\n",
       "      <td>thrC</td>\n",
       "      <td>b0004</td>\n",
       "      <td>NP_414545.1</td>\n",
       "      <td>428</td>\n",
       "      <td>-</td>\n",
       "      <td>threonine synthase</td>\n",
       "      <td>ATGAAACTCTACAATCTGAAAGATCACAACGAGCAGGTCAGCTTTG...</td>\n",
       "      <td>MKLYNLKDHNEQVSFAQAVTQGLGKNQGLFFPHDLPEFSLTEIDEM...</td>\n",
       "    </tr>\n",
       "    <tr>\n",
       "      <th>4</th>\n",
       "      <td>chr</td>\n",
       "      <td>NC_000913.3</td>\n",
       "      <td>5234</td>\n",
       "      <td>5530</td>\n",
       "      <td>+</td>\n",
       "      <td>944747</td>\n",
       "      <td>yaaX</td>\n",
       "      <td>b0005</td>\n",
       "      <td>NP_414546.1</td>\n",
       "      <td>98</td>\n",
       "      <td>-</td>\n",
       "      <td>DUF2502 domain-containing protein YaaX</td>\n",
       "      <td>GTGAAAAAGATGCAATCTATCGTACTCGCACTTTCCCTGGTTCTGG...</td>\n",
       "      <td>VKKMQSIVLALSLVLVAPMAAQAAEITLVPSVKLQIGDRDNRGYYW...</td>\n",
       "    </tr>\n",
       "    <tr>\n",
       "      <th>5</th>\n",
       "      <td>chr</td>\n",
       "      <td>NC_000913.3</td>\n",
       "      <td>5683</td>\n",
       "      <td>6459</td>\n",
       "      <td>-</td>\n",
       "      <td>944749</td>\n",
       "      <td>yaaA</td>\n",
       "      <td>b0006</td>\n",
       "      <td>NP_414547.1</td>\n",
       "      <td>258</td>\n",
       "      <td>-</td>\n",
       "      <td>peroxide stress resistance protein YaaA</td>\n",
       "      <td>ATGCTGATTCTTATTTCACCTGCGAAAACGCTTGATTACCAAAGCC...</td>\n",
       "      <td>MLILISPAKTLDYQSPLTTTRYTLPELLDNSQQLIHEARKLTPPQI...</td>\n",
       "    </tr>\n",
       "    <tr>\n",
       "      <th>6</th>\n",
       "      <td>chr</td>\n",
       "      <td>NC_000913.3</td>\n",
       "      <td>6529</td>\n",
       "      <td>7959</td>\n",
       "      <td>-</td>\n",
       "      <td>944745</td>\n",
       "      <td>yaaJ</td>\n",
       "      <td>b0007</td>\n",
       "      <td>NP_414548.1</td>\n",
       "      <td>476</td>\n",
       "      <td>-</td>\n",
       "      <td>putative transporter YaaJ</td>\n",
       "      <td>ATGCCAGATTTTTTCTCCTTCATTAACAGCGTCCTTTGGGGATCGG...</td>\n",
       "      <td>MPDFFSFINSVLWGSVMIYLLFGAGCWFTFRTGFVQFRYIRQFGKS...</td>\n",
       "    </tr>\n",
       "    <tr>\n",
       "      <th>7</th>\n",
       "      <td>chr</td>\n",
       "      <td>NC_000913.3</td>\n",
       "      <td>8238</td>\n",
       "      <td>9191</td>\n",
       "      <td>+</td>\n",
       "      <td>944748</td>\n",
       "      <td>talB</td>\n",
       "      <td>b0008</td>\n",
       "      <td>NP_414549.1</td>\n",
       "      <td>317</td>\n",
       "      <td>-</td>\n",
       "      <td>transaldolase B</td>\n",
       "      <td>ATGACGGACAAATTGACCTCCCTTCGTCAGTACACCACCGTAGTGG...</td>\n",
       "      <td>MTDKLTSLRQYTTVVADTGDIAAMKLYQPQDATTNPSLILNAAQIP...</td>\n",
       "    </tr>\n",
       "    <tr>\n",
       "      <th>8</th>\n",
       "      <td>chr</td>\n",
       "      <td>NC_000913.3</td>\n",
       "      <td>9306</td>\n",
       "      <td>9893</td>\n",
       "      <td>+</td>\n",
       "      <td>944760</td>\n",
       "      <td>mog</td>\n",
       "      <td>b0009</td>\n",
       "      <td>NP_414550.1</td>\n",
       "      <td>195</td>\n",
       "      <td>-</td>\n",
       "      <td>molybdopterin adenylyltransferase</td>\n",
       "      <td>ATGAATACTTTACGTATTGGCTTAGTTTCCATCTCTGATCGCGCAT...</td>\n",
       "      <td>MNTLRIGLVSISDRASSGVYQDKGIPALEEWLTSALTTPFELETRL...</td>\n",
       "    </tr>\n",
       "    <tr>\n",
       "      <th>9</th>\n",
       "      <td>chr</td>\n",
       "      <td>NC_000913.3</td>\n",
       "      <td>9928</td>\n",
       "      <td>10494</td>\n",
       "      <td>-</td>\n",
       "      <td>944792</td>\n",
       "      <td>satP</td>\n",
       "      <td>b0010</td>\n",
       "      <td>NP_414551.1</td>\n",
       "      <td>188</td>\n",
       "      <td>-</td>\n",
       "      <td>acetate/succinate:H(+) symporter</td>\n",
       "      <td>ATGGGCAACACTAAGTTGGCTAATCCGGCACCGCTGGGCCTGATGG...</td>\n",
       "      <td>MGNTKLANPAPLGLMGFGMTTILLNLHNVGYFALDGIILAMGIFYG...</td>\n",
       "    </tr>\n",
       "  </tbody>\n",
       "</table>\n",
       "</div>"
      ],
      "text/plain": [
       "  #Replicon Name Replicon Accession  Start   Stop Strand  GeneID Locus  \\\n",
       "0            chr        NC_000913.3    190    255      +  944742  thrL   \n",
       "1            chr        NC_000913.3    337   2799      +  945803  thrA   \n",
       "2            chr        NC_000913.3   2801   3733      +  947498  thrB   \n",
       "3            chr        NC_000913.3   3734   5020      +  945198  thrC   \n",
       "4            chr        NC_000913.3   5234   5530      +  944747  yaaX   \n",
       "5            chr        NC_000913.3   5683   6459      -  944749  yaaA   \n",
       "6            chr        NC_000913.3   6529   7959      -  944745  yaaJ   \n",
       "7            chr        NC_000913.3   8238   9191      +  944748  talB   \n",
       "8            chr        NC_000913.3   9306   9893      +  944760   mog   \n",
       "9            chr        NC_000913.3   9928  10494      -  944792  satP   \n",
       "\n",
       "  Locus tag Protein product  Length COG(s)  \\\n",
       "0     b0001     NP_414542.1      21      -   \n",
       "1     b0002     NP_414543.1     820      -   \n",
       "2     b0003     NP_414544.1     310      -   \n",
       "3     b0004     NP_414545.1     428      -   \n",
       "4     b0005     NP_414546.1      98      -   \n",
       "5     b0006     NP_414547.1     258      -   \n",
       "6     b0007     NP_414548.1     476      -   \n",
       "7     b0008     NP_414549.1     317      -   \n",
       "8     b0009     NP_414550.1     195      -   \n",
       "9     b0010     NP_414551.1     188      -   \n",
       "\n",
       "                                        Protein name  \\\n",
       "0                          thr operon leader peptide   \n",
       "1  fused aspartate kinase/homoserine dehydrogenase 1   \n",
       "2                                  homoserine kinase   \n",
       "3                                 threonine synthase   \n",
       "4             DUF2502 domain-containing protein YaaX   \n",
       "5            peroxide stress resistance protein YaaA   \n",
       "6                          putative transporter YaaJ   \n",
       "7                                    transaldolase B   \n",
       "8                  molybdopterin adenylyltransferase   \n",
       "9                   acetate/succinate:H(+) symporter   \n",
       "\n",
       "                                                 CDS  \\\n",
       "0  ATGAAACGCATTAGCACCACCATTACCACCACCATCACCATTACCA...   \n",
       "1  ATGCGAGTGTTGAAGTTCGGCGGTACATCAGTGGCAAATGCAGAAC...   \n",
       "2  ATGGTTAAAGTTTATGCCCCGGCTTCCAGTGCCAATATGAGCGTCG...   \n",
       "3  ATGAAACTCTACAATCTGAAAGATCACAACGAGCAGGTCAGCTTTG...   \n",
       "4  GTGAAAAAGATGCAATCTATCGTACTCGCACTTTCCCTGGTTCTGG...   \n",
       "5  ATGCTGATTCTTATTTCACCTGCGAAAACGCTTGATTACCAAAGCC...   \n",
       "6  ATGCCAGATTTTTTCTCCTTCATTAACAGCGTCCTTTGGGGATCGG...   \n",
       "7  ATGACGGACAAATTGACCTCCCTTCGTCAGTACACCACCGTAGTGG...   \n",
       "8  ATGAATACTTTACGTATTGGCTTAGTTTCCATCTCTGATCGCGCAT...   \n",
       "9  ATGGGCAACACTAAGTTGGCTAATCCGGCACCGCTGGGCCTGATGG...   \n",
       "\n",
       "                                             peptide  \n",
       "0                             MKRISTTITTTITITTGNGAG_  \n",
       "1  MRVLKFGGTSVANAERFLRVADILESNARQGQVATVLSAPAKITNH...  \n",
       "2  MVKVYAPASSANMSVGFDVLGAAVTPVDGALLGDVVTVEAAETFSL...  \n",
       "3  MKLYNLKDHNEQVSFAQAVTQGLGKNQGLFFPHDLPEFSLTEIDEM...  \n",
       "4  VKKMQSIVLALSLVLVAPMAAQAAEITLVPSVKLQIGDRDNRGYYW...  \n",
       "5  MLILISPAKTLDYQSPLTTTRYTLPELLDNSQQLIHEARKLTPPQI...  \n",
       "6  MPDFFSFINSVLWGSVMIYLLFGAGCWFTFRTGFVQFRYIRQFGKS...  \n",
       "7  MTDKLTSLRQYTTVVADTGDIAAMKLYQPQDATTNPSLILNAAQIP...  \n",
       "8  MNTLRIGLVSISDRASSGVYQDKGIPALEEWLTSALTTPFELETRL...  \n",
       "9  MGNTKLANPAPLGLMGFGMTTILLNLHNVGYFALDGIILAMGIFYG...  "
      ]
     },
     "execution_count": 197,
     "metadata": {},
     "output_type": "execute_result"
    }
   ],
   "source": [
    "# this is not a multiple of three!  ERROR in the input file.\n",
    "# we can look at this mroe carefully, but for now lets flag such problems\n",
    "CDS = []\n",
    "peptide = []\n",
    "for index, row in annot.iterrows():\n",
    "    if ( row[\"Strand\"] == \"+\" ):\n",
    "        CDS_row = genome[row[\"Start\"]-1 : row[\"Stop\"]]\n",
    "    if ( row[\"Strand\"] == \"-\" ):\n",
    "        CDS_row_rev = genome[row[\"Start\"]-1 : row[\"Stop\"] : 1] \n",
    "        CDS_row =  revcomp( CDS_row_rev )\n",
    "#   check for multiple of three. if not, make a dummy entry\n",
    "    if ( len(CDS_row)%3 != 0):\n",
    "        print(index, row[\"Strand\"], len(CDS_row), row[\"Locus\"])\n",
    "        CDS_row = ''\n",
    "    CDS.append( CDS_row )\n",
    "    peptide.append( translate(CDS_row) )\n",
    "annot[\"CDS\"] = CDS\n",
    "annot[\"peptide\"] = peptide\n",
    "annot.head(10)"
   ]
  },
  {
   "cell_type": "code",
   "execution_count": null,
   "metadata": {},
   "outputs": [],
   "source": []
  },
  {
   "cell_type": "code",
   "execution_count": null,
   "metadata": {},
   "outputs": [],
   "source": []
  },
  {
   "cell_type": "code",
   "execution_count": null,
   "metadata": {},
   "outputs": [],
   "source": []
  },
  {
   "cell_type": "code",
   "execution_count": null,
   "metadata": {},
   "outputs": [],
   "source": [
    "## k-mers"
   ]
  },
  {
   "cell_type": "code",
   "execution_count": 40,
   "metadata": {},
   "outputs": [],
   "source": [
    "nucleotides = ['A','C','G','T']"
   ]
  },
  {
   "cell_type": "code",
   "execution_count": 54,
   "metadata": {},
   "outputs": [
    {
     "data": {
      "text/plain": [
       "['AA',\n",
       " 'AC',\n",
       " 'AG',\n",
       " 'AT',\n",
       " 'CA',\n",
       " 'CC',\n",
       " 'CG',\n",
       " 'CT',\n",
       " 'GA',\n",
       " 'GC',\n",
       " 'GG',\n",
       " 'GT',\n",
       " 'TA',\n",
       " 'TC',\n",
       " 'TG',\n",
       " 'TT']"
      ]
     },
     "execution_count": 54,
     "metadata": {},
     "output_type": "execute_result"
    }
   ],
   "source": [
    "# add on to a given list\n",
    "def tack_on(list, alphabet):\n",
    "    list2 = []\n",
    "    for i in list:\n",
    "        for j in alphabet:\n",
    "            list2.append(i+j)\n",
    "    return list2"
   ]
  },
  {
   "cell_type": "code",
   "execution_count": 60,
   "metadata": {},
   "outputs": [
    {
     "data": {
      "text/plain": [
       "['AA',\n",
       " 'AC',\n",
       " 'AG',\n",
       " 'AT',\n",
       " 'CA',\n",
       " 'CC',\n",
       " 'CG',\n",
       " 'CT',\n",
       " 'GA',\n",
       " 'GC',\n",
       " 'GG',\n",
       " 'GT',\n",
       " 'TA',\n",
       " 'TC',\n",
       " 'TG',\n",
       " 'TT']"
      ]
     },
     "execution_count": 60,
     "metadata": {},
     "output_type": "execute_result"
    }
   ],
   "source": [
    "# test it!\n",
    "list = nucleotides\n",
    "tack_on(list, nucleotides)"
   ]
  },
  {
   "cell_type": "code",
   "execution_count": 61,
   "metadata": {},
   "outputs": [
    {
     "name": "stdout",
     "output_type": "stream",
     "text": [
      "['A', 'C', 'G', 'T']\n"
     ]
    }
   ],
   "source": [
    "print(list)"
   ]
  },
  {
   "cell_type": "code",
   "execution_count": 57,
   "metadata": {},
   "outputs": [],
   "source": [
    "list = tack_on(list, nucleotides)"
   ]
  },
  {
   "cell_type": "code",
   "execution_count": 58,
   "metadata": {},
   "outputs": [
    {
     "name": "stdout",
     "output_type": "stream",
     "text": [
      "['AAAA', 'AAAC', 'AAAG', 'AAAT', 'AACA', 'AACC', 'AACG', 'AACT', 'AAGA', 'AAGC', 'AAGG', 'AAGT', 'AATA', 'AATC', 'AATG', 'AATT', 'ACAA', 'ACAC', 'ACAG', 'ACAT', 'ACCA', 'ACCC', 'ACCG', 'ACCT', 'ACGA', 'ACGC', 'ACGG', 'ACGT', 'ACTA', 'ACTC', 'ACTG', 'ACTT', 'AGAA', 'AGAC', 'AGAG', 'AGAT', 'AGCA', 'AGCC', 'AGCG', 'AGCT', 'AGGA', 'AGGC', 'AGGG', 'AGGT', 'AGTA', 'AGTC', 'AGTG', 'AGTT', 'ATAA', 'ATAC', 'ATAG', 'ATAT', 'ATCA', 'ATCC', 'ATCG', 'ATCT', 'ATGA', 'ATGC', 'ATGG', 'ATGT', 'ATTA', 'ATTC', 'ATTG', 'ATTT', 'CAAA', 'CAAC', 'CAAG', 'CAAT', 'CACA', 'CACC', 'CACG', 'CACT', 'CAGA', 'CAGC', 'CAGG', 'CAGT', 'CATA', 'CATC', 'CATG', 'CATT', 'CCAA', 'CCAC', 'CCAG', 'CCAT', 'CCCA', 'CCCC', 'CCCG', 'CCCT', 'CCGA', 'CCGC', 'CCGG', 'CCGT', 'CCTA', 'CCTC', 'CCTG', 'CCTT', 'CGAA', 'CGAC', 'CGAG', 'CGAT', 'CGCA', 'CGCC', 'CGCG', 'CGCT', 'CGGA', 'CGGC', 'CGGG', 'CGGT', 'CGTA', 'CGTC', 'CGTG', 'CGTT', 'CTAA', 'CTAC', 'CTAG', 'CTAT', 'CTCA', 'CTCC', 'CTCG', 'CTCT', 'CTGA', 'CTGC', 'CTGG', 'CTGT', 'CTTA', 'CTTC', 'CTTG', 'CTTT', 'GAAA', 'GAAC', 'GAAG', 'GAAT', 'GACA', 'GACC', 'GACG', 'GACT', 'GAGA', 'GAGC', 'GAGG', 'GAGT', 'GATA', 'GATC', 'GATG', 'GATT', 'GCAA', 'GCAC', 'GCAG', 'GCAT', 'GCCA', 'GCCC', 'GCCG', 'GCCT', 'GCGA', 'GCGC', 'GCGG', 'GCGT', 'GCTA', 'GCTC', 'GCTG', 'GCTT', 'GGAA', 'GGAC', 'GGAG', 'GGAT', 'GGCA', 'GGCC', 'GGCG', 'GGCT', 'GGGA', 'GGGC', 'GGGG', 'GGGT', 'GGTA', 'GGTC', 'GGTG', 'GGTT', 'GTAA', 'GTAC', 'GTAG', 'GTAT', 'GTCA', 'GTCC', 'GTCG', 'GTCT', 'GTGA', 'GTGC', 'GTGG', 'GTGT', 'GTTA', 'GTTC', 'GTTG', 'GTTT', 'TAAA', 'TAAC', 'TAAG', 'TAAT', 'TACA', 'TACC', 'TACG', 'TACT', 'TAGA', 'TAGC', 'TAGG', 'TAGT', 'TATA', 'TATC', 'TATG', 'TATT', 'TCAA', 'TCAC', 'TCAG', 'TCAT', 'TCCA', 'TCCC', 'TCCG', 'TCCT', 'TCGA', 'TCGC', 'TCGG', 'TCGT', 'TCTA', 'TCTC', 'TCTG', 'TCTT', 'TGAA', 'TGAC', 'TGAG', 'TGAT', 'TGCA', 'TGCC', 'TGCG', 'TGCT', 'TGGA', 'TGGC', 'TGGG', 'TGGT', 'TGTA', 'TGTC', 'TGTG', 'TGTT', 'TTAA', 'TTAC', 'TTAG', 'TTAT', 'TTCA', 'TTCC', 'TTCG', 'TTCT', 'TTGA', 'TTGC', 'TTGG', 'TTGT', 'TTTA', 'TTTC', 'TTTG', 'TTTT']\n"
     ]
    }
   ],
   "source": [
    "print(list)"
   ]
  },
  {
   "cell_type": "code",
   "execution_count": null,
   "metadata": {},
   "outputs": [],
   "source": [
    "# six frame translation\n",
    "# given a "
   ]
  }
 ],
 "metadata": {
  "kernelspec": {
   "display_name": "Python 3",
   "language": "python",
   "name": "python3"
  },
  "language_info": {
   "codemirror_mode": {
    "name": "ipython",
    "version": 3
   },
   "file_extension": ".py",
   "mimetype": "text/x-python",
   "name": "python",
   "nbconvert_exporter": "python",
   "pygments_lexer": "ipython3",
   "version": "3.6.4"
  }
 },
 "nbformat": 4,
 "nbformat_minor": 2
}
