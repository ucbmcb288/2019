{
 "cells": [
  {
   "cell_type": "markdown",
   "metadata": {},
   "source": [
    "# molecular evolution"
   ]
  },
  {
   "cell_type": "code",
   "execution_count": 2,
   "metadata": {},
   "outputs": [],
   "source": [
    "# we will be using a data handling library called pandas\n",
    "# which is basically a python spreadsheet\n",
    "\n",
    "import pandas as pd\n",
    "\n",
    "# this is here to shut off some annoying warnings from pandas\n",
    "pd.options.mode.chained_assignment = None\n",
    "\n",
    "# matplotlib is one of the main plotting libraries we're going to use\n",
    "import matplotlib \n",
    "import matplotlib.pyplot as plt\n",
    "%matplotlib inline\n",
    "\n",
    "\n",
    "# the other plotting library is seaborn - we'll use both during the class\n",
    "\n",
    "import seaborn as sns\n",
    "\n",
    "# numpy and scipy are for handling numerical and scientific data\n",
    "\n",
    "import numpy as np\n",
    "import scipy as sp\n",
    "\n",
    "import statsmodels.formula.api as smf # basic statistical modeling"
   ]
  },
  {
   "cell_type": "code",
   "execution_count": 3,
   "metadata": {},
   "outputs": [
    {
     "data": {
      "text/html": [
       "<div>\n",
       "<style scoped>\n",
       "    .dataframe tbody tr th:only-of-type {\n",
       "        vertical-align: middle;\n",
       "    }\n",
       "\n",
       "    .dataframe tbody tr th {\n",
       "        vertical-align: top;\n",
       "    }\n",
       "\n",
       "    .dataframe thead th {\n",
       "        text-align: right;\n",
       "    }\n",
       "</style>\n",
       "<table border=\"1\" class=\"dataframe\">\n",
       "  <thead>\n",
       "    <tr style=\"text-align: right;\">\n",
       "      <th></th>\n",
       "      <th>#Replicon Name</th>\n",
       "      <th>Replicon Accession</th>\n",
       "      <th>Start</th>\n",
       "      <th>Stop</th>\n",
       "      <th>Strand</th>\n",
       "      <th>GeneID</th>\n",
       "      <th>Locus</th>\n",
       "      <th>Locus tag</th>\n",
       "      <th>Protein product</th>\n",
       "      <th>Length</th>\n",
       "      <th>COG(s)</th>\n",
       "      <th>Protein name</th>\n",
       "    </tr>\n",
       "  </thead>\n",
       "  <tbody>\n",
       "    <tr>\n",
       "      <th>0</th>\n",
       "      <td>chr</td>\n",
       "      <td>NC_000913.3</td>\n",
       "      <td>190</td>\n",
       "      <td>255</td>\n",
       "      <td>+</td>\n",
       "      <td>944742</td>\n",
       "      <td>thrL</td>\n",
       "      <td>b0001</td>\n",
       "      <td>NP_414542.1</td>\n",
       "      <td>21</td>\n",
       "      <td>-</td>\n",
       "      <td>thr operon leader peptide</td>\n",
       "    </tr>\n",
       "    <tr>\n",
       "      <th>1</th>\n",
       "      <td>chr</td>\n",
       "      <td>NC_000913.3</td>\n",
       "      <td>337</td>\n",
       "      <td>2799</td>\n",
       "      <td>+</td>\n",
       "      <td>945803</td>\n",
       "      <td>thrA</td>\n",
       "      <td>b0002</td>\n",
       "      <td>NP_414543.1</td>\n",
       "      <td>820</td>\n",
       "      <td>-</td>\n",
       "      <td>fused aspartate kinase/homoserine dehydrogenase 1</td>\n",
       "    </tr>\n",
       "  </tbody>\n",
       "</table>\n",
       "</div>"
      ],
      "text/plain": [
       "  #Replicon Name Replicon Accession  Start  Stop Strand  GeneID Locus  \\\n",
       "0            chr        NC_000913.3    190   255      +  944742  thrL   \n",
       "1            chr        NC_000913.3    337  2799      +  945803  thrA   \n",
       "\n",
       "  Locus tag Protein product  Length COG(s)  \\\n",
       "0     b0001     NP_414542.1      21      -   \n",
       "1     b0002     NP_414543.1     820      -   \n",
       "\n",
       "                                        Protein name  \n",
       "0                          thr operon leader peptide  \n",
       "1  fused aspartate kinase/homoserine dehydrogenase 1  "
      ]
     },
     "execution_count": 3,
     "metadata": {},
     "output_type": "execute_result"
    }
   ],
   "source": [
    "# annotation file from NCBI\n",
    "annot = pd.read_csv(\"data/week3data/E_coli_K12_ProteinTable167_161521.txt\",sep='\\t')\n",
    "annot.head(2)"
   ]
  },
  {
   "cell_type": "code",
   "execution_count": 5,
   "metadata": {},
   "outputs": [],
   "source": [
    "# import genome file from NCBI\n",
    "genome_by_line = pd.read_csv(\"data/week3data/E_coli_K12-sequence.fasta.txt\")\n",
    "# convert genome_by_line table into a single genome string\n",
    "genome = \"\"\n",
    "for index, row in genome_by_line.iterrows():\n",
    "    genome = genome + row[0] "
   ]
  },
  {
   "cell_type": "code",
   "execution_count": null,
   "metadata": {},
   "outputs": [],
   "source": [
    "# Make a python dictionary of the standard genetic code\n",
    "gencode = {\n",
    "    'ATA':'I', 'ATC':'I', 'ATT':'I', 'ATG':'M',\n",
    "    'ACA':'T', 'ACC':'T', 'ACG':'T', 'ACT':'T',\n",
    "    'AAC':'N', 'AAT':'N', 'AAA':'K', 'AAG':'K',\n",
    "    'AGC':'S', 'AGT':'S', 'AGA':'R', 'AGG':'R',\n",
    "    'CTA':'L', 'CTC':'L', 'CTG':'L', 'CTT':'L',\n",
    "    'CCA':'P', 'CCC':'P', 'CCG':'P', 'CCT':'P',\n",
    "    'CAC':'H', 'CAT':'H', 'CAA':'Q', 'CAG':'Q',\n",
    "    'CGA':'R', 'CGC':'R', 'CGG':'R', 'CGT':'R',\n",
    "    'GTA':'V', 'GTC':'V', 'GTG':'V', 'GTT':'V',\n",
    "    'GCA':'A', 'GCC':'A', 'GCG':'A', 'GCT':'A',\n",
    "    'GAC':'D', 'GAT':'D', 'GAA':'E', 'GAG':'E',\n",
    "    'GGA':'G', 'GGC':'G', 'GGG':'G', 'GGT':'G',\n",
    "    'TCA':'S', 'TCC':'S', 'TCG':'S', 'TCT':'S',\n",
    "    'TTC':'F', 'TTT':'F', 'TTA':'L', 'TTG':'L',\n",
    "    'TAC':'Y', 'TAT':'Y', 'TAA':'_', 'TAG':'_',\n",
    "    'TGC':'C', 'TGT':'C', 'TGA':'_', 'TGG':'W'}"
   ]
  },
  {
   "cell_type": "code",
   "execution_count": 69,
   "metadata": {},
   "outputs": [],
   "source": [
    "# so we can elevate this to a function\n",
    "def translate(CDS):\n",
    "    peptide = ''\n",
    "    for j in range(0,len(CDS),3):\n",
    "        codon = CDS[j:j+3]\n",
    "        peptide = peptide + gencode[codon]\n",
    "    return peptide"
   ]
  },
  {
   "cell_type": "code",
   "execution_count": null,
   "metadata": {},
   "outputs": [],
   "source": [
    "# find translations of all genes, flagging non-multiples of 3\n",
    "CDS = []\n",
    "peptide = []\n",
    "for index, row in annot.iterrows():\n",
    "    if ( row[\"Strand\"] == \"+\" ):\n",
    "        CDS_row = genome[row[\"Start\"]-1 : row[\"Stop\"]]\n",
    "    if ( row[\"Strand\"] == \"-\" ):\n",
    "        CDS_row_rev = genome[row[\"Start\"]-1 : row[\"Stop\"] : 1] \n",
    "        CDS_row =  revcomp( CDS_row_rev )\n",
    "#   check for multiple of three. if not, make a dummy entry\n",
    "    if ( len(CDS_row)%3 != 0):\n",
    "        print(index, row[\"Strand\"], len(CDS_row), row[\"Locus\"])\n",
    "        CDS_row = ''\n",
    "    CDS.append( CDS_row )\n",
    "    peptide.append( translate(CDS_row) )\n",
    "annot[\"CDS\"] = CDS\n",
    "annot[\"peptide\"] = peptide"
   ]
  },
  {
   "cell_type": "code",
   "execution_count": 3,
   "metadata": {},
   "outputs": [
    {
     "name": "stdout",
     "output_type": "stream",
     "text": [
      "CATATGTCAGCACTTTAGGTGTACAGGAGCCGGAACGAAGGTAAACCATGTTAAGACGCCGTTATATGTAGTTCGATATTTTGCAAAATTCGCAAGGACCGGGTTGGGCGGCGCCTGTTTCTTGTTTTCCGTTTAGGGGAGCCAGGCAGGCTCGCGTGAAACCTATGGAGGCCTCCGGGCAACCAAGCCAAAGCTCCGTCGTAGTTTGGCGCGCCGGACCCATGAAGCCTCCTGTACGACAGAGGAACGCGAAATTCGCAATCTTGTGTTAGTGAGGAAGCGGACTGGAGAAACTACTCATGTAGGGTCTCTGACGCGTCTGCTTCACCTTGGTTGTCCGACTAAACGCTAATATCTCTTAACGAGGCATCTTCCCCCTACTGACGGGCCAGTATAGCAACATTACCTCCCAACACTATTGATTAGTGAAGCGACCAGCCCATATTGTGTGCTATATACGCCGCGACGCTCTACCTTAGTCGTGCCGTCGAAGACGGGATGCGGCATCATCTTTTTGCTTATTCAGGCTGGCAACGCACCACGAACAACTCTCGGCTGCTGCTAGCTATACAGCATCTCAGCGGGGTGCGAGCCCCCTACTTTTTGAAGACACACGAAACACATAATAACAGACAAATATCGATCAAATTAGCATTAGAACCGTAACCTAACTGTATGCTCAGAATGCCGGCCTTACGAGACTTACGGAGCACATCCGCCACGCAACGGGAGCACGTCATCTTTCCGGTACCGTGAACGCGGCGATTCCTGTGACAGCGGACCAAAGTTTAATTCTTCTTTGAAGGACCTCGACATAGTCTTCTCCGGGCGTATAAAGAGGTTAAGATTCCTCGAGTGTAAATTAGCGCTCGAGATGACACGCCATAACGTATGCACACTTCAAAGAGTTAACCTAGAGCGCGGTTGATGCTCAAACGGCTAAAAGGGGCCATCCAGAGTTGGAGGGGTTTCCTCTACAACTCAAGATGGGAACAAAAAT\n"
     ]
    }
   ],
   "source": [
    "# make a random sequence (from last time)\n",
    "import random\n",
    "def randString(length=5):\n",
    "    #put your letters in the following string\n",
    "    your_letters='ACTG'\n",
    "    return ''.join((random.choice(your_letters) for i in range(length)))\n",
    "# or use a specific sequence\n",
    "sequence = randString(1000)\n",
    "print(sequence)"
   ]
  },
  {
   "cell_type": "code",
   "execution_count": 37,
   "metadata": {},
   "outputs": [],
   "source": [
    "# Jukes-Cantor model -- pick a site at random, change it to a random nucleotide\n",
    "import random\n",
    "def mutate(sequence):\n",
    "    length = len(sequence)\n",
    "    site = np.random.randint(length)\n",
    "    nuc = sequence[site]\n",
    "    my_letters='ACTG'\n",
    "    nuc2 = random.choice(my_letters)\n",
    "#   print('site = ',site,\"     \",'mutation: ',nuc,'=>',nuc2)\n",
    "    return sequence[0:site] + nuc2 + sequence[site+1:length]\n",
    "    "
   ]
  },
  {
   "cell_type": "code",
   "execution_count": 5,
   "metadata": {},
   "outputs": [
    {
     "name": "stdout",
     "output_type": "stream",
     "text": [
      "site =  448       mutation:  G => A\n"
     ]
    }
   ],
   "source": [
    "sequence = mutate(sequence)"
   ]
  },
  {
   "cell_type": "code",
   "execution_count": null,
   "metadata": {},
   "outputs": [],
   "source": [
    "print(sequence)"
   ]
  },
  {
   "cell_type": "code",
   "execution_count": 19,
   "metadata": {},
   "outputs": [],
   "source": [
    "# differences between two strings\n",
    "def count_differences(sequence1, sequence2):\n",
    "    count_differences = 0\n",
    "    length1 = len(sequence1)\n",
    "    length2 = len(sequence2)\n",
    "    if (length1 != length2):\n",
    "        print('lengths are different',length1, length2)\n",
    "        return\n",
    "    for site in range(length1):\n",
    "        nuc1 = sequence1[site]\n",
    "        nuc2 = sequence2[site]\n",
    "        if (nuc1 != nuc2):\n",
    "            count_differences +=1\n",
    "    return count_differences"
   ]
  },
  {
   "cell_type": "code",
   "execution_count": 17,
   "metadata": {},
   "outputs": [
    {
     "name": "stdout",
     "output_type": "stream",
     "text": [
      "0 C C\n",
      "1 A T\n",
      "2 C G\n",
      "3 T A\n",
      "4 T T\n",
      "5 G C\n",
      "6 A C\n",
      "7 A A\n",
      "8 C C\n",
      "9 A A\n"
     ]
    },
    {
     "data": {
      "text/plain": [
       "5"
      ]
     },
     "execution_count": 17,
     "metadata": {},
     "output_type": "execute_result"
    }
   ],
   "source": [
    "count_differences('CACTTGAACA','CTGATCCACA')"
   ]
  },
  {
   "cell_type": "code",
   "execution_count": 40,
   "metadata": {},
   "outputs": [],
   "source": [
    "x = []\n",
    "y = []\n",
    "TimeSteps = 2000\n",
    "Length_DNA = 50\n",
    "sequence0 = randString(Length_DNA)\n",
    "sequence = sequence0\n",
    "for i in range(TimeSteps):\n",
    "    sequence_new = mutate(sequence)\n",
    "    x.append(i)\n",
    "    y.append( count_differences(sequence_new, sequence0)/Length_DNA )\n",
    "    sequence = sequence_new"
   ]
  },
  {
   "cell_type": "code",
   "execution_count": 32,
   "metadata": {},
   "outputs": [
    {
     "name": "stdout",
     "output_type": "stream",
     "text": [
      "[1, 2, 2, 3, 3, 4, 4, 5, 5, 5, 6, 7, 8, 9, 10, 11, 11, 12, 12, 11, 12, 12, 12, 13, 14, 15, 16, 17, 17, 18, 19, 20, 21, 22, 22, 22, 23, 24, 24, 25, 26, 27, 28, 28, 29, 30, 30, 31, 32, 31, 32, 31, 32, 33, 33, 33, 34, 35, 35, 36, 36, 36, 37, 37, 38, 38, 38, 39, 40, 40, 40, 40, 41, 42, 42, 42, 43, 44, 45, 45, 45, 44, 44, 45, 45, 45, 45, 45, 46, 47, 48, 49, 49, 50, 50, 51, 51, 51, 52, 52]\n"
     ]
    }
   ],
   "source": [
    "print(y)"
   ]
  },
  {
   "cell_type": "code",
   "execution_count": 44,
   "metadata": {},
   "outputs": [
    {
     "data": {
      "image/png": "[encoded data removed]",
      "text/plain": [
       "<Figure size 432x288 with 1 Axes>"
      ]
     },
     "metadata": {},
     "output_type": "display_data"
    }
   ],
   "source": [
    "plt.scatter(x,y)\n",
    "plt.show()"
   ]
  },
  {
   "cell_type": "code",
   "execution_count": 46,
   "metadata": {},
   "outputs": [],
   "source": [
    "# question: what do we expect?"
   ]
  },
  {
   "cell_type": "code",
   "execution_count": 45,
   "metadata": {},
   "outputs": [
    {
     "data": {
      "image/png": "[encoded data removed]",
      "text/plain": [
       "<Figure size 432x288 with 1 Axes>"
      ]
     },
     "metadata": {},
     "output_type": "display_data"
    }
   ],
   "source": [
    "plt.scatter(x,y)\n",
    "plt.hlines(xmin = 0, xmax = TimeSteps, y = 0.75)\n",
    "plt.show()"
   ]
  },
  {
   "cell_type": "code",
   "execution_count": null,
   "metadata": {},
   "outputs": [],
   "source": [
    "# homoserine kinase gene evolution (thrB)"
   ]
  },
  {
   "cell_type": "code",
   "execution_count": 52,
   "metadata": {},
   "outputs": [],
   "source": [
    "thrB_ecoli = 'ATGGTTAAAGTTTATGCCCCGGCTTCCAGTGCCAATATGAGCGTCGGGTTTGATGTGCTCGGGGCG\\\n",
    "GCGGTGACACCTGTTGATGGTGCATTGCTCGGAGATGTAGTCACGGTTGAGGCGGCAGAGACATTCAGTCTCAACAACCT\\\n",
    "CGGACGCTTTGCCGATAAGCTGCCGTCAGAACCACGGGAAAATATCGTTTATCAGTGCTGGGAG\\\n",
    "CGTTTTTGCCAGGAACTGGGTAAGCAAATTCCAGTGGCGATGACCCTGGAAAAGAATATGCCGATCGGTT\\\n",
    "CGGGCTTAGGCTCCAGTGCCTGTTCGGTGGTCGCGGCGCTGATGGCGATGAATGAACACTGCGGCAAGCC\\\n",
    "GCTTAATGACACTCGTTTGCTGGCTTTGATGGGCGAGCTGGAAGGCCGTATCTCCGGCAGCATTCATTAC\\\n",
    "GACAACGTGGCACCGTGTTTTCTCGGTGGTATGCAGTTGATGATCGAAGAAAACGACATCATCAGCCAGC\\\n",
    "AAGTGCCAGGGTTTGATGAGTGGCTGTGGGTGCTGGCGTATCCGGGGATTAAAGTCTCGACGGCAGAAGC\\\n",
    "CAGGGCTATTTTACCGGCGCAGTATCGCCGCCAGGATTGCATTGCGCACGGGCGACATCTGGCAGGCTTC\\\n",
    "ATTCACGCCTGCTATTCCCGTCAGCCTGAGCTTGCCGCGAAGCTGATGAAAGATGTTATCGCTGAACCCT\\\n",
    "ACCGTGAACGGTTACTGCCAGGCTTCCGGCAGGCGCGGCAGGCGGTCGCGGAAATCGGCGCGGTAGCGAG\\\n",
    "CGGTATCTCCGGCTCCGGCCCGACCTTGTTCGCTCTGTGTGACAAGCCGGAAACCGCCCAGCGCGTTGCC\\\n",
    "GACTGGTTGGGTAAGAACTACCTGCAAAATCAGGAAGGTTTTGTTCATATTTGCCGGCTGGATACGGCGG\\\n",
    "GCGCACGAGTACTGGAAAACTAA'"
   ]
  },
  {
   "cell_type": "code",
   "execution_count": null,
   "metadata": {},
   "outputs": [],
   "source": [
    "# option-to-see-plus-select lines with mouse\n",
    "# use command"
   ]
  },
  {
   "cell_type": "code",
   "execution_count": 53,
   "metadata": {},
   "outputs": [],
   "source": [
    "thrB_dickeya = 'ATGGTGAAAATTTATGCCCCGGCATCCATTGGGAATGTGAGCGTCGGTTTTGATGTGCTGGGGGCGGCGG\\\n",
    "TCTCGCCGGTCGATGGGACACTGCTTGGCGACTGCGTTTCGGTGGAAGCGGCGGAGCTGTTTAGTCTGCA\\\n",
    "TAACGAAGGCCGTTTTGTCAGCAAGCTGCCGGACGATCCCAAACAGAATATCGTTTACCAATGCTGGGAG\\\n",
    "CGTTTCTGTCAGGAAATCGGTAAAACGATACCGGTGTCCATCAAGCTGGAAAAGAATATGCCTATCGGCT\\\n",
    "CTGGCCTGGGTTCCAGCGCCTGTTCGGTGGTGGCGGGGTTGATGGCGATGAATGAATACTGCGGCAAACC\\\n",
    "GCTGGATGACACTCGTCTGCTGACTTTGATGGGCGAGCTGGAAGGCCGTATTTCCGGCAGCGTGCATTAT\\\n",
    "GACAATGTCGCCCCCTGCTTTCTGGGCGGGATCCAGTTGATGGTGGAGGAACTGGGGATTATCAGCCAGT\\\n",
    "CCGTGCCAGGTTTTGACAACTGGTTGTGGGTGATGGCGTACCCAGGCATCAAGGTTTCGACGGCCGAAGC\\\n",
    "GCGGGCGATTTTGCCGGCGCAGTATCGTCGCCAGGATTGCATCAGCCACGGCCGTTATCTGGCCGGTTTC\\\n",
    "ATCCACGCTTGTCACACCGGGCAAGCGGAATTGGCCGCCAGGCTGATGAAGGATGTGATCGCTGAACCCT\\\n",
    "ACCGTACTCGTTTGTTGCCAGGTTTTGCCGAGTCGCGCCGCGCCGCCGAGGAACTGGGCGCACTGGCGTG\\\n",
    "CGGCATTTCCGGTTCCGGGCCGACGCTATTTTCCGTGTGCGACAACATGGGGGCGGCGGAGCGCGTCGCC\\\n",
    "GACTGGCTGCGGGCGCACTACCTGCAGAATAATGAAGGTTTTGTTCATATTTGCCGTCTGGATACGACAG\\\n",
    "GCGCGCGA'"
   ]
  },
  {
   "cell_type": "code",
   "execution_count": 54,
   "metadata": {},
   "outputs": [
    {
     "name": "stdout",
     "output_type": "stream",
     "text": [
      "lengths are different 933 918\n"
     ]
    }
   ],
   "source": [
    "count_differences(thrB_ecoli, thrB_dickeya)"
   ]
  },
  {
   "cell_type": "code",
   "execution_count": null,
   "metadata": {},
   "outputs": [],
   "source": [
    "#this is due to indels - use \"muscle\"\n",
    ">NC_000913.3:2801-3733 Escherichia coli str. K-12 substr. MG1655, complete genome\n",
    "ATGGTTAAAGTTTATGCCCCGGCTTCCAGTGCCAATATGAGCGTCGGGTTTGATGTGCTC\n",
    "GGGGCGGCGGTGACACCTGTTGATGGTGCATTGCTCGGAGATGTAGTCACGGTTGAGGCG\n",
    "GCAGAGACATTCAGTCTCAACAACCTCGGACGCTTTGCCGATAAGCTGCCGTCAGAACCA\n",
    "CGGGAAAATATCGTTTATCAGTGCTGGGAGCGTTTTTGCCAGGAACTGGGTAAGCAAATT\n",
    "CCAGTGGCGATGACCCTGGAAAAGAATATGCCGATCGGTTCGGGCTTAGGCTCCAGTGCC\n",
    "TGTTCGGTGGTCGCGGCGCTGATGGCGATGAATGAACACTGCGGCAAGCCGCTTAATGAC\n",
    "ACTCGTTTGCTGGCTTTGATGGGCGAGCTGGAAGGCCGTATCTCCGGCAGCATTCATTAC\n",
    "GACAACGTGGCACCGTGTTTTCTCGGTGGTATGCAGTTGATGATCGAAGAAAACGACATC\n",
    "ATCAGCCAGCAAGTGCCAGGGTTTGATGAGTGGCTGTGGGTGCTGGCGTATCCGGGGATT\n",
    "AAAGTCTCGACGGCAGAAGCCAGGGCTATTTTACCGGCGCAGTATCGCCGCCAGGATTGC\n",
    "ATTGCGCACGGGCGACATCTGGCAGGCTTCATTCACGCCTGCTATTCCCGTCAGCCTGAG\n",
    "CTTGCCGCGAAGCTGATGAAAGATGTTATCGCTGAACCCTACCGTGAACGGTTACTGCCA\n",
    "GGCTTCCGGCAGGCGCGGCAGGCGGTCGCGGAAATCGGCGCGGTAGCGAGCGGTATCTCC\n",
    "GGCTCCGGCCCGACCTTGTTCGCTCTGTGTGACAAGCCGGAAACCGCCCAGCGCGTTGCC\n",
    "GACTGGTTGGGTAAGAACTACCTGCAAAATCAGGAAGGTTTTGTTCATATTTGCCGGCTG\n",
    "GATACGGCGGGCGCACGAGTACTGGAAAACTAA\n",
    ">CP001654.1:644059-644976 Dickeya paradisiaca Ech703 chromosome, complete genome\n",
    "ATGGTGAAAATTTATGCCCCGGCATCCATTGGGAATGTGAGCGTCGGTTTTGATGTGCTG\n",
    "GGGGCGGCGGTCTCGCCGGTCGATGGGACACTGCTTGGCGACTGCGTTTCGGTGGAAGCG\n",
    "GCGGAGCTGTTTAGTCTGCATAACGAAGGCCGTTTTGTCAGCAAGCTGCCGGACGATCCC\n",
    "AAACAGAATATCGTTTACCAATGCTGGGAGCGTTTCTGTCAGGAAATCGGTAAAACGATA\n",
    "CCGGTGTCCATCAAGCTGGAAAAGAATATGCCTATCGGCTCTGGCCTGGGTTCCAGCGCC\n",
    "TGTTCGGTGGTGGCGGGGTTGATGGCGATGAATGAATACTGCGGCAAACCGCTGGATGAC\n",
    "ACTCGTCTGCTGACTTTGATGGGCGAGCTGGAAGGCCGTATTTCCGGCAGCGTGCATTAT\n",
    "GACAATGTCGCCCCCTGCTTTCTGGGCGGGATCCAGTTGATGGTGGAGGAACTGGGGATT\n",
    "ATCAGCCAGTCCGTGCCAGGTTTTGACAACTGGTTGTGGGTGATGGCGTACCCAGGCATC\n",
    "AAGGTTTCGACGGCCGAAGCGCGGGCGATTTTGCCGGCGCAGTATCGTCGCCAGGATTGC\n",
    "ATCAGCCACGGCCGTTATCTGGCCGGTTTCATCCACGCTTGTCACACCGGGCAAGCGGAA\n",
    "TTGGCCGCCAGGCTGATGAAGGATGTGATCGCTGAACCCTACCGTACTCGTTTGTTGCCA\n",
    "GGTTTTGCCGAGTCGCGCCGCGCCGCCGAGGAACTGGGCGCACTGGCGTGCGGCATTTCC\n",
    "GGTTCCGGGCCGACGCTATTTTCCGTGTGCGACAACATGGGGGCGGCGGAGCGCGTCGCC\n",
    "GACTGGCTGCGGGCGCACTACCTGCAGAATAATGAAGGTTTTGTTCATATTTGCCGTCTG\n",
    "GATACGACAGGCGCGCGA---------------"
   ]
  }
 ],
 "metadata": {
  "kernelspec": {
   "display_name": "Python 3",
   "language": "python",
   "name": "python3"
  },
  "language_info": {
   "codemirror_mode": {
    "name": "ipython",
    "version": 3
   },
   "file_extension": ".py",
   "mimetype": "text/x-python",
   "name": "python",
   "nbconvert_exporter": "python",
   "pygments_lexer": "ipython3",
   "version": "3.6.4"
  }
 },
 "nbformat": 4,
 "nbformat_minor": 2
}
