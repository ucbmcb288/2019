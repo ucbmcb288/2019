{
 "cells": [
  {
   "cell_type": "markdown",
   "metadata": {},
   "source": [
    "## MCB 288 - Spring 2019 - Exercise 1"
   ]
  },
  {
   "cell_type": "markdown",
   "metadata": {},
   "source": [
    "For week 2 we will be reanalyzing data from this paper:\n",
    "\n",
    "https://rnajournal.cshlp.org/content/22/6/839.long\n",
    "\n",
    "In which the authors did 96 RNA-seq experiments, 48 replicates each of wildtype yeast cells (S. cerevisiae) and an otherwise isogenic line carrying a mutation in the transcription factor SNF2. The main goal of the paper, which we will focus on here, was to ask the question of how many replicates are needed to accurately identify genes that are differentially expressed between the two conditions."
   ]
  },
  {
   "cell_type": "markdown",
   "metadata": {},
   "source": [
    "I have preprocessed the data a little bit to put it into a tabular form available in the file:\n",
    "\n",
    "##### data/Barton/Barton_combined_Ygenes.txt\n",
    "\n",
    "The file is a tab-delimited table whose rows are genes and columns are replicates. "
   ]
  },
  {
   "cell_type": "markdown",
   "metadata": {},
   "source": [
    "In the paper they identify several replicates that look unusual and which they do not include in subsequent analyses. We will discuss whether this was appropriate, but it is certainly true that several of the samples are unusual in that they look quite different from other supposedly identical samples."
   ]
  },
  {
   "cell_type": "markdown",
   "metadata": {},
   "source": [
    "#### Your assignment is to identify these outliers and describe what makes them unusual. You should be able to do this using only operations discussed in the last class. But I will start you off with some code to help."
   ]
  },
  {
   "cell_type": "code",
   "execution_count": null,
   "metadata": {},
   "outputs": [],
   "source": []
  },
  {
   "cell_type": "code",
   "execution_count": 6,
   "metadata": {},
   "outputs": [],
   "source": [
    "# import libraries \n",
    "\n",
    "import pandas as pd\n",
    "\n",
    "# this is here to shut off some annoying warnings from pandas\n",
    "pd.options.mode.chained_assignment = None\n",
    "\n",
    "# matplotlib is one of the main plotting libraries we're going to use\n",
    "import matplotlib \n",
    "import matplotlib.pyplot as plt\n",
    "%matplotlib inline\n",
    "\n",
    "# the other plotting library is seaborn - we'll use both during the class\n",
    "\n",
    "import seaborn as sns\n",
    "\n",
    "# numpy and scipy are for handling numerical and scientific data\n",
    "\n",
    "import numpy as np\n",
    "import scipy as sp\n",
    "\n",
    "import statsmodels.formula.api as smf # basic statistical modeling\n",
    "\n",
    "from scipy.stats.stats import pearsonr "
   ]
  },
  {
   "cell_type": "code",
   "execution_count": 8,
   "metadata": {},
   "outputs": [
    {
     "data": {
      "text/html": [
       "<div>\n",
       "<style scoped>\n",
       "    .dataframe tbody tr th:only-of-type {\n",
       "        vertical-align: middle;\n",
       "    }\n",
       "\n",
       "    .dataframe tbody tr th {\n",
       "        vertical-align: top;\n",
       "    }\n",
       "\n",
       "    .dataframe thead th {\n",
       "        text-align: right;\n",
       "    }\n",
       "</style>\n",
       "<table border=\"1\" class=\"dataframe\">\n",
       "  <thead>\n",
       "    <tr style=\"text-align: right;\">\n",
       "      <th></th>\n",
       "      <th>Snf2_rep01</th>\n",
       "      <th>Snf2_rep02</th>\n",
       "      <th>Snf2_rep03</th>\n",
       "      <th>Snf2_rep04</th>\n",
       "      <th>Snf2_rep05</th>\n",
       "      <th>Snf2_rep06</th>\n",
       "      <th>Snf2_rep07</th>\n",
       "      <th>Snf2_rep08</th>\n",
       "      <th>Snf2_rep09</th>\n",
       "      <th>Snf2_rep10</th>\n",
       "      <th>...</th>\n",
       "      <th>WT_rep39</th>\n",
       "      <th>WT_rep40</th>\n",
       "      <th>WT_rep41</th>\n",
       "      <th>WT_rep42</th>\n",
       "      <th>WT_rep43</th>\n",
       "      <th>WT_rep44</th>\n",
       "      <th>WT_rep45</th>\n",
       "      <th>WT_rep46</th>\n",
       "      <th>WT_rep47</th>\n",
       "      <th>WT_rep48</th>\n",
       "    </tr>\n",
       "    <tr>\n",
       "      <th>Gene</th>\n",
       "      <th></th>\n",
       "      <th></th>\n",
       "      <th></th>\n",
       "      <th></th>\n",
       "      <th></th>\n",
       "      <th></th>\n",
       "      <th></th>\n",
       "      <th></th>\n",
       "      <th></th>\n",
       "      <th></th>\n",
       "      <th></th>\n",
       "      <th></th>\n",
       "      <th></th>\n",
       "      <th></th>\n",
       "      <th></th>\n",
       "      <th></th>\n",
       "      <th></th>\n",
       "      <th></th>\n",
       "      <th></th>\n",
       "      <th></th>\n",
       "      <th></th>\n",
       "    </tr>\n",
       "  </thead>\n",
       "  <tbody>\n",
       "    <tr>\n",
       "      <th>YAL001C</th>\n",
       "      <td>840</td>\n",
       "      <td>653</td>\n",
       "      <td>823</td>\n",
       "      <td>1036</td>\n",
       "      <td>510</td>\n",
       "      <td>820</td>\n",
       "      <td>1240</td>\n",
       "      <td>549</td>\n",
       "      <td>828</td>\n",
       "      <td>738</td>\n",
       "      <td>...</td>\n",
       "      <td>353</td>\n",
       "      <td>696</td>\n",
       "      <td>492</td>\n",
       "      <td>445</td>\n",
       "      <td>419</td>\n",
       "      <td>289</td>\n",
       "      <td>541</td>\n",
       "      <td>292</td>\n",
       "      <td>647</td>\n",
       "      <td>409</td>\n",
       "    </tr>\n",
       "    <tr>\n",
       "      <th>YAL002W</th>\n",
       "      <td>712</td>\n",
       "      <td>530</td>\n",
       "      <td>607</td>\n",
       "      <td>771</td>\n",
       "      <td>395</td>\n",
       "      <td>605</td>\n",
       "      <td>904</td>\n",
       "      <td>351</td>\n",
       "      <td>589</td>\n",
       "      <td>533</td>\n",
       "      <td>...</td>\n",
       "      <td>356</td>\n",
       "      <td>756</td>\n",
       "      <td>552</td>\n",
       "      <td>440</td>\n",
       "      <td>389</td>\n",
       "      <td>291</td>\n",
       "      <td>552</td>\n",
       "      <td>346</td>\n",
       "      <td>622</td>\n",
       "      <td>453</td>\n",
       "    </tr>\n",
       "    <tr>\n",
       "      <th>YAL003W</th>\n",
       "      <td>7296</td>\n",
       "      <td>6129</td>\n",
       "      <td>6464</td>\n",
       "      <td>7278</td>\n",
       "      <td>5613</td>\n",
       "      <td>3046</td>\n",
       "      <td>7687</td>\n",
       "      <td>6714</td>\n",
       "      <td>8382</td>\n",
       "      <td>7678</td>\n",
       "      <td>...</td>\n",
       "      <td>9291</td>\n",
       "      <td>12055</td>\n",
       "      <td>13542</td>\n",
       "      <td>8441</td>\n",
       "      <td>7337</td>\n",
       "      <td>8639</td>\n",
       "      <td>14315</td>\n",
       "      <td>6618</td>\n",
       "      <td>14745</td>\n",
       "      <td>9878</td>\n",
       "    </tr>\n",
       "    <tr>\n",
       "      <th>YAL004W</th>\n",
       "      <td>0</td>\n",
       "      <td>0</td>\n",
       "      <td>0</td>\n",
       "      <td>0</td>\n",
       "      <td>0</td>\n",
       "      <td>0</td>\n",
       "      <td>0</td>\n",
       "      <td>0</td>\n",
       "      <td>0</td>\n",
       "      <td>0</td>\n",
       "      <td>...</td>\n",
       "      <td>0</td>\n",
       "      <td>0</td>\n",
       "      <td>0</td>\n",
       "      <td>0</td>\n",
       "      <td>0</td>\n",
       "      <td>0</td>\n",
       "      <td>0</td>\n",
       "      <td>0</td>\n",
       "      <td>0</td>\n",
       "      <td>0</td>\n",
       "    </tr>\n",
       "    <tr>\n",
       "      <th>YAL005C</th>\n",
       "      <td>9851</td>\n",
       "      <td>10226</td>\n",
       "      <td>12006</td>\n",
       "      <td>10714</td>\n",
       "      <td>8575</td>\n",
       "      <td>2791</td>\n",
       "      <td>11764</td>\n",
       "      <td>8237</td>\n",
       "      <td>12213</td>\n",
       "      <td>12446</td>\n",
       "      <td>...</td>\n",
       "      <td>10177</td>\n",
       "      <td>21176</td>\n",
       "      <td>13270</td>\n",
       "      <td>12337</td>\n",
       "      <td>14303</td>\n",
       "      <td>14268</td>\n",
       "      <td>14993</td>\n",
       "      <td>9607</td>\n",
       "      <td>16075</td>\n",
       "      <td>14797</td>\n",
       "    </tr>\n",
       "  </tbody>\n",
       "</table>\n",
       "<p>5 rows × 96 columns</p>\n",
       "</div>"
      ],
      "text/plain": [
       "         Snf2_rep01  Snf2_rep02  Snf2_rep03  Snf2_rep04  Snf2_rep05  \\\n",
       "Gene                                                                  \n",
       "YAL001C         840         653         823        1036         510   \n",
       "YAL002W         712         530         607         771         395   \n",
       "YAL003W        7296        6129        6464        7278        5613   \n",
       "YAL004W           0           0           0           0           0   \n",
       "YAL005C        9851       10226       12006       10714        8575   \n",
       "\n",
       "         Snf2_rep06  Snf2_rep07  Snf2_rep08  Snf2_rep09  Snf2_rep10    ...     \\\n",
       "Gene                                                                   ...      \n",
       "YAL001C         820        1240         549         828         738    ...      \n",
       "YAL002W         605         904         351         589         533    ...      \n",
       "YAL003W        3046        7687        6714        8382        7678    ...      \n",
       "YAL004W           0           0           0           0           0    ...      \n",
       "YAL005C        2791       11764        8237       12213       12446    ...      \n",
       "\n",
       "         WT_rep39  WT_rep40  WT_rep41  WT_rep42  WT_rep43  WT_rep44  WT_rep45  \\\n",
       "Gene                                                                            \n",
       "YAL001C       353       696       492       445       419       289       541   \n",
       "YAL002W       356       756       552       440       389       291       552   \n",
       "YAL003W      9291     12055     13542      8441      7337      8639     14315   \n",
       "YAL004W         0         0         0         0         0         0         0   \n",
       "YAL005C     10177     21176     13270     12337     14303     14268     14993   \n",
       "\n",
       "         WT_rep46  WT_rep47  WT_rep48  \n",
       "Gene                                   \n",
       "YAL001C       292       647       409  \n",
       "YAL002W       346       622       453  \n",
       "YAL003W      6618     14745      9878  \n",
       "YAL004W         0         0         0  \n",
       "YAL005C      9607     16075     14797  \n",
       "\n",
       "[5 rows x 96 columns]"
      ]
     },
     "execution_count": 8,
     "metadata": {},
     "output_type": "execute_result"
    }
   ],
   "source": [
    "# load dataframe with expression data\n",
    "\n",
    "datafile = \"data/barton/Barton_combined_Ygenes.txt\"\n",
    "df = pd.read_csv(datafile, sep='\\t')   # the sep='\\t' tells pandas that it is a tab separated file\n",
    "\n",
    "#\n",
    "# Index dataframe on 'Gene'\n",
    "#\n",
    "\n",
    "df = df.set_index('Gene')\n",
    "\n",
    "df.head()\n",
    "\n"
   ]
  },
  {
   "cell_type": "markdown",
   "metadata": {},
   "source": [
    "Not that the first column is \"Gene\" and uses the standard identifier for yeast genes which has several components:\n",
    "\n",
    "Take the first one as an example: YAL001C\n",
    "\n",
    "* Y - is for yeast\n",
    "* A - tells you what chromosome it is on (A is chromosome 1, B is chromosome 2, etc...). Yeast has 16 chromosomes plus mitcochondria.\n",
    "* L - is for the left arm of the chromosome (the other arm is R for right)\n",
    "* 001 - is a numerical identifier counting genes along the chromosome arm\n",
    "* C - says that it is on the \"Crick\" strand - the other option is W for \"Watson\" (we should all get together and lobby to have this changed to F for Franklin)\n",
    "\n",
    "You can get all sorts of info on yeast genes at the Yeast Genome Database www.yeastgenome.org.\n",
    "\n"
   ]
  },
  {
   "cell_type": "code",
   "execution_count": 32,
   "metadata": {},
   "outputs": [],
   "source": [
    "# you will likely want to use lists of experiments \n",
    "\n",
    "# this comment gets all of the column names and puts them into a list\n",
    "\n",
    "exps = {}\n",
    "\n",
    "exps['all'] = df.columns.get_values()\n",
    "\n",
    "# you can then create lists with just WT and Snf2 mutants\n",
    "\n",
    "# the syntax here in English is \n",
    "# [] create a new list\n",
    "# [e for e in exps] fills the list with all values from the list exps\n",
    "# if e.startswith('WT') filters the list to only include elements that start with 'WT'\n",
    "\n",
    "\n",
    "\n",
    "exps['wt'] = [e for e in exps['all'] if e.startswith('WT')] \n",
    "\n",
    "exps['mut'] = [e for e in exps['all'] if e.startswith('Snf2')] "
   ]
  },
  {
   "cell_type": "code",
   "execution_count": 33,
   "metadata": {},
   "outputs": [],
   "source": [
    "#\n",
    "# create a matrix to store correlation\n",
    "#\n",
    "\n",
    "datalen = len(exps['all'])\n",
    "corrdata = np.zeros( (datalen,datalen))\n",
    "\n",
    "for i1,e1 in enumerate(exps['all']):\n",
    "    for i2,e2 in enumerate(exps['all']):\n",
    "        corrdata[i1][i2] = pearsonr(df[e1],df[e2])[0] \n",
    "      "
   ]
  },
  {
   "cell_type": "code",
   "execution_count": 34,
   "metadata": {
    "scrolled": true
   },
   "outputs": [
    {
     "data": {
      "text/plain": [
       "<matplotlib.colorbar.Colorbar at 0x1a2656a550>"
      ]
     },
     "execution_count": 34,
     "metadata": {},
     "output_type": "execute_result"
    },
    {
     "data": {
      "image/png": "[encoded data removed]",
      "text/plain": [
       "<Figure size 432x288 with 2 Axes>"
      ]
     },
     "metadata": {
      "needs_background": "light"
     },
     "output_type": "display_data"
    }
   ],
   "source": [
    "# plot data as a heatmap \n",
    "# this option maps every cell in the table into a colored pixel\n",
    "# the cmap options controls how the mapping is done\n",
    "\n",
    "plt.imshow(corrdata, cmap='jet')\n",
    "plt.colorbar()"
   ]
  },
  {
   "cell_type": "code",
   "execution_count": 35,
   "metadata": {},
   "outputs": [
    {
     "data": {
      "text/plain": [
       "<matplotlib.colorbar.Colorbar at 0x1a26700828>"
      ]
     },
     "execution_count": 35,
     "metadata": {},
     "output_type": "execute_result"
    },
    {
     "data": {
      "image/png": "[encoded data removed]",
      "text/plain": [
       "<Figure size 432x288 with 2 Axes>"
      ]
     },
     "metadata": {
      "needs_background": "light"
     },
     "output_type": "display_data"
    }
   ],
   "source": [
    "# plot data as a heatmap \n",
    "# this option maps every cell in the table into a colored pixel\n",
    "# the cmap, vmin and vmax options controls how the mapping is done\n",
    "\n",
    "plt.imshow(corrdata, cmap='jet',vmin=0, vmax=1.0)\n",
    "plt.colorbar()"
   ]
  },
  {
   "cell_type": "markdown",
   "metadata": {},
   "source": [
    "Note several things about the data:\n",
    "\n",
    "1) Most of the correlations are very high -- over .90.\n",
    "2) There is generally a higher correlation within wts (the upper left quadrant) and muts (the lower right quadrant) than between them (lower left and upper right).\n",
    "3) There are around 6 experiments that show poor coorelation with the rest of the data and we might want to consider them for exclusion.\n",
    "\n",
    "We don't want to rely on staring at an image to identify the outliers though, so instead lets calculate for each sample its average correlation with other samples of the same type. "
   ]
  },
  {
   "cell_type": "code",
   "execution_count": 55,
   "metadata": {},
   "outputs": [
    {
     "data": {
      "text/plain": [
       "Text(0.5, 0, 'average within experiment type correlation')"
      ]
     },
     "execution_count": 55,
     "metadata": {},
     "output_type": "execute_result"
    },
    {
     "data": {
      "image/png": "[encoded data removed]",
      "text/plain": [
       "<Figure size 432x288 with 1 Axes>"
      ]
     },
     "metadata": {
      "needs_background": "light"
     },
     "output_type": "display_data"
    }
   ],
   "source": [
    "stype = 'wt'\n",
    "\n",
    "avecorrs = []\n",
    "for i1,e1 in enumerate(exps[stype]):\n",
    "    corrs = []\n",
    "    for i2,e2 in enumerate(exps[stype]):\n",
    "        if i1 != i2:\n",
    "            corrs.append(pearsonr(df[e1],df[e2])[0])\n",
    "    avecorrs.append(np.mean(corrs))\n",
    "\n",
    "plt.hist(avecorrs,bins=25)\n",
    "plt.xlabel(\"average within experiment type correlation\")"
   ]
  },
  {
   "cell_type": "code",
   "execution_count": 54,
   "metadata": {},
   "outputs": [
    {
     "data": {
      "text/plain": [
       "Text(0.5, 0, 'average within experiment type correlation')"
      ]
     },
     "execution_count": 54,
     "metadata": {},
     "output_type": "execute_result"
    },
    {
     "data": {
      "image/png": "[encoded data removed]",
      "text/plain": [
       "<Figure size 432x288 with 1 Axes>"
      ]
     },
     "metadata": {
      "needs_background": "light"
     },
     "output_type": "display_data"
    }
   ],
   "source": [
    "stype = 'mut'\n",
    "\n",
    "avecorrs = []\n",
    "for i1,e1 in enumerate(exps[stype]):\n",
    "    corrs = []\n",
    "    for i2,e2 in enumerate(exps[stype]):\n",
    "        if i1 != i2:\n",
    "            corrs.append(pearsonr(df[e1],df[e2])[0])\n",
    "    avecorrs.append(np.mean(corrs))\n",
    "\n",
    "plt.hist(avecorrs, bins=25)\n",
    "plt.xlabel(\"average within experiment type correlation\")"
   ]
  },
  {
   "cell_type": "markdown",
   "metadata": {},
   "source": [
    "In both cases it looks like a cutoff of 0.95 seems reasonable. So let's do that. "
   ]
  },
  {
   "cell_type": "code",
   "execution_count": 61,
   "metadata": {},
   "outputs": [],
   "source": [
    "exps_filt = {}\n",
    "exps_filt['all'] = []\n",
    "\n",
    "corrcutoff = .95 \n",
    "\n",
    "for stype in ['wt','mut']:\n",
    "    for i1,e1 in enumerate(exps[stype]):\n",
    "        corrs = []\n",
    "        for i2,e2 in enumerate(exps[stype]):\n",
    "            if i1 != i2:\n",
    "                corrs.append(pearsonr(df[e1],df[e2])[0])\n",
    "        if np.mean(corrs) > corrcutoff:\n",
    "            exps_filt['all'].append(e1)\n",
    "        \n",
    "exps_filt['wt'] = [e for e in exps_filt['all'] if e.startswith('WT')] \n",
    "\n",
    "exps_filt['mut'] = [e for e in exps_filt['all'] if e.startswith('Snf2')] "
   ]
  },
  {
   "cell_type": "code",
   "execution_count": 62,
   "metadata": {},
   "outputs": [],
   "source": [
    "#\n",
    "# create a matrix to store correlation\n",
    "#\n",
    "\n",
    "datalen = len(exps_filt['all'])\n",
    "corrdata = np.zeros( (datalen,datalen))\n",
    "\n",
    "for i1,e1 in enumerate(exps_filt['all']):\n",
    "    for i2,e2 in enumerate(exps_filt['all']):\n",
    "        corrdata[i1][i2] = pearsonr(df[e1],df[e2])[0] \n",
    "      "
   ]
  },
  {
   "cell_type": "code",
   "execution_count": 65,
   "metadata": {
    "scrolled": true
   },
   "outputs": [
    {
     "data": {
      "text/plain": [
       "<matplotlib.colorbar.Colorbar at 0x1a278cb2b0>"
      ]
     },
     "execution_count": 65,
     "metadata": {},
     "output_type": "execute_result"
    },
    {
     "data": {
      "image/png": "[encoded data removed]",
      "text/plain": [
       "<Figure size 432x288 with 2 Axes>"
      ]
     },
     "metadata": {
      "needs_background": "light"
     },
     "output_type": "display_data"
    }
   ],
   "source": [
    "# plot data as a heatmap \n",
    "# this option maps every cell in the table into a colored pixel\n",
    "# the cmap, vmin and vmax options controls how the mapping is done\n",
    "\n",
    "plt.imshow(corrdata, cmap='jet')\n",
    "plt.colorbar()"
   ]
  },
  {
   "cell_type": "markdown",
   "metadata": {},
   "source": [
    "Still one possible outlier, but it's still strongly correlated with other experiments so let's leave it in. You can always revisit this later."
   ]
  },
  {
   "cell_type": "code",
   "execution_count": null,
   "metadata": {},
   "outputs": [],
   "source": []
  }
 ],
 "metadata": {
  "kernelspec": {
   "display_name": "Python 3",
   "language": "python",
   "name": "python3"
  },
  "language_info": {
   "codemirror_mode": {
    "name": "ipython",
    "version": 3
   },
   "file_extension": ".py",
   "mimetype": "text/x-python",
   "name": "python",
   "nbconvert_exporter": "python",
   "pygments_lexer": "ipython3",
   "version": "3.6.6"
  }
 },
 "nbformat": 4,
 "nbformat_minor": 2
}
